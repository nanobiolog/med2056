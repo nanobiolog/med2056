{
 "cells": [
  {
   "cell_type": "code",
   "execution_count": 1,
   "id": "93e62e5f",
   "metadata": {
    "execution": {
     "iopub.execute_input": "2023-08-02T16:56:13.332819Z",
     "iopub.status.busy": "2023-08-02T16:56:13.331890Z",
     "iopub.status.idle": "2023-08-02T16:56:14.697986Z",
     "shell.execute_reply": "2023-08-02T16:56:14.697065Z"
    },
    "papermill": {
     "duration": 1.382741,
     "end_time": "2023-08-02T16:56:14.700726",
     "exception": false,
     "start_time": "2023-08-02T16:56:13.317985",
     "status": "completed"
    },
    "tags": []
   },
   "outputs": [],
   "source": [
    "import numpy as np\n",
    "import pandas as pd\n",
    "import matplotlib.pyplot as plt\n",
    "import seaborn as sns"
   ]
  },
  {
   "cell_type": "code",
   "execution_count": 2,
   "id": "f424bdc8",
   "metadata": {
    "execution": {
     "iopub.execute_input": "2023-08-02T16:56:14.725796Z",
     "iopub.status.busy": "2023-08-02T16:56:14.724830Z",
     "iopub.status.idle": "2023-08-02T16:56:14.750113Z",
     "shell.execute_reply": "2023-08-02T16:56:14.749111Z"
    },
    "papermill": {
     "duration": 0.040823,
     "end_time": "2023-08-02T16:56:14.753116",
     "exception": false,
     "start_time": "2023-08-02T16:56:14.712293",
     "status": "completed"
    },
    "tags": []
   },
   "outputs": [],
   "source": [
    "df = pd.read_csv('heart.csv')"
   ]
  },
  {
   "cell_type": "code",
   "execution_count": 3,
   "id": "d2294929",
   "metadata": {
    "execution": {
     "iopub.execute_input": "2023-08-02T16:56:14.777620Z",
     "iopub.status.busy": "2023-08-02T16:56:14.776549Z",
     "iopub.status.idle": "2023-08-02T16:56:14.801248Z",
     "shell.execute_reply": "2023-08-02T16:56:14.799912Z"
    },
    "papermill": {
     "duration": 0.039571,
     "end_time": "2023-08-02T16:56:14.803924",
     "exception": false,
     "start_time": "2023-08-02T16:56:14.764353",
     "status": "completed"
    },
    "tags": []
   },
   "outputs": [
    {
     "data": {
      "text/html": [
       "<div>\n",
       "<style scoped>\n",
       "    .dataframe tbody tr th:only-of-type {\n",
       "        vertical-align: middle;\n",
       "    }\n",
       "\n",
       "    .dataframe tbody tr th {\n",
       "        vertical-align: top;\n",
       "    }\n",
       "\n",
       "    .dataframe thead th {\n",
       "        text-align: right;\n",
       "    }\n",
       "</style>\n",
       "<table border=\"1\" class=\"dataframe\">\n",
       "  <thead>\n",
       "    <tr style=\"text-align: right;\">\n",
       "      <th></th>\n",
       "      <th>age</th>\n",
       "      <th>sex</th>\n",
       "      <th>cp</th>\n",
       "      <th>trestbps</th>\n",
       "      <th>chol</th>\n",
       "      <th>fbs</th>\n",
       "      <th>restecg</th>\n",
       "      <th>thalach</th>\n",
       "      <th>exang</th>\n",
       "      <th>oldpeak</th>\n",
       "      <th>slope</th>\n",
       "      <th>ca</th>\n",
       "      <th>thal</th>\n",
       "      <th>target</th>\n",
       "    </tr>\n",
       "  </thead>\n",
       "  <tbody>\n",
       "    <tr>\n",
       "      <th>0</th>\n",
       "      <td>52</td>\n",
       "      <td>1</td>\n",
       "      <td>0</td>\n",
       "      <td>125</td>\n",
       "      <td>212</td>\n",
       "      <td>0</td>\n",
       "      <td>1</td>\n",
       "      <td>168</td>\n",
       "      <td>0</td>\n",
       "      <td>1.0</td>\n",
       "      <td>2</td>\n",
       "      <td>2</td>\n",
       "      <td>3</td>\n",
       "      <td>0</td>\n",
       "    </tr>\n",
       "    <tr>\n",
       "      <th>1</th>\n",
       "      <td>53</td>\n",
       "      <td>1</td>\n",
       "      <td>0</td>\n",
       "      <td>140</td>\n",
       "      <td>203</td>\n",
       "      <td>1</td>\n",
       "      <td>0</td>\n",
       "      <td>155</td>\n",
       "      <td>1</td>\n",
       "      <td>3.1</td>\n",
       "      <td>0</td>\n",
       "      <td>0</td>\n",
       "      <td>3</td>\n",
       "      <td>0</td>\n",
       "    </tr>\n",
       "    <tr>\n",
       "      <th>2</th>\n",
       "      <td>70</td>\n",
       "      <td>1</td>\n",
       "      <td>0</td>\n",
       "      <td>145</td>\n",
       "      <td>174</td>\n",
       "      <td>0</td>\n",
       "      <td>1</td>\n",
       "      <td>125</td>\n",
       "      <td>1</td>\n",
       "      <td>2.6</td>\n",
       "      <td>0</td>\n",
       "      <td>0</td>\n",
       "      <td>3</td>\n",
       "      <td>0</td>\n",
       "    </tr>\n",
       "    <tr>\n",
       "      <th>3</th>\n",
       "      <td>61</td>\n",
       "      <td>1</td>\n",
       "      <td>0</td>\n",
       "      <td>148</td>\n",
       "      <td>203</td>\n",
       "      <td>0</td>\n",
       "      <td>1</td>\n",
       "      <td>161</td>\n",
       "      <td>0</td>\n",
       "      <td>0.0</td>\n",
       "      <td>2</td>\n",
       "      <td>1</td>\n",
       "      <td>3</td>\n",
       "      <td>0</td>\n",
       "    </tr>\n",
       "    <tr>\n",
       "      <th>4</th>\n",
       "      <td>62</td>\n",
       "      <td>0</td>\n",
       "      <td>0</td>\n",
       "      <td>138</td>\n",
       "      <td>294</td>\n",
       "      <td>1</td>\n",
       "      <td>1</td>\n",
       "      <td>106</td>\n",
       "      <td>0</td>\n",
       "      <td>1.9</td>\n",
       "      <td>1</td>\n",
       "      <td>3</td>\n",
       "      <td>2</td>\n",
       "      <td>0</td>\n",
       "    </tr>\n",
       "  </tbody>\n",
       "</table>\n",
       "</div>"
      ],
      "text/plain": [
       "   age  sex  cp  trestbps  chol  fbs  restecg  thalach  exang  oldpeak  slope  \\\n",
       "0   52    1   0       125   212    0        1      168      0      1.0      2   \n",
       "1   53    1   0       140   203    1        0      155      1      3.1      0   \n",
       "2   70    1   0       145   174    0        1      125      1      2.6      0   \n",
       "3   61    1   0       148   203    0        1      161      0      0.0      2   \n",
       "4   62    0   0       138   294    1        1      106      0      1.9      1   \n",
       "\n",
       "   ca  thal  target  \n",
       "0   2     3       0  \n",
       "1   0     3       0  \n",
       "2   0     3       0  \n",
       "3   1     3       0  \n",
       "4   3     2       0  "
      ]
     },
     "execution_count": 3,
     "metadata": {},
     "output_type": "execute_result"
    }
   ],
   "source": [
    "df.head()"
   ]
  },
  {
   "cell_type": "code",
   "execution_count": 4,
   "id": "d51afcbf",
   "metadata": {
    "execution": {
     "iopub.execute_input": "2023-08-02T16:56:14.829678Z",
     "iopub.status.busy": "2023-08-02T16:56:14.828951Z",
     "iopub.status.idle": "2023-08-02T16:56:14.854681Z",
     "shell.execute_reply": "2023-08-02T16:56:14.853177Z"
    },
    "papermill": {
     "duration": 0.04126,
     "end_time": "2023-08-02T16:56:14.857102",
     "exception": false,
     "start_time": "2023-08-02T16:56:14.815842",
     "status": "completed"
    },
    "tags": []
   },
   "outputs": [
    {
     "name": "stdout",
     "output_type": "stream",
     "text": [
      "<class 'pandas.core.frame.DataFrame'>\n",
      "RangeIndex: 1025 entries, 0 to 1024\n",
      "Data columns (total 14 columns):\n",
      " #   Column    Non-Null Count  Dtype  \n",
      "---  ------    --------------  -----  \n",
      " 0   age       1025 non-null   int64  \n",
      " 1   sex       1025 non-null   int64  \n",
      " 2   cp        1025 non-null   int64  \n",
      " 3   trestbps  1025 non-null   int64  \n",
      " 4   chol      1025 non-null   int64  \n",
      " 5   fbs       1025 non-null   int64  \n",
      " 6   restecg   1025 non-null   int64  \n",
      " 7   thalach   1025 non-null   int64  \n",
      " 8   exang     1025 non-null   int64  \n",
      " 9   oldpeak   1025 non-null   float64\n",
      " 10  slope     1025 non-null   int64  \n",
      " 11  ca        1025 non-null   int64  \n",
      " 12  thal      1025 non-null   int64  \n",
      " 13  target    1025 non-null   int64  \n",
      "dtypes: float64(1), int64(13)\n",
      "memory usage: 112.2 KB\n"
     ]
    }
   ],
   "source": [
    "df.info()"
   ]
  },
  {
   "cell_type": "code",
   "execution_count": 5,
   "id": "0735cb35",
   "metadata": {
    "execution": {
     "iopub.execute_input": "2023-08-02T16:56:14.883844Z",
     "iopub.status.busy": "2023-08-02T16:56:14.883191Z",
     "iopub.status.idle": "2023-08-02T16:56:14.945694Z",
     "shell.execute_reply": "2023-08-02T16:56:14.944295Z"
    },
    "papermill": {
     "duration": 0.078157,
     "end_time": "2023-08-02T16:56:14.948332",
     "exception": false,
     "start_time": "2023-08-02T16:56:14.870175",
     "status": "completed"
    },
    "tags": []
   },
   "outputs": [
    {
     "data": {
      "text/html": [
       "<div>\n",
       "<style scoped>\n",
       "    .dataframe tbody tr th:only-of-type {\n",
       "        vertical-align: middle;\n",
       "    }\n",
       "\n",
       "    .dataframe tbody tr th {\n",
       "        vertical-align: top;\n",
       "    }\n",
       "\n",
       "    .dataframe thead th {\n",
       "        text-align: right;\n",
       "    }\n",
       "</style>\n",
       "<table border=\"1\" class=\"dataframe\">\n",
       "  <thead>\n",
       "    <tr style=\"text-align: right;\">\n",
       "      <th></th>\n",
       "      <th>count</th>\n",
       "      <th>mean</th>\n",
       "      <th>std</th>\n",
       "      <th>min</th>\n",
       "      <th>25%</th>\n",
       "      <th>50%</th>\n",
       "      <th>75%</th>\n",
       "      <th>max</th>\n",
       "    </tr>\n",
       "  </thead>\n",
       "  <tbody>\n",
       "    <tr>\n",
       "      <th>age</th>\n",
       "      <td>1025.0</td>\n",
       "      <td>54.434146</td>\n",
       "      <td>9.072290</td>\n",
       "      <td>29.0</td>\n",
       "      <td>48.0</td>\n",
       "      <td>56.0</td>\n",
       "      <td>61.0</td>\n",
       "      <td>77.0</td>\n",
       "    </tr>\n",
       "    <tr>\n",
       "      <th>sex</th>\n",
       "      <td>1025.0</td>\n",
       "      <td>0.695610</td>\n",
       "      <td>0.460373</td>\n",
       "      <td>0.0</td>\n",
       "      <td>0.0</td>\n",
       "      <td>1.0</td>\n",
       "      <td>1.0</td>\n",
       "      <td>1.0</td>\n",
       "    </tr>\n",
       "    <tr>\n",
       "      <th>cp</th>\n",
       "      <td>1025.0</td>\n",
       "      <td>0.942439</td>\n",
       "      <td>1.029641</td>\n",
       "      <td>0.0</td>\n",
       "      <td>0.0</td>\n",
       "      <td>1.0</td>\n",
       "      <td>2.0</td>\n",
       "      <td>3.0</td>\n",
       "    </tr>\n",
       "    <tr>\n",
       "      <th>trestbps</th>\n",
       "      <td>1025.0</td>\n",
       "      <td>131.611707</td>\n",
       "      <td>17.516718</td>\n",
       "      <td>94.0</td>\n",
       "      <td>120.0</td>\n",
       "      <td>130.0</td>\n",
       "      <td>140.0</td>\n",
       "      <td>200.0</td>\n",
       "    </tr>\n",
       "    <tr>\n",
       "      <th>chol</th>\n",
       "      <td>1025.0</td>\n",
       "      <td>246.000000</td>\n",
       "      <td>51.592510</td>\n",
       "      <td>126.0</td>\n",
       "      <td>211.0</td>\n",
       "      <td>240.0</td>\n",
       "      <td>275.0</td>\n",
       "      <td>564.0</td>\n",
       "    </tr>\n",
       "    <tr>\n",
       "      <th>fbs</th>\n",
       "      <td>1025.0</td>\n",
       "      <td>0.149268</td>\n",
       "      <td>0.356527</td>\n",
       "      <td>0.0</td>\n",
       "      <td>0.0</td>\n",
       "      <td>0.0</td>\n",
       "      <td>0.0</td>\n",
       "      <td>1.0</td>\n",
       "    </tr>\n",
       "    <tr>\n",
       "      <th>restecg</th>\n",
       "      <td>1025.0</td>\n",
       "      <td>0.529756</td>\n",
       "      <td>0.527878</td>\n",
       "      <td>0.0</td>\n",
       "      <td>0.0</td>\n",
       "      <td>1.0</td>\n",
       "      <td>1.0</td>\n",
       "      <td>2.0</td>\n",
       "    </tr>\n",
       "    <tr>\n",
       "      <th>thalach</th>\n",
       "      <td>1025.0</td>\n",
       "      <td>149.114146</td>\n",
       "      <td>23.005724</td>\n",
       "      <td>71.0</td>\n",
       "      <td>132.0</td>\n",
       "      <td>152.0</td>\n",
       "      <td>166.0</td>\n",
       "      <td>202.0</td>\n",
       "    </tr>\n",
       "    <tr>\n",
       "      <th>exang</th>\n",
       "      <td>1025.0</td>\n",
       "      <td>0.336585</td>\n",
       "      <td>0.472772</td>\n",
       "      <td>0.0</td>\n",
       "      <td>0.0</td>\n",
       "      <td>0.0</td>\n",
       "      <td>1.0</td>\n",
       "      <td>1.0</td>\n",
       "    </tr>\n",
       "    <tr>\n",
       "      <th>oldpeak</th>\n",
       "      <td>1025.0</td>\n",
       "      <td>1.071512</td>\n",
       "      <td>1.175053</td>\n",
       "      <td>0.0</td>\n",
       "      <td>0.0</td>\n",
       "      <td>0.8</td>\n",
       "      <td>1.8</td>\n",
       "      <td>6.2</td>\n",
       "    </tr>\n",
       "    <tr>\n",
       "      <th>slope</th>\n",
       "      <td>1025.0</td>\n",
       "      <td>1.385366</td>\n",
       "      <td>0.617755</td>\n",
       "      <td>0.0</td>\n",
       "      <td>1.0</td>\n",
       "      <td>1.0</td>\n",
       "      <td>2.0</td>\n",
       "      <td>2.0</td>\n",
       "    </tr>\n",
       "    <tr>\n",
       "      <th>ca</th>\n",
       "      <td>1025.0</td>\n",
       "      <td>0.754146</td>\n",
       "      <td>1.030798</td>\n",
       "      <td>0.0</td>\n",
       "      <td>0.0</td>\n",
       "      <td>0.0</td>\n",
       "      <td>1.0</td>\n",
       "      <td>4.0</td>\n",
       "    </tr>\n",
       "    <tr>\n",
       "      <th>thal</th>\n",
       "      <td>1025.0</td>\n",
       "      <td>2.323902</td>\n",
       "      <td>0.620660</td>\n",
       "      <td>0.0</td>\n",
       "      <td>2.0</td>\n",
       "      <td>2.0</td>\n",
       "      <td>3.0</td>\n",
       "      <td>3.0</td>\n",
       "    </tr>\n",
       "    <tr>\n",
       "      <th>target</th>\n",
       "      <td>1025.0</td>\n",
       "      <td>0.513171</td>\n",
       "      <td>0.500070</td>\n",
       "      <td>0.0</td>\n",
       "      <td>0.0</td>\n",
       "      <td>1.0</td>\n",
       "      <td>1.0</td>\n",
       "      <td>1.0</td>\n",
       "    </tr>\n",
       "  </tbody>\n",
       "</table>\n",
       "</div>"
      ],
      "text/plain": [
       "           count        mean        std    min    25%    50%    75%    max\n",
       "age       1025.0   54.434146   9.072290   29.0   48.0   56.0   61.0   77.0\n",
       "sex       1025.0    0.695610   0.460373    0.0    0.0    1.0    1.0    1.0\n",
       "cp        1025.0    0.942439   1.029641    0.0    0.0    1.0    2.0    3.0\n",
       "trestbps  1025.0  131.611707  17.516718   94.0  120.0  130.0  140.0  200.0\n",
       "chol      1025.0  246.000000  51.592510  126.0  211.0  240.0  275.0  564.0\n",
       "fbs       1025.0    0.149268   0.356527    0.0    0.0    0.0    0.0    1.0\n",
       "restecg   1025.0    0.529756   0.527878    0.0    0.0    1.0    1.0    2.0\n",
       "thalach   1025.0  149.114146  23.005724   71.0  132.0  152.0  166.0  202.0\n",
       "exang     1025.0    0.336585   0.472772    0.0    0.0    0.0    1.0    1.0\n",
       "oldpeak   1025.0    1.071512   1.175053    0.0    0.0    0.8    1.8    6.2\n",
       "slope     1025.0    1.385366   0.617755    0.0    1.0    1.0    2.0    2.0\n",
       "ca        1025.0    0.754146   1.030798    0.0    0.0    0.0    1.0    4.0\n",
       "thal      1025.0    2.323902   0.620660    0.0    2.0    2.0    3.0    3.0\n",
       "target    1025.0    0.513171   0.500070    0.0    0.0    1.0    1.0    1.0"
      ]
     },
     "execution_count": 5,
     "metadata": {},
     "output_type": "execute_result"
    }
   ],
   "source": [
    "df.describe().transpose()"
   ]
  },
  {
   "cell_type": "code",
   "execution_count": 6,
   "id": "b596ae96",
   "metadata": {
    "execution": {
     "iopub.execute_input": "2023-08-02T16:56:14.974804Z",
     "iopub.status.busy": "2023-08-02T16:56:14.973983Z",
     "iopub.status.idle": "2023-08-02T16:56:14.983131Z",
     "shell.execute_reply": "2023-08-02T16:56:14.981929Z"
    },
    "papermill": {
     "duration": 0.024916,
     "end_time": "2023-08-02T16:56:14.985516",
     "exception": false,
     "start_time": "2023-08-02T16:56:14.960600",
     "status": "completed"
    },
    "tags": []
   },
   "outputs": [
    {
     "data": {
      "text/plain": [
       "target\n",
       "1    526\n",
       "0    499\n",
       "Name: count, dtype: int64"
      ]
     },
     "execution_count": 6,
     "metadata": {},
     "output_type": "execute_result"
    }
   ],
   "source": [
    "df['target'].value_counts()"
   ]
  },
  {
   "cell_type": "code",
   "execution_count": 7,
   "id": "862532a9",
   "metadata": {
    "execution": {
     "iopub.execute_input": "2023-08-02T16:56:15.012222Z",
     "iopub.status.busy": "2023-08-02T16:56:15.011384Z",
     "iopub.status.idle": "2023-08-02T16:56:15.268110Z",
     "shell.execute_reply": "2023-08-02T16:56:15.266899Z"
    },
    "papermill": {
     "duration": 0.272647,
     "end_time": "2023-08-02T16:56:15.270488",
     "exception": false,
     "start_time": "2023-08-02T16:56:14.997841",
     "status": "completed"
    },
    "tags": []
   },
   "outputs": [
    {
     "data": {
      "text/plain": [
       "<Axes: xlabel='target', ylabel='count'>"
      ]
     },
     "execution_count": 7,
     "metadata": {},
     "output_type": "execute_result"
    },
    {
     "data": {
      "image/png": "[encoded data removed]",
      "text/plain": [
       "<Figure size 640x480 with 1 Axes>"
      ]
     },
     "metadata": {},
     "output_type": "display_data"
    }
   ],
   "source": [
    "sns.countplot(x='target', data = df)"
   ]
  },
  {
   "cell_type": "markdown",
   "id": "dc9e2845",
   "metadata": {
    "papermill": {
     "duration": 0.023915,
     "end_time": "2023-08-02T16:56:29.162217",
     "exception": false,
     "start_time": "2023-08-02T16:56:29.138302",
     "status": "completed"
    },
    "tags": []
   },
   "source": [
    "### Train Test Split || Data Preperation"
   ]
  },
  {
   "cell_type": "code",
   "execution_count": 8,
   "id": "f20ddac2",
   "metadata": {
    "execution": {
     "iopub.execute_input": "2023-08-02T16:56:29.213640Z",
     "iopub.status.busy": "2023-08-02T16:56:29.212815Z",
     "iopub.status.idle": "2023-08-02T16:56:29.219363Z",
     "shell.execute_reply": "2023-08-02T16:56:29.218224Z"
    },
    "papermill": {
     "duration": 0.034893,
     "end_time": "2023-08-02T16:56:29.221775",
     "exception": false,
     "start_time": "2023-08-02T16:56:29.186882",
     "status": "completed"
    },
    "tags": []
   },
   "outputs": [],
   "source": [
    "X = df.drop('target', axis=1)\n",
    "y = df['target']"
   ]
  },
  {
   "cell_type": "code",
   "execution_count": 9,
   "id": "18c4e488",
   "metadata": {
    "execution": {
     "iopub.execute_input": "2023-08-02T16:56:29.272211Z",
     "iopub.status.busy": "2023-08-02T16:56:29.271839Z",
     "iopub.status.idle": "2023-08-02T16:56:29.527316Z",
     "shell.execute_reply": "2023-08-02T16:56:29.526130Z"
    },
    "papermill": {
     "duration": 0.284122,
     "end_time": "2023-08-02T16:56:29.530100",
     "exception": false,
     "start_time": "2023-08-02T16:56:29.245978",
     "status": "completed"
    },
    "tags": []
   },
   "outputs": [],
   "source": [
    "from sklearn.model_selection import train_test_split"
   ]
  },
  {
   "cell_type": "code",
   "execution_count": 10,
   "id": "91305774",
   "metadata": {
    "execution": {
     "iopub.execute_input": "2023-08-02T16:56:29.583044Z",
     "iopub.status.busy": "2023-08-02T16:56:29.582644Z",
     "iopub.status.idle": "2023-08-02T16:56:29.590260Z",
     "shell.execute_reply": "2023-08-02T16:56:29.589435Z"
    },
    "papermill": {
     "duration": 0.037535,
     "end_time": "2023-08-02T16:56:29.592529",
     "exception": false,
     "start_time": "2023-08-02T16:56:29.554994",
     "status": "completed"
    },
    "tags": []
   },
   "outputs": [],
   "source": [
    "X_train, X_test, y_train, y_test = train_test_split(X, y, test_size=0.25, random_state=101)"
   ]
  },
  {
   "cell_type": "code",
   "execution_count": 11,
   "id": "a9256c63",
   "metadata": {},
   "outputs": [
    {
     "name": "stdout",
     "output_type": "stream",
     "text": [
      "     age  sex  cp  trestbps  chol  fbs  restecg  thalach  exang  oldpeak  \\\n",
      "528   59    1   3       178   270    0        0      145      0      4.2   \n",
      "572   34    1   3       118   182    0        0      174      0      0.0   \n",
      "860   52    1   0       112   230    0        1      160      0      0.0   \n",
      "432   60    0   2       102   318    0        1      160      0      0.0   \n",
      "205   42    1   3       148   244    0        0      178      0      0.8   \n",
      "..   ...  ...  ..       ...   ...  ...      ...      ...    ...      ...   \n",
      "575   43    1   0       150   247    0        1      171      0      1.5   \n",
      "838   51    1   3       125   213    0        0      125      1      1.4   \n",
      "337   54    1   2       125   273    0        0      152      0      0.5   \n",
      "523   61    1   0       148   203    0        1      161      0      0.0   \n",
      "863   52    1   0       125   212    0        1      168      0      1.0   \n",
      "\n",
      "     slope  ca  thal  \n",
      "528      0   0     3  \n",
      "572      2   0     2  \n",
      "860      2   1     2  \n",
      "432      2   1     2  \n",
      "205      2   2     2  \n",
      "..     ...  ..   ...  \n",
      "575      2   0     2  \n",
      "838      2   1     2  \n",
      "337      0   1     2  \n",
      "523      2   1     3  \n",
      "863      2   2     3  \n",
      "\n",
      "[768 rows x 13 columns]\n"
     ]
    }
   ],
   "source": [
    "print(X_train)"
   ]
  },
  {
   "cell_type": "code",
   "execution_count": 12,
   "id": "0552bb9e",
   "metadata": {},
   "outputs": [
    {
     "name": "stdout",
     "output_type": "stream",
     "text": [
      "     age  sex  cp  trestbps  chol  fbs  restecg  thalach  exang  oldpeak  \\\n",
      "909   50    1   0       144   200    0        0      126      1      0.9   \n",
      "748   44    1   2       120   226    0        1      169      0      0.0   \n",
      "919   38    1   3       120   231    0        1      182      1      3.8   \n",
      "975   39    1   0       118   219    0        1      140      0      1.2   \n",
      "246   54    1   1       192   283    0        0      195      0      0.0   \n",
      "..   ...  ...  ..       ...   ...  ...      ...      ...    ...      ...   \n",
      "141   63    0   0       124   197    0        1      136      1      0.0   \n",
      "12    34    0   1       118   210    0        1      192      0      0.7   \n",
      "228   52    1   1       128   205    1        1      184      0      0.0   \n",
      "951   62    0   2       130   263    0        1       97      0      1.2   \n",
      "949   57    1   0       132   207    0        1      168      1      0.0   \n",
      "\n",
      "     slope  ca  thal  \n",
      "909      1   0     3  \n",
      "748      2   0     2  \n",
      "919      1   0     3  \n",
      "975      1   0     3  \n",
      "246      2   1     3  \n",
      "..     ...  ..   ...  \n",
      "141      1   0     2  \n",
      "12       2   0     2  \n",
      "228      2   0     2  \n",
      "951      1   1     3  \n",
      "949      2   0     3  \n",
      "\n",
      "[257 rows x 13 columns]\n"
     ]
    }
   ],
   "source": [
    "print(X_test)"
   ]
  },
  {
   "cell_type": "markdown",
   "id": "673dd4ef",
   "metadata": {},
   "source": [
    "# scikit-learn StandardScaler\n",
    "\n",
    "The `StandardScaler` is a preprocessing technique provided by scikit-learn, a popular machine learning library in Python. It is used to standardize the features of a dataset by removing the mean and scaling them to unit variance.\n",
    "\n",
    "## Why Standardization?\n",
    "\n",
    "In many machine learning algorithms, the scale of features can impact the model's performance. Some algorithms, like support vector machines or k-means clustering, are sensitive to the scale of input features. Standardizing the features ensures that they have a mean of 0 and a standard deviation of 1, making them comparable and preventing certain features from dominating others.\n",
    "\n",
    "## How to Use StandardScaler\n",
    "\n",
    "To use `StandardScaler`, follow these steps:\n",
    "\n",
    "1. Import the `StandardScaler` class from scikit-learn:\n",
    "    ```python\n",
    "    from sklearn.preprocessing import StandardScaler\n",
    "    ```\n",
    "\n",
    "2. Create an instance of `StandardScaler`:\n",
    "    ```python\n",
    "    scaler = StandardScaler()\n",
    "    ```\n",
    "\n",
    "3. Fit the scaler to your data and transform the data in one step:\n",
    "    ```python\n",
    "    X_scaled = scaler.fit_transform(X)\n",
    "    ```\n",
    "\n",
    "   Here, `X` is your original data matrix.\n",
    "\n",
    "4. Alternatively, you can fit the scaler on one set of data and transform another set:\n",
    "    ```python\n",
    "    X_train_scaled = scaler.fit_transform(X_train)\n",
    "    X_test_scaled = scaler.transform(X_test)\n",
    "    ```"
   ]
  },
  {
   "cell_type": "code",
   "execution_count": 13,
   "id": "b0a6f1a8",
   "metadata": {
    "execution": {
     "iopub.execute_input": "2023-08-02T16:56:29.644524Z",
     "iopub.status.busy": "2023-08-02T16:56:29.643524Z",
     "iopub.status.idle": "2023-08-02T16:56:29.648203Z",
     "shell.execute_reply": "2023-08-02T16:56:29.647317Z"
    },
    "papermill": {
     "duration": 0.033001,
     "end_time": "2023-08-02T16:56:29.650442",
     "exception": false,
     "start_time": "2023-08-02T16:56:29.617441",
     "status": "completed"
    },
    "tags": []
   },
   "outputs": [],
   "source": [
    "from sklearn.preprocessing import StandardScaler"
   ]
  },
  {
   "cell_type": "code",
   "execution_count": 14,
   "id": "435fc4db",
   "metadata": {
    "execution": {
     "iopub.execute_input": "2023-08-02T16:56:29.701073Z",
     "iopub.status.busy": "2023-08-02T16:56:29.700706Z",
     "iopub.status.idle": "2023-08-02T16:56:29.705820Z",
     "shell.execute_reply": "2023-08-02T16:56:29.704667Z"
    },
    "papermill": {
     "duration": 0.033409,
     "end_time": "2023-08-02T16:56:29.708198",
     "exception": false,
     "start_time": "2023-08-02T16:56:29.674789",
     "status": "completed"
    },
    "tags": []
   },
   "outputs": [],
   "source": [
    "sacler = StandardScaler()"
   ]
  },
  {
   "cell_type": "code",
   "execution_count": 15,
   "id": "4244c5e5",
   "metadata": {
    "execution": {
     "iopub.execute_input": "2023-08-02T16:56:29.759270Z",
     "iopub.status.busy": "2023-08-02T16:56:29.758886Z",
     "iopub.status.idle": "2023-08-02T16:56:29.771809Z",
     "shell.execute_reply": "2023-08-02T16:56:29.770851Z"
    },
    "papermill": {
     "duration": 0.041076,
     "end_time": "2023-08-02T16:56:29.774055",
     "exception": false,
     "start_time": "2023-08-02T16:56:29.732979",
     "status": "completed"
    },
    "tags": []
   },
   "outputs": [],
   "source": [
    "X_train = sacler.fit_transform(X_train)\n",
    "X_test = sacler.fit_transform(X_test)"
   ]
  },
  {
   "cell_type": "code",
   "execution_count": 18,
   "id": "a95f69ce",
   "metadata": {},
   "outputs": [
    {
     "data": {
      "text/plain": [
       "(array([  3.,  26.,  83., 102.,  87., 139., 171., 117.,  32.,   8.]),\n",
       " array([-2.80407613, -2.27662709, -1.74917805, -1.22172902, -0.69427998,\n",
       "        -0.16683094,  0.3606181 ,  0.88806714,  1.41551617,  1.94296521,\n",
       "         2.47041425]),\n",
       " <BarContainer object of 10 artists>)"
      ]
     },
     "execution_count": 18,
     "metadata": {},
     "output_type": "execute_result"
    },
    {
     "data": {
      "image/png": "[encoded data removed]",
      "text/plain": [
       "<Figure size 640x480 with 1 Axes>"
      ]
     },
     "metadata": {},
     "output_type": "display_data"
    }
   ],
   "source": [
    "plt.hist(X_train[:,0])"
   ]
  },
  {
   "cell_type": "code",
   "execution_count": 24,
   "id": "bc41c0cc",
   "metadata": {},
   "outputs": [
    {
     "data": {
      "text/plain": [
       "(768, 13)"
      ]
     },
     "execution_count": 24,
     "metadata": {},
     "output_type": "execute_result"
    }
   ],
   "source": [
    "print(X_train.shape)"
   ]
  },
  {
   "cell_type": "code",
   "execution_count": 25,
   "id": "7e17cb4f",
   "metadata": {},
   "outputs": [
    {
     "name": "stdout",
     "output_type": "stream",
     "text": [
      "<class 'numpy.ndarray'>\n"
     ]
    }
   ],
   "source": [
    "print(type(X_train))"
   ]
  },
  {
   "cell_type": "markdown",
   "id": "35b5c85c",
   "metadata": {
    "papermill": {
     "duration": 0.02411,
     "end_time": "2023-08-02T16:56:29.822444",
     "exception": false,
     "start_time": "2023-08-02T16:56:29.798334",
     "status": "completed"
    },
    "tags": []
   },
   "source": [
    "### Logistics Regression  Model"
   ]
  },
  {
   "cell_type": "code",
   "execution_count": 21,
   "id": "58952b06",
   "metadata": {
    "execution": {
     "iopub.execute_input": "2023-08-02T16:56:29.873738Z",
     "iopub.status.busy": "2023-08-02T16:56:29.873364Z",
     "iopub.status.idle": "2023-08-02T16:56:29.971830Z",
     "shell.execute_reply": "2023-08-02T16:56:29.970721Z"
    },
    "papermill": {
     "duration": 0.12745,
     "end_time": "2023-08-02T16:56:29.974473",
     "exception": false,
     "start_time": "2023-08-02T16:56:29.847023",
     "status": "completed"
    },
    "tags": []
   },
   "outputs": [],
   "source": [
    "from sklearn.linear_model import  LogisticRegression"
   ]
  },
  {
   "cell_type": "code",
   "execution_count": 22,
   "id": "8406d1ca",
   "metadata": {
    "execution": {
     "iopub.execute_input": "2023-08-02T16:56:30.025249Z",
     "iopub.status.busy": "2023-08-02T16:56:30.024862Z",
     "iopub.status.idle": "2023-08-02T16:56:30.037538Z",
     "shell.execute_reply": "2023-08-02T16:56:30.036226Z"
    },
    "papermill": {
     "duration": 0.044561,
     "end_time": "2023-08-02T16:56:30.043484",
     "exception": false,
     "start_time": "2023-08-02T16:56:29.998923",
     "status": "completed"
    },
    "tags": []
   },
   "outputs": [
    {
     "name": "stdout",
     "output_type": "stream",
     "text": [
      "Help on class LogisticRegression in module sklearn.linear_model._logistic:\n",
      "\n",
      "class LogisticRegression(sklearn.linear_model._base.LinearClassifierMixin, sklearn.linear_model._base.SparseCoefMixin, sklearn.base.BaseEstimator)\n",
      " |  LogisticRegression(penalty='l2', *, dual=False, tol=0.0001, C=1.0, fit_intercept=True, intercept_scaling=1, class_weight=None, random_state=None, solver='lbfgs', max_iter=100, multi_class='auto', verbose=0, warm_start=False, n_jobs=None, l1_ratio=None)\n",
      " |  \n",
      " |  Logistic Regression (aka logit, MaxEnt) classifier.\n",
      " |  \n",
      " |  In the multiclass case, the training algorithm uses the one-vs-rest (OvR)\n",
      " |  scheme if the 'multi_class' option is set to 'ovr', and uses the\n",
      " |  cross-entropy loss if the 'multi_class' option is set to 'multinomial'.\n",
      " |  (Currently the 'multinomial' option is supported only by the 'lbfgs',\n",
      " |  'sag', 'saga' and 'newton-cg' solvers.)\n",
      " |  \n",
      " |  This class implements regularized logistic regression using the\n",
      " |  'liblinear' library, 'newton-cg', 'sag', 'saga' and 'lbfgs' solvers. **Note\n",
      " |  that regularization is applied by default**. It can handle both dense\n",
      " |  and sparse input. Use C-ordered arrays or CSR matrices containing 64-bit\n",
      " |  floats for optimal performance; any other input format will be converted\n",
      " |  (and copied).\n",
      " |  \n",
      " |  The 'newton-cg', 'sag', and 'lbfgs' solvers support only L2 regularization\n",
      " |  with primal formulation, or no regularization. The 'liblinear' solver\n",
      " |  supports both L1 and L2 regularization, with a dual formulation only for\n",
      " |  the L2 penalty. The Elastic-Net regularization is only supported by the\n",
      " |  'saga' solver.\n",
      " |  \n",
      " |  Read more in the :ref:`User Guide <logistic_regression>`.\n",
      " |  \n",
      " |  Parameters\n",
      " |  ----------\n",
      " |  penalty : {'l1', 'l2', 'elasticnet', None}, default='l2'\n",
      " |      Specify the norm of the penalty:\n",
      " |  \n",
      " |      - `None`: no penalty is added;\n",
      " |      - `'l2'`: add a L2 penalty term and it is the default choice;\n",
      " |      - `'l1'`: add a L1 penalty term;\n",
      " |      - `'elasticnet'`: both L1 and L2 penalty terms are added.\n",
      " |  \n",
      " |      .. warning::\n",
      " |         Some penalties may not work with some solvers. See the parameter\n",
      " |         `solver` below, to know the compatibility between the penalty and\n",
      " |         solver.\n",
      " |  \n",
      " |      .. versionadded:: 0.19\n",
      " |         l1 penalty with SAGA solver (allowing 'multinomial' + L1)\n",
      " |  \n",
      " |      .. deprecated:: 1.2\n",
      " |         The 'none' option was deprecated in version 1.2, and will be removed\n",
      " |         in 1.4. Use `None` instead.\n",
      " |  \n",
      " |  dual : bool, default=False\n",
      " |      Dual or primal formulation. Dual formulation is only implemented for\n",
      " |      l2 penalty with liblinear solver. Prefer dual=False when\n",
      " |      n_samples > n_features.\n",
      " |  \n",
      " |  tol : float, default=1e-4\n",
      " |      Tolerance for stopping criteria.\n",
      " |  \n",
      " |  C : float, default=1.0\n",
      " |      Inverse of regularization strength; must be a positive float.\n",
      " |      Like in support vector machines, smaller values specify stronger\n",
      " |      regularization.\n",
      " |  \n",
      " |  fit_intercept : bool, default=True\n",
      " |      Specifies if a constant (a.k.a. bias or intercept) should be\n",
      " |      added to the decision function.\n",
      " |  \n",
      " |  intercept_scaling : float, default=1\n",
      " |      Useful only when the solver 'liblinear' is used\n",
      " |      and self.fit_intercept is set to True. In this case, x becomes\n",
      " |      [x, self.intercept_scaling],\n",
      " |      i.e. a \"synthetic\" feature with constant value equal to\n",
      " |      intercept_scaling is appended to the instance vector.\n",
      " |      The intercept becomes ``intercept_scaling * synthetic_feature_weight``.\n",
      " |  \n",
      " |      Note! the synthetic feature weight is subject to l1/l2 regularization\n",
      " |      as all other features.\n",
      " |      To lessen the effect of regularization on synthetic feature weight\n",
      " |      (and therefore on the intercept) intercept_scaling has to be increased.\n",
      " |  \n",
      " |  class_weight : dict or 'balanced', default=None\n",
      " |      Weights associated with classes in the form ``{class_label: weight}``.\n",
      " |      If not given, all classes are supposed to have weight one.\n",
      " |  \n",
      " |      The \"balanced\" mode uses the values of y to automatically adjust\n",
      " |      weights inversely proportional to class frequencies in the input data\n",
      " |      as ``n_samples / (n_classes * np.bincount(y))``.\n",
      " |  \n",
      " |      Note that these weights will be multiplied with sample_weight (passed\n",
      " |      through the fit method) if sample_weight is specified.\n",
      " |  \n",
      " |      .. versionadded:: 0.17\n",
      " |         *class_weight='balanced'*\n",
      " |  \n",
      " |  random_state : int, RandomState instance, default=None\n",
      " |      Used when ``solver`` == 'sag', 'saga' or 'liblinear' to shuffle the\n",
      " |      data. See :term:`Glossary <random_state>` for details.\n",
      " |  \n",
      " |  solver : {'lbfgs', 'liblinear', 'newton-cg', 'newton-cholesky', 'sag', 'saga'},             default='lbfgs'\n",
      " |  \n",
      " |      Algorithm to use in the optimization problem. Default is 'lbfgs'.\n",
      " |      To choose a solver, you might want to consider the following aspects:\n",
      " |  \n",
      " |          - For small datasets, 'liblinear' is a good choice, whereas 'sag'\n",
      " |            and 'saga' are faster for large ones;\n",
      " |          - For multiclass problems, only 'newton-cg', 'sag', 'saga' and\n",
      " |            'lbfgs' handle multinomial loss;\n",
      " |          - 'liblinear' is limited to one-versus-rest schemes.\n",
      " |          - 'newton-cholesky' is a good choice for `n_samples` >> `n_features`,\n",
      " |            especially with one-hot encoded categorical features with rare\n",
      " |            categories. Note that it is limited to binary classification and the\n",
      " |            one-versus-rest reduction for multiclass classification. Be aware that\n",
      " |            the memory usage of this solver has a quadratic dependency on\n",
      " |            `n_features` because it explicitly computes the Hessian matrix.\n",
      " |  \n",
      " |      .. warning::\n",
      " |         The choice of the algorithm depends on the penalty chosen.\n",
      " |         Supported penalties by solver:\n",
      " |  \n",
      " |         - 'lbfgs'           -   ['l2', None]\n",
      " |         - 'liblinear'       -   ['l1', 'l2']\n",
      " |         - 'newton-cg'       -   ['l2', None]\n",
      " |         - 'newton-cholesky' -   ['l2', None]\n",
      " |         - 'sag'             -   ['l2', None]\n",
      " |         - 'saga'            -   ['elasticnet', 'l1', 'l2', None]\n",
      " |  \n",
      " |      .. note::\n",
      " |         'sag' and 'saga' fast convergence is only guaranteed on features\n",
      " |         with approximately the same scale. You can preprocess the data with\n",
      " |         a scaler from :mod:`sklearn.preprocessing`.\n",
      " |  \n",
      " |      .. seealso::\n",
      " |         Refer to the User Guide for more information regarding\n",
      " |         :class:`LogisticRegression` and more specifically the\n",
      " |         :ref:`Table <Logistic_regression>`\n",
      " |         summarizing solver/penalty supports.\n",
      " |  \n",
      " |      .. versionadded:: 0.17\n",
      " |         Stochastic Average Gradient descent solver.\n",
      " |      .. versionadded:: 0.19\n",
      " |         SAGA solver.\n",
      " |      .. versionchanged:: 0.22\n",
      " |          The default solver changed from 'liblinear' to 'lbfgs' in 0.22.\n",
      " |      .. versionadded:: 1.2\n",
      " |         newton-cholesky solver.\n",
      " |  \n",
      " |  max_iter : int, default=100\n",
      " |      Maximum number of iterations taken for the solvers to converge.\n",
      " |  \n",
      " |  multi_class : {'auto', 'ovr', 'multinomial'}, default='auto'\n",
      " |      If the option chosen is 'ovr', then a binary problem is fit for each\n",
      " |      label. For 'multinomial' the loss minimised is the multinomial loss fit\n",
      " |      across the entire probability distribution, *even when the data is\n",
      " |      binary*. 'multinomial' is unavailable when solver='liblinear'.\n",
      " |      'auto' selects 'ovr' if the data is binary, or if solver='liblinear',\n",
      " |      and otherwise selects 'multinomial'.\n",
      " |  \n",
      " |      .. versionadded:: 0.18\n",
      " |         Stochastic Average Gradient descent solver for 'multinomial' case.\n",
      " |      .. versionchanged:: 0.22\n",
      " |          Default changed from 'ovr' to 'auto' in 0.22.\n",
      " |  \n",
      " |  verbose : int, default=0\n",
      " |      For the liblinear and lbfgs solvers set verbose to any positive\n",
      " |      number for verbosity.\n",
      " |  \n",
      " |  warm_start : bool, default=False\n",
      " |      When set to True, reuse the solution of the previous call to fit as\n",
      " |      initialization, otherwise, just erase the previous solution.\n",
      " |      Useless for liblinear solver. See :term:`the Glossary <warm_start>`.\n",
      " |  \n",
      " |      .. versionadded:: 0.17\n",
      " |         *warm_start* to support *lbfgs*, *newton-cg*, *sag*, *saga* solvers.\n",
      " |  \n",
      " |  n_jobs : int, default=None\n",
      " |      Number of CPU cores used when parallelizing over classes if\n",
      " |      multi_class='ovr'\". This parameter is ignored when the ``solver`` is\n",
      " |      set to 'liblinear' regardless of whether 'multi_class' is specified or\n",
      " |      not. ``None`` means 1 unless in a :obj:`joblib.parallel_backend`\n",
      " |      context. ``-1`` means using all processors.\n",
      " |      See :term:`Glossary <n_jobs>` for more details.\n",
      " |  \n",
      " |  l1_ratio : float, default=None\n",
      " |      The Elastic-Net mixing parameter, with ``0 <= l1_ratio <= 1``. Only\n",
      " |      used if ``penalty='elasticnet'``. Setting ``l1_ratio=0`` is equivalent\n",
      " |      to using ``penalty='l2'``, while setting ``l1_ratio=1`` is equivalent\n",
      " |      to using ``penalty='l1'``. For ``0 < l1_ratio <1``, the penalty is a\n",
      " |      combination of L1 and L2.\n",
      " |  \n",
      " |  Attributes\n",
      " |  ----------\n",
      " |  \n",
      " |  classes_ : ndarray of shape (n_classes, )\n",
      " |      A list of class labels known to the classifier.\n",
      " |  \n",
      " |  coef_ : ndarray of shape (1, n_features) or (n_classes, n_features)\n",
      " |      Coefficient of the features in the decision function.\n",
      " |  \n",
      " |      `coef_` is of shape (1, n_features) when the given problem is binary.\n",
      " |      In particular, when `multi_class='multinomial'`, `coef_` corresponds\n",
      " |      to outcome 1 (True) and `-coef_` corresponds to outcome 0 (False).\n",
      " |  \n",
      " |  intercept_ : ndarray of shape (1,) or (n_classes,)\n",
      " |      Intercept (a.k.a. bias) added to the decision function.\n",
      " |  \n",
      " |      If `fit_intercept` is set to False, the intercept is set to zero.\n",
      " |      `intercept_` is of shape (1,) when the given problem is binary.\n",
      " |      In particular, when `multi_class='multinomial'`, `intercept_`\n",
      " |      corresponds to outcome 1 (True) and `-intercept_` corresponds to\n",
      " |      outcome 0 (False).\n",
      " |  \n",
      " |  n_features_in_ : int\n",
      " |      Number of features seen during :term:`fit`.\n",
      " |  \n",
      " |      .. versionadded:: 0.24\n",
      " |  \n",
      " |  feature_names_in_ : ndarray of shape (`n_features_in_`,)\n",
      " |      Names of features seen during :term:`fit`. Defined only when `X`\n",
      " |      has feature names that are all strings.\n",
      " |  \n",
      " |      .. versionadded:: 1.0\n",
      " |  \n",
      " |  n_iter_ : ndarray of shape (n_classes,) or (1, )\n",
      " |      Actual number of iterations for all classes. If binary or multinomial,\n",
      " |      it returns only 1 element. For liblinear solver, only the maximum\n",
      " |      number of iteration across all classes is given.\n",
      " |  \n",
      " |      .. versionchanged:: 0.20\n",
      " |  \n",
      " |          In SciPy <= 1.0.0 the number of lbfgs iterations may exceed\n",
      " |          ``max_iter``. ``n_iter_`` will now report at most ``max_iter``.\n",
      " |  \n",
      " |  See Also\n",
      " |  --------\n",
      " |  SGDClassifier : Incrementally trained logistic regression (when given\n",
      " |      the parameter ``loss=\"log_loss\"``).\n",
      " |  LogisticRegressionCV : Logistic regression with built-in cross validation.\n",
      " |  \n",
      " |  Notes\n",
      " |  -----\n",
      " |  The underlying C implementation uses a random number generator to\n",
      " |  select features when fitting the model. It is thus not uncommon,\n",
      " |  to have slightly different results for the same input data. If\n",
      " |  that happens, try with a smaller tol parameter.\n",
      " |  \n",
      " |  Predict output may not match that of standalone liblinear in certain\n",
      " |  cases. See :ref:`differences from liblinear <liblinear_differences>`\n",
      " |  in the narrative documentation.\n",
      " |  \n",
      " |  References\n",
      " |  ----------\n",
      " |  \n",
      " |  L-BFGS-B -- Software for Large-scale Bound-constrained Optimization\n",
      " |      Ciyou Zhu, Richard Byrd, Jorge Nocedal and Jose Luis Morales.\n",
      " |      http://users.iems.northwestern.edu/~nocedal/lbfgsb.html\n",
      " |  \n",
      " |  LIBLINEAR -- A Library for Large Linear Classification\n",
      " |      https://www.csie.ntu.edu.tw/~cjlin/liblinear/\n",
      " |  \n",
      " |  SAG -- Mark Schmidt, Nicolas Le Roux, and Francis Bach\n",
      " |      Minimizing Finite Sums with the Stochastic Average Gradient\n",
      " |      https://hal.inria.fr/hal-00860051/document\n",
      " |  \n",
      " |  SAGA -- Defazio, A., Bach F. & Lacoste-Julien S. (2014).\n",
      " |          :arxiv:`\"SAGA: A Fast Incremental Gradient Method With Support\n",
      " |          for Non-Strongly Convex Composite Objectives\" <1407.0202>`\n",
      " |  \n",
      " |  Hsiang-Fu Yu, Fang-Lan Huang, Chih-Jen Lin (2011). Dual coordinate descent\n",
      " |      methods for logistic regression and maximum entropy models.\n",
      " |      Machine Learning 85(1-2):41-75.\n",
      " |      https://www.csie.ntu.edu.tw/~cjlin/papers/maxent_dual.pdf\n",
      " |  \n",
      " |  Examples\n",
      " |  --------\n",
      " |  >>> from sklearn.datasets import load_iris\n",
      " |  >>> from sklearn.linear_model import LogisticRegression\n",
      " |  >>> X, y = load_iris(return_X_y=True)\n",
      " |  >>> clf = LogisticRegression(random_state=0).fit(X, y)\n",
      " |  >>> clf.predict(X[:2, :])\n",
      " |  array([0, 0])\n",
      " |  >>> clf.predict_proba(X[:2, :])\n",
      " |  array([[9.8...e-01, 1.8...e-02, 1.4...e-08],\n",
      " |         [9.7...e-01, 2.8...e-02, ...e-08]])\n",
      " |  >>> clf.score(X, y)\n",
      " |  0.97...\n",
      " |  \n",
      " |  Method resolution order:\n",
      " |      LogisticRegression\n",
      " |      sklearn.linear_model._base.LinearClassifierMixin\n",
      " |      sklearn.base.ClassifierMixin\n",
      " |      sklearn.linear_model._base.SparseCoefMixin\n",
      " |      sklearn.base.BaseEstimator\n",
      " |      sklearn.utils._metadata_requests._MetadataRequester\n",
      " |      builtins.object\n",
      " |  \n",
      " |  Methods defined here:\n",
      " |  \n",
      " |  __init__(self, penalty='l2', *, dual=False, tol=0.0001, C=1.0, fit_intercept=True, intercept_scaling=1, class_weight=None, random_state=None, solver='lbfgs', max_iter=100, multi_class='auto', verbose=0, warm_start=False, n_jobs=None, l1_ratio=None)\n",
      " |      Initialize self.  See help(type(self)) for accurate signature.\n",
      " |  \n",
      " |  fit(self, X, y, sample_weight=None)\n",
      " |      Fit the model according to the given training data.\n",
      " |      \n",
      " |      Parameters\n",
      " |      ----------\n",
      " |      X : {array-like, sparse matrix} of shape (n_samples, n_features)\n",
      " |          Training vector, where `n_samples` is the number of samples and\n",
      " |          `n_features` is the number of features.\n",
      " |      \n",
      " |      y : array-like of shape (n_samples,)\n",
      " |          Target vector relative to X.\n",
      " |      \n",
      " |      sample_weight : array-like of shape (n_samples,) default=None\n",
      " |          Array of weights that are assigned to individual samples.\n",
      " |          If not provided, then each sample is given unit weight.\n",
      " |      \n",
      " |          .. versionadded:: 0.17\n",
      " |             *sample_weight* support to LogisticRegression.\n",
      " |      \n",
      " |      Returns\n",
      " |      -------\n",
      " |      self\n",
      " |          Fitted estimator.\n",
      " |      \n",
      " |      Notes\n",
      " |      -----\n",
      " |      The SAGA solver supports both float64 and float32 bit arrays.\n",
      " |  \n",
      " |  predict_log_proba(self, X)\n",
      " |      Predict logarithm of probability estimates.\n",
      " |      \n",
      " |      The returned estimates for all classes are ordered by the\n",
      " |      label of classes.\n",
      " |      \n",
      " |      Parameters\n",
      " |      ----------\n",
      " |      X : array-like of shape (n_samples, n_features)\n",
      " |          Vector to be scored, where `n_samples` is the number of samples and\n",
      " |          `n_features` is the number of features.\n",
      " |      \n",
      " |      Returns\n",
      " |      -------\n",
      " |      T : array-like of shape (n_samples, n_classes)\n",
      " |          Returns the log-probability of the sample for each class in the\n",
      " |          model, where classes are ordered as they are in ``self.classes_``.\n",
      " |  \n",
      " |  predict_proba(self, X)\n",
      " |      Probability estimates.\n",
      " |      \n",
      " |      The returned estimates for all classes are ordered by the\n",
      " |      label of classes.\n",
      " |      \n",
      " |      For a multi_class problem, if multi_class is set to be \"multinomial\"\n",
      " |      the softmax function is used to find the predicted probability of\n",
      " |      each class.\n",
      " |      Else use a one-vs-rest approach, i.e calculate the probability\n",
      " |      of each class assuming it to be positive using the logistic function.\n",
      " |      and normalize these values across all the classes.\n",
      " |      \n",
      " |      Parameters\n",
      " |      ----------\n",
      " |      X : array-like of shape (n_samples, n_features)\n",
      " |          Vector to be scored, where `n_samples` is the number of samples and\n",
      " |          `n_features` is the number of features.\n",
      " |      \n",
      " |      Returns\n",
      " |      -------\n",
      " |      T : array-like of shape (n_samples, n_classes)\n",
      " |          Returns the probability of the sample for each class in the model,\n",
      " |          where classes are ordered as they are in ``self.classes_``.\n",
      " |  \n",
      " |  set_fit_request(self: sklearn.linear_model._logistic.LogisticRegression, *, sample_weight: Union[bool, NoneType, str] = '$UNCHANGED$') -> sklearn.linear_model._logistic.LogisticRegression\n",
      " |      Request metadata passed to the ``fit`` method.\n",
      " |      \n",
      " |      Note that this method is only relevant if\n",
      " |      ``enable_metadata_routing=True`` (see :func:`sklearn.set_config`).\n",
      " |      Please see :ref:`User Guide <metadata_routing>` on how the routing\n",
      " |      mechanism works.\n",
      " |      \n",
      " |      The options for each parameter are:\n",
      " |      \n",
      " |      - ``True``: metadata is requested, and passed to ``fit`` if provided. The request is ignored if metadata is not provided.\n",
      " |      \n",
      " |      - ``False``: metadata is not requested and the meta-estimator will not pass it to ``fit``.\n",
      " |      \n",
      " |      - ``None``: metadata is not requested, and the meta-estimator will raise an error if the user provides it.\n",
      " |      \n",
      " |      - ``str``: metadata should be passed to the meta-estimator with this given alias instead of the original name.\n",
      " |      \n",
      " |      The default (``sklearn.utils.metadata_routing.UNCHANGED``) retains the\n",
      " |      existing request. This allows you to change the request for some\n",
      " |      parameters and not others.\n",
      " |      \n",
      " |      .. versionadded:: 1.3\n",
      " |      \n",
      " |      .. note::\n",
      " |          This method is only relevant if this estimator is used as a\n",
      " |          sub-estimator of a meta-estimator, e.g. used inside a\n",
      " |          :class:`pipeline.Pipeline`. Otherwise it has no effect.\n",
      " |      \n",
      " |      Parameters\n",
      " |      ----------\n",
      " |      sample_weight : str, True, False, or None,                     default=sklearn.utils.metadata_routing.UNCHANGED\n",
      " |          Metadata routing for ``sample_weight`` parameter in ``fit``.\n",
      " |      \n",
      " |      Returns\n",
      " |      -------\n",
      " |      self : object\n",
      " |          The updated object.\n",
      " |  \n",
      " |  set_score_request(self: sklearn.linear_model._logistic.LogisticRegression, *, sample_weight: Union[bool, NoneType, str] = '$UNCHANGED$') -> sklearn.linear_model._logistic.LogisticRegression\n",
      " |      Request metadata passed to the ``score`` method.\n",
      " |      \n",
      " |      Note that this method is only relevant if\n",
      " |      ``enable_metadata_routing=True`` (see :func:`sklearn.set_config`).\n",
      " |      Please see :ref:`User Guide <metadata_routing>` on how the routing\n",
      " |      mechanism works.\n",
      " |      \n",
      " |      The options for each parameter are:\n",
      " |      \n",
      " |      - ``True``: metadata is requested, and passed to ``score`` if provided. The request is ignored if metadata is not provided.\n",
      " |      \n",
      " |      - ``False``: metadata is not requested and the meta-estimator will not pass it to ``score``.\n",
      " |      \n",
      " |      - ``None``: metadata is not requested, and the meta-estimator will raise an error if the user provides it.\n",
      " |      \n",
      " |      - ``str``: metadata should be passed to the meta-estimator with this given alias instead of the original name.\n",
      " |      \n",
      " |      The default (``sklearn.utils.metadata_routing.UNCHANGED``) retains the\n",
      " |      existing request. This allows you to change the request for some\n",
      " |      parameters and not others.\n",
      " |      \n",
      " |      .. versionadded:: 1.3\n",
      " |      \n",
      " |      .. note::\n",
      " |          This method is only relevant if this estimator is used as a\n",
      " |          sub-estimator of a meta-estimator, e.g. used inside a\n",
      " |          :class:`pipeline.Pipeline`. Otherwise it has no effect.\n",
      " |      \n",
      " |      Parameters\n",
      " |      ----------\n",
      " |      sample_weight : str, True, False, or None,                     default=sklearn.utils.metadata_routing.UNCHANGED\n",
      " |          Metadata routing for ``sample_weight`` parameter in ``score``.\n",
      " |      \n",
      " |      Returns\n",
      " |      -------\n",
      " |      self : object\n",
      " |          The updated object.\n",
      " |  \n",
      " |  ----------------------------------------------------------------------\n",
      " |  Data and other attributes defined here:\n",
      " |  \n",
      " |  __annotations__ = {'_parameter_constraints': <class 'dict'>}\n",
      " |  \n",
      " |  ----------------------------------------------------------------------\n",
      " |  Methods inherited from sklearn.linear_model._base.LinearClassifierMixin:\n",
      " |  \n",
      " |  decision_function(self, X)\n",
      " |      Predict confidence scores for samples.\n",
      " |      \n",
      " |      The confidence score for a sample is proportional to the signed\n",
      " |      distance of that sample to the hyperplane.\n",
      " |      \n",
      " |      Parameters\n",
      " |      ----------\n",
      " |      X : {array-like, sparse matrix} of shape (n_samples, n_features)\n",
      " |          The data matrix for which we want to get the confidence scores.\n",
      " |      \n",
      " |      Returns\n",
      " |      -------\n",
      " |      scores : ndarray of shape (n_samples,) or (n_samples, n_classes)\n",
      " |          Confidence scores per `(n_samples, n_classes)` combination. In the\n",
      " |          binary case, confidence score for `self.classes_[1]` where >0 means\n",
      " |          this class would be predicted.\n",
      " |  \n",
      " |  predict(self, X)\n",
      " |      Predict class labels for samples in X.\n",
      " |      \n",
      " |      Parameters\n",
      " |      ----------\n",
      " |      X : {array-like, sparse matrix} of shape (n_samples, n_features)\n",
      " |          The data matrix for which we want to get the predictions.\n",
      " |      \n",
      " |      Returns\n",
      " |      -------\n",
      " |      y_pred : ndarray of shape (n_samples,)\n",
      " |          Vector containing the class labels for each sample.\n",
      " |  \n",
      " |  ----------------------------------------------------------------------\n",
      " |  Methods inherited from sklearn.base.ClassifierMixin:\n",
      " |  \n",
      " |  score(self, X, y, sample_weight=None)\n",
      " |      Return the mean accuracy on the given test data and labels.\n",
      " |      \n",
      " |      In multi-label classification, this is the subset accuracy\n",
      " |      which is a harsh metric since you require for each sample that\n",
      " |      each label set be correctly predicted.\n",
      " |      \n",
      " |      Parameters\n",
      " |      ----------\n",
      " |      X : array-like of shape (n_samples, n_features)\n",
      " |          Test samples.\n",
      " |      \n",
      " |      y : array-like of shape (n_samples,) or (n_samples, n_outputs)\n",
      " |          True labels for `X`.\n",
      " |      \n",
      " |      sample_weight : array-like of shape (n_samples,), default=None\n",
      " |          Sample weights.\n",
      " |      \n",
      " |      Returns\n",
      " |      -------\n",
      " |      score : float\n",
      " |          Mean accuracy of ``self.predict(X)`` w.r.t. `y`.\n",
      " |  \n",
      " |  ----------------------------------------------------------------------\n",
      " |  Data descriptors inherited from sklearn.base.ClassifierMixin:\n",
      " |  \n",
      " |  __dict__\n",
      " |      dictionary for instance variables (if defined)\n",
      " |  \n",
      " |  __weakref__\n",
      " |      list of weak references to the object (if defined)\n",
      " |  \n",
      " |  ----------------------------------------------------------------------\n",
      " |  Methods inherited from sklearn.linear_model._base.SparseCoefMixin:\n",
      " |  \n",
      " |  densify(self)\n",
      " |      Convert coefficient matrix to dense array format.\n",
      " |      \n",
      " |      Converts the ``coef_`` member (back) to a numpy.ndarray. This is the\n",
      " |      default format of ``coef_`` and is required for fitting, so calling\n",
      " |      this method is only required on models that have previously been\n",
      " |      sparsified; otherwise, it is a no-op.\n",
      " |      \n",
      " |      Returns\n",
      " |      -------\n",
      " |      self\n",
      " |          Fitted estimator.\n",
      " |  \n",
      " |  sparsify(self)\n",
      " |      Convert coefficient matrix to sparse format.\n",
      " |      \n",
      " |      Converts the ``coef_`` member to a scipy.sparse matrix, which for\n",
      " |      L1-regularized models can be much more memory- and storage-efficient\n",
      " |      than the usual numpy.ndarray representation.\n",
      " |      \n",
      " |      The ``intercept_`` member is not converted.\n",
      " |      \n",
      " |      Returns\n",
      " |      -------\n",
      " |      self\n",
      " |          Fitted estimator.\n",
      " |      \n",
      " |      Notes\n",
      " |      -----\n",
      " |      For non-sparse models, i.e. when there are not many zeros in ``coef_``,\n",
      " |      this may actually *increase* memory usage, so use this method with\n",
      " |      care. A rule of thumb is that the number of zero elements, which can\n",
      " |      be computed with ``(coef_ == 0).sum()``, must be more than 50% for this\n",
      " |      to provide significant benefits.\n",
      " |      \n",
      " |      After calling this method, further fitting with the partial_fit\n",
      " |      method (if any) will not work until you call densify.\n",
      " |  \n",
      " |  ----------------------------------------------------------------------\n",
      " |  Methods inherited from sklearn.base.BaseEstimator:\n",
      " |  \n",
      " |  __getstate__(self)\n",
      " |      Helper for pickle.\n",
      " |  \n",
      " |  __repr__(self, N_CHAR_MAX=700)\n",
      " |      Return repr(self).\n",
      " |  \n",
      " |  __setstate__(self, state)\n",
      " |  \n",
      " |  __sklearn_clone__(self)\n",
      " |  \n",
      " |  get_params(self, deep=True)\n",
      " |      Get parameters for this estimator.\n",
      " |      \n",
      " |      Parameters\n",
      " |      ----------\n",
      " |      deep : bool, default=True\n",
      " |          If True, will return the parameters for this estimator and\n",
      " |          contained subobjects that are estimators.\n",
      " |      \n",
      " |      Returns\n",
      " |      -------\n",
      " |      params : dict\n",
      " |          Parameter names mapped to their values.\n",
      " |  \n",
      " |  set_params(self, **params)\n",
      " |      Set the parameters of this estimator.\n",
      " |      \n",
      " |      The method works on simple estimators as well as on nested objects\n",
      " |      (such as :class:`~sklearn.pipeline.Pipeline`). The latter have\n",
      " |      parameters of the form ``<component>__<parameter>`` so that it's\n",
      " |      possible to update each component of a nested object.\n",
      " |      \n",
      " |      Parameters\n",
      " |      ----------\n",
      " |      **params : dict\n",
      " |          Estimator parameters.\n",
      " |      \n",
      " |      Returns\n",
      " |      -------\n",
      " |      self : estimator instance\n",
      " |          Estimator instance.\n",
      " |  \n",
      " |  ----------------------------------------------------------------------\n",
      " |  Methods inherited from sklearn.utils._metadata_requests._MetadataRequester:\n",
      " |  \n",
      " |  get_metadata_routing(self)\n",
      " |      Get metadata routing of this object.\n",
      " |      \n",
      " |      Please check :ref:`User Guide <metadata_routing>` on how the routing\n",
      " |      mechanism works.\n",
      " |      \n",
      " |      Returns\n",
      " |      -------\n",
      " |      routing : MetadataRequest\n",
      " |          A :class:`~utils.metadata_routing.MetadataRequest` encapsulating\n",
      " |          routing information.\n",
      " |  \n",
      " |  ----------------------------------------------------------------------\n",
      " |  Class methods inherited from sklearn.utils._metadata_requests._MetadataRequester:\n",
      " |  \n",
      " |  __init_subclass__(**kwargs) from builtins.type\n",
      " |      Set the ``set_{method}_request`` methods.\n",
      " |      \n",
      " |      This uses PEP-487 [1]_ to set the ``set_{method}_request`` methods. It\n",
      " |      looks for the information available in the set default values which are\n",
      " |      set using ``__metadata_request__*`` class attributes, or inferred\n",
      " |      from method signatures.\n",
      " |      \n",
      " |      The ``__metadata_request__*`` class attributes are used when a method\n",
      " |      does not explicitly accept a metadata through its arguments or if the\n",
      " |      developer would like to specify a request value for those metadata\n",
      " |      which are different from the default ``None``.\n",
      " |      \n",
      " |      References\n",
      " |      ----------\n",
      " |      .. [1] https://www.python.org/dev/peps/pep-0487\n",
      "\n"
     ]
    }
   ],
   "source": [
    "help(LogisticRegression)"
   ]
  },
  {
   "cell_type": "markdown",
   "id": "c06d6039",
   "metadata": {
    "papermill": {
     "duration": 0.025417,
     "end_time": "2023-08-02T16:56:30.095351",
     "exception": false,
     "start_time": "2023-08-02T16:56:30.069934",
     "status": "completed"
    },
    "tags": []
   },
   "source": [
    "Hyper-parameter of Logistic Regression:\n",
    "\n",
    "- Regularization parameter (C): The regularization parameter (often denoted as C) is used to control the amount of regularization applied to the model. Regularization helps prevent overfitting by adding a penalty term to the loss function. A smaller value of C increases the regularization strength, making the model more resistant to overfitting. On the other hand, a larger value of C reduces regularization, allowing the model to fit the training data more closely.\n",
    "\n",
    "- Solver: The solver is the optimization algorithm used to find the weights of the logistic regression model. Common solvers include \"liblinear,\" \"lbfgs,\" \"saga,\" and \"newton-cg.\" Each solver has its advantages and works better for specific types of data and problem sizes.\n",
    "\n",
    "- multi_class: Determines the approach for handling multiple classes. Possible values are 'auto', 'ovr' (one-vs-rest), and 'multinomial'. 'auto' selects the best approach based on the data, while 'ovr' and 'multinomial' are explicit choices. The default is 'auto'.\n",
    "\n",
    "- dual: This parameter is relevant only when the number of samples is smaller than the number of features. If True, the model solves the dual optimization problem. The default is False.\n",
    "\n",
    "- class_weight: This parameter allows you to assign different weights to classes to balance the influence of different classes during training. It can be set to 'balanced' to automatically adjust the weights inversely proportional to class frequencies.\n"
   ]
  },
  {
   "cell_type": "code",
   "execution_count": 23,
   "id": "04dec75b",
   "metadata": {
    "execution": {
     "iopub.execute_input": "2023-08-02T16:56:30.149527Z",
     "iopub.status.busy": "2023-08-02T16:56:30.148821Z",
     "iopub.status.idle": "2023-08-02T16:56:30.153459Z",
     "shell.execute_reply": "2023-08-02T16:56:30.152598Z"
    },
    "papermill": {
     "duration": 0.034654,
     "end_time": "2023-08-02T16:56:30.155736",
     "exception": false,
     "start_time": "2023-08-02T16:56:30.121082",
     "status": "completed"
    },
    "tags": []
   },
   "outputs": [],
   "source": [
    "log_model = LogisticRegression(solver='saga',C=1 )"
   ]
  },
  {
   "cell_type": "code",
   "execution_count": 24,
   "id": "33a0af01",
   "metadata": {
    "execution": {
     "iopub.execute_input": "2023-08-02T16:56:30.209365Z",
     "iopub.status.busy": "2023-08-02T16:56:30.208701Z",
     "iopub.status.idle": "2023-08-02T16:56:30.218736Z",
     "shell.execute_reply": "2023-08-02T16:56:30.217931Z"
    },
    "papermill": {
     "duration": 0.040005,
     "end_time": "2023-08-02T16:56:30.221047",
     "exception": false,
     "start_time": "2023-08-02T16:56:30.181042",
     "status": "completed"
    },
    "tags": []
   },
   "outputs": [],
   "source": [
    "from sklearn.metrics import roc_curve, roc_auc_score\n",
    "from sklearn.metrics import ConfusionMatrixDisplay, classification_report, confusion_matrix, RocCurveDisplay\n",
    "import matplotlib.pyplot as plt\n",
    "\n",
    "def report_model(model):\n",
    "    model.fit(X_train, y_train)\n",
    "    y_pred = model.predict(X_test)\n",
    "    \n",
    "    print(\"Classification Report:\")\n",
    "    print(classification_report(y_test, y_pred))\n",
    "    \n",
    "    print(\"Confusion Matrix:\")\n",
    "    ConfusionMatrixDisplay(confusion_matrix(y_test, y_pred)).plot()\n",
    "    plt.show()\n",
    "    \n",
    "    # Calculate the probabilities for each class\n",
    "    if hasattr(model, \"predict_proba\"):\n",
    "        y_prob = model.predict_proba(X_test)\n",
    "        if len(model.classes_) == 2:\n",
    "            # For binary classification, consider only the positive class probability\n",
    "            y_prob = y_prob[:, 1]\n",
    "        else:\n",
    "            # For multi-class classification, use one-vs-rest strategy and calculate ROC for each class\n",
    "            y_prob = y_prob[np.arange(len(y_prob)), y_test]\n",
    "    else:\n",
    "        raise AttributeError(\"Model does not have a 'predict_proba' method.\")\n",
    "    \n",
    "    # Calculate the ROC curve\n",
    "    fpr, tpr, thresholds = roc_curve(y_test, y_prob)\n",
    "    \n",
    "    # Calculate the AUC (Area Under the Curve)\n",
    "    auc_score = roc_auc_score(y_test, y_prob)\n",
    "    \n",
    "    # Plot the ROC curve\n",
    "    plt.figure()\n",
    "    RocCurveDisplay(fpr=fpr, tpr=tpr, roc_auc=auc_score, estimator_name=type(model).__name__).plot()\n",
    "    plt.show()\n",
    "\n",
    "\n"
   ]
  },
  {
   "cell_type": "code",
   "execution_count": 25,
   "id": "045ccf91",
   "metadata": {
    "execution": {
     "iopub.execute_input": "2023-08-02T16:56:30.275693Z",
     "iopub.status.busy": "2023-08-02T16:56:30.274993Z",
     "iopub.status.idle": "2023-08-02T16:56:30.835852Z",
     "shell.execute_reply": "2023-08-02T16:56:30.834934Z"
    },
    "papermill": {
     "duration": 0.591365,
     "end_time": "2023-08-02T16:56:30.838168",
     "exception": false,
     "start_time": "2023-08-02T16:56:30.246803",
     "status": "completed"
    },
    "tags": []
   },
   "outputs": [
    {
     "name": "stdout",
     "output_type": "stream",
     "text": [
      "Classification Report:\n",
      "              precision    recall  f1-score   support\n",
      "\n",
      "           0       0.88      0.79      0.83       128\n",
      "           1       0.81      0.89      0.85       129\n",
      "\n",
      "    accuracy                           0.84       257\n",
      "   macro avg       0.84      0.84      0.84       257\n",
      "weighted avg       0.84      0.84      0.84       257\n",
      "\n",
      "Confusion Matrix:\n"
     ]
    },
    {
     "data": {
      "image/png": "[encoded data removed]",
      "text/plain": [
       "<Figure size 640x480 with 2 Axes>"
      ]
     },
     "metadata": {},
     "output_type": "display_data"
    },
    {
     "data": {
      "text/plain": [
       "<Figure size 640x480 with 0 Axes>"
      ]
     },
     "metadata": {},
     "output_type": "display_data"
    },
    {
     "data": {
      "image/png": "[encoded data removed]",
      "text/plain": [
       "<Figure size 640x480 with 1 Axes>"
      ]
     },
     "metadata": {},
     "output_type": "display_data"
    }
   ],
   "source": [
    "report_model(log_model)"
   ]
  },
  {
   "cell_type": "code",
   "execution_count": 26,
   "id": "df6dd95b",
   "metadata": {
    "execution": {
     "iopub.execute_input": "2023-08-02T16:56:30.894217Z",
     "iopub.status.busy": "2023-08-02T16:56:30.893477Z",
     "iopub.status.idle": "2023-08-02T16:56:30.897690Z",
     "shell.execute_reply": "2023-08-02T16:56:30.896916Z"
    },
    "papermill": {
     "duration": 0.035025,
     "end_time": "2023-08-02T16:56:30.899908",
     "exception": false,
     "start_time": "2023-08-02T16:56:30.864883",
     "status": "completed"
    },
    "tags": []
   },
   "outputs": [],
   "source": [
    "from sklearn.model_selection import GridSearchCV"
   ]
  },
  {
   "cell_type": "code",
   "execution_count": 27,
   "id": "c8646825",
   "metadata": {
    "execution": {
     "iopub.execute_input": "2023-08-02T16:56:30.955348Z",
     "iopub.status.busy": "2023-08-02T16:56:30.954583Z",
     "iopub.status.idle": "2023-08-02T16:56:30.959682Z",
     "shell.execute_reply": "2023-08-02T16:56:30.958810Z"
    },
    "papermill": {
     "duration": 0.035586,
     "end_time": "2023-08-02T16:56:30.961862",
     "exception": false,
     "start_time": "2023-08-02T16:56:30.926276",
     "status": "completed"
    },
    "tags": []
   },
   "outputs": [],
   "source": [
    "param_grid = {\n",
    "    'C': [0.1, 1.0,2.0,5.0, 10.0],\n",
    "    'solver': ['liblinear', 'saga'],\n",
    "    'max_iter': [100, 200, 300],\n",
    "    'class_weight': [None, 'balanced'],\n",
    "}"
   ]
  },
  {
   "cell_type": "code",
   "execution_count": 28,
   "id": "88784be6",
   "metadata": {
    "execution": {
     "iopub.execute_input": "2023-08-02T16:56:31.017388Z",
     "iopub.status.busy": "2023-08-02T16:56:31.016277Z",
     "iopub.status.idle": "2023-08-02T16:56:31.021064Z",
     "shell.execute_reply": "2023-08-02T16:56:31.020303Z"
    },
    "papermill": {
     "duration": 0.035014,
     "end_time": "2023-08-02T16:56:31.023347",
     "exception": false,
     "start_time": "2023-08-02T16:56:30.988333",
     "status": "completed"
    },
    "tags": []
   },
   "outputs": [],
   "source": [
    "grid_model = GridSearchCV(estimator=log_model, param_grid=param_grid, cv=10)"
   ]
  },
  {
   "cell_type": "code",
   "execution_count": 29,
   "id": "cfa7cf5f",
   "metadata": {
    "execution": {
     "iopub.execute_input": "2023-08-02T16:56:31.079083Z",
     "iopub.status.busy": "2023-08-02T16:56:31.078362Z",
     "iopub.status.idle": "2023-08-02T16:56:35.164234Z",
     "shell.execute_reply": "2023-08-02T16:56:35.163140Z"
    },
    "papermill": {
     "duration": 4.116777,
     "end_time": "2023-08-02T16:56:35.167007",
     "exception": false,
     "start_time": "2023-08-02T16:56:31.050230",
     "status": "completed"
    },
    "tags": []
   },
   "outputs": [
    {
     "name": "stdout",
     "output_type": "stream",
     "text": [
      "Classification Report:\n",
      "              precision    recall  f1-score   support\n",
      "\n",
      "           0       0.88      0.81      0.85       128\n",
      "           1       0.83      0.89      0.86       129\n",
      "\n",
      "    accuracy                           0.85       257\n",
      "   macro avg       0.85      0.85      0.85       257\n",
      "weighted avg       0.85      0.85      0.85       257\n",
      "\n",
      "Confusion Matrix:\n"
     ]
    },
    {
     "data": {
      "image/png": "[encoded data removed]",
      "text/plain": [
       "<Figure size 640x480 with 2 Axes>"
      ]
     },
     "metadata": {},
     "output_type": "display_data"
    },
    {
     "data": {
      "text/plain": [
       "<Figure size 640x480 with 0 Axes>"
      ]
     },
     "metadata": {},
     "output_type": "display_data"
    },
    {
     "data": {
      "image/png": "[encoded data removed]",
      "text/plain": [
       "<Figure size 640x480 with 1 Axes>"
      ]
     },
     "metadata": {},
     "output_type": "display_data"
    }
   ],
   "source": [
    "report_model(grid_model)"
   ]
  },
  {
   "cell_type": "code",
   "execution_count": 30,
   "id": "ddb7406e",
   "metadata": {
    "execution": {
     "iopub.execute_input": "2023-08-02T16:56:35.227203Z",
     "iopub.status.busy": "2023-08-02T16:56:35.225962Z",
     "iopub.status.idle": "2023-08-02T16:56:35.233106Z",
     "shell.execute_reply": "2023-08-02T16:56:35.232233Z"
    },
    "papermill": {
     "duration": 0.038336,
     "end_time": "2023-08-02T16:56:35.235136",
     "exception": false,
     "start_time": "2023-08-02T16:56:35.196800",
     "status": "completed"
    },
    "tags": []
   },
   "outputs": [
    {
     "data": {
      "text/plain": [
       "{'C': 1.0, 'class_weight': 'balanced', 'max_iter': 100, 'solver': 'liblinear'}"
      ]
     },
     "execution_count": 30,
     "metadata": {},
     "output_type": "execute_result"
    }
   ],
   "source": [
    "grid_model.best_params_"
   ]
  },
  {
   "cell_type": "code",
   "execution_count": null,
   "id": "7f4b1d3d",
   "metadata": {
    "papermill": {
     "duration": 0.02739,
     "end_time": "2023-08-02T16:56:35.290200",
     "exception": false,
     "start_time": "2023-08-02T16:56:35.262810",
     "status": "completed"
    },
    "tags": []
   },
   "outputs": [],
   "source": []
  }
 ],
 "metadata": {
  "kernelspec": {
   "display_name": "Python 3 (ipykernel)",
   "language": "python",
   "name": "python3"
  },
  "language_info": {
   "codemirror_mode": {
    "name": "ipython",
    "version": 3
   },
   "file_extension": ".py",
   "mimetype": "text/x-python",
   "name": "python",
   "nbconvert_exporter": "python",
   "pygments_lexer": "ipython3",
   "version": "3.11.5"
  },
  "papermill": {
   "default_parameters": {},
   "duration": 34.101273,
   "end_time": "2023-08-02T16:56:36.440563",
   "environment_variables": {},
   "exception": null,
   "input_path": "__notebook__.ipynb",
   "output_path": "__notebook__.ipynb",
   "parameters": {},
   "start_time": "2023-08-02T16:56:02.339290",
   "version": "2.4.0"
  }
 },
 "nbformat": 4,
 "nbformat_minor": 5
}
