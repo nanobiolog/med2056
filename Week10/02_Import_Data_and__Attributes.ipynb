{
 "cells": [
  {
   "cell_type": "markdown",
   "metadata": {
    "id": "DEkdhZZj50cU"
   },
   "source": [
    "### Dataframe from CSV\n",
    "\n",
    "In the field of Data Science, **[CSV](https://en.wikipedia.org/wiki/Comma-separated_values)** files are used to store large datasets. To efficiently analyze such datasets, we need to convert them into pandas DataFrame.\n",
    "\n",
    "To create a DataFrame from CSV, we use the **`read_csv('file_name')`** function that takes the file name as input and returns DataFrame as output."
   ]
  },
  {
   "cell_type": "markdown",
   "metadata": {
    "id": "_U_7eKDR50cU"
   },
   "source": [
    "**Example 1:**\n",
    "\n",
    "Let’s see how to read the **[stockprice_data.csv](https://github.com/milaan9/10_Python_Pandas_Module/blob/main/stockprice_data.csv)** file into the DataFrame and then convert it into Pandas Series\n",
    "\n",
    "<div>\n",
    "<img src=\"img/csvfile1.png\" width=\"300\" />\n",
    "</div>"
   ]
  },
  {
   "cell_type": "code",
   "execution_count": 18,
   "metadata": {
    "ExecuteTime": {
     "end_time": "2021-07-06T16:31:44.928769Z",
     "start_time": "2021-07-06T16:31:44.652403Z"
    },
    "id": "Dy4AmKUv50cU",
    "outputId": "714c281c-c319-4078-af3a-4bc13697ca27"
   },
   "outputs": [
    {
     "data": {
      "text/html": [
       "<div>\n",
       "<style scoped>\n",
       "    .dataframe tbody tr th:only-of-type {\n",
       "        vertical-align: middle;\n",
       "    }\n",
       "\n",
       "    .dataframe tbody tr th {\n",
       "        vertical-align: top;\n",
       "    }\n",
       "\n",
       "    .dataframe thead th {\n",
       "        text-align: right;\n",
       "    }\n",
       "</style>\n",
       "<table border=\"1\" class=\"dataframe\">\n",
       "  <thead>\n",
       "    <tr style=\"text-align: right;\">\n",
       "      <th></th>\n",
       "      <th>Date</th>\n",
       "      <th>Closing price</th>\n",
       "      <th>Return</th>\n",
       "    </tr>\n",
       "  </thead>\n",
       "  <tbody>\n",
       "    <tr>\n",
       "      <th>0</th>\n",
       "      <td>1/1/2020</td>\n",
       "      <td>100</td>\n",
       "      <td>0.010000</td>\n",
       "    </tr>\n",
       "    <tr>\n",
       "      <th>1</th>\n",
       "      <td>2/1/2020</td>\n",
       "      <td>120</td>\n",
       "      <td>0.200000</td>\n",
       "    </tr>\n",
       "    <tr>\n",
       "      <th>2</th>\n",
       "      <td>3/1/2020</td>\n",
       "      <td>130</td>\n",
       "      <td>0.083333</td>\n",
       "    </tr>\n",
       "    <tr>\n",
       "      <th>3</th>\n",
       "      <td>4/1/2020</td>\n",
       "      <td>98</td>\n",
       "      <td>-0.246154</td>\n",
       "    </tr>\n",
       "    <tr>\n",
       "      <th>4</th>\n",
       "      <td>5/1/2020</td>\n",
       "      <td>50</td>\n",
       "      <td>-0.489796</td>\n",
       "    </tr>\n",
       "    <tr>\n",
       "      <th>5</th>\n",
       "      <td>6/1/2020</td>\n",
       "      <td>102</td>\n",
       "      <td>1.040000</td>\n",
       "    </tr>\n",
       "    <tr>\n",
       "      <th>6</th>\n",
       "      <td>7/1/2020</td>\n",
       "      <td>104</td>\n",
       "      <td>0.019608</td>\n",
       "    </tr>\n",
       "    <tr>\n",
       "      <th>7</th>\n",
       "      <td>8/1/2020</td>\n",
       "      <td>150</td>\n",
       "      <td>0.442308</td>\n",
       "    </tr>\n",
       "    <tr>\n",
       "      <th>8</th>\n",
       "      <td>9/1/2020</td>\n",
       "      <td>160</td>\n",
       "      <td>0.066667</td>\n",
       "    </tr>\n",
       "    <tr>\n",
       "      <th>9</th>\n",
       "      <td>10/1/2020</td>\n",
       "      <td>109</td>\n",
       "      <td>-0.318750</td>\n",
       "    </tr>\n",
       "    <tr>\n",
       "      <th>10</th>\n",
       "      <td>11/1/2020</td>\n",
       "      <td>95</td>\n",
       "      <td>-0.128440</td>\n",
       "    </tr>\n",
       "  </tbody>\n",
       "</table>\n",
       "</div>"
      ],
      "text/plain": [
       "         Date  Closing price    Return\n",
       "0    1/1/2020            100  0.010000\n",
       "1    2/1/2020            120  0.200000\n",
       "2    3/1/2020            130  0.083333\n",
       "3    4/1/2020             98 -0.246154\n",
       "4    5/1/2020             50 -0.489796\n",
       "5    6/1/2020            102  1.040000\n",
       "6    7/1/2020            104  0.019608\n",
       "7    8/1/2020            150  0.442308\n",
       "8    9/1/2020            160  0.066667\n",
       "9   10/1/2020            109 -0.318750\n",
       "10  11/1/2020             95 -0.128440"
      ]
     },
     "execution_count": 18,
     "metadata": {},
     "output_type": "execute_result"
    }
   ],
   "source": [
    "import pandas as pd\n",
    "data = pd.read_csv(\"stockprice_data.csv\")\n",
    "data"
   ]
  },
  {
   "cell_type": "code",
   "execution_count": 9,
   "metadata": {
    "ExecuteTime": {
     "end_time": "2021-07-06T16:31:44.944393Z",
     "start_time": "2021-07-06T16:31:44.931699Z"
    },
    "id": "cTS1NPw250cU",
    "outputId": "fdd44a4e-a24e-4e7e-8863-d5c0c12e4bad"
   },
   "outputs": [
    {
     "data": {
      "text/plain": [
       "pandas.core.frame.DataFrame"
      ]
     },
     "execution_count": 9,
     "metadata": {},
     "output_type": "execute_result"
    }
   ],
   "source": [
    "type(data)"
   ]
  },
  {
   "cell_type": "code",
   "execution_count": 10,
   "metadata": {
    "ExecuteTime": {
     "end_time": "2021-07-06T16:31:45.056696Z",
     "start_time": "2021-07-06T16:31:44.948300Z"
    },
    "id": "IjtY_U6V50cU",
    "outputId": "aa998784-da9c-4df8-8527-d5a50601aa38"
   },
   "outputs": [
    {
     "data": {
      "text/plain": [
       "0     0.010000\n",
       "1     0.200000\n",
       "2     0.083333\n",
       "3    -0.246154\n",
       "4    -0.489796\n",
       "5     1.040000\n",
       "6     0.019608\n",
       "7     0.442308\n",
       "8     0.066667\n",
       "9    -0.318750\n",
       "10   -0.128440\n",
       "Name: Return, dtype: float64"
      ]
     },
     "execution_count": 10,
     "metadata": {},
     "output_type": "execute_result"
    }
   ],
   "source": [
    "data1 = data.iloc[:,2]     # Convert Pandas Data Frame in to Pandas Series\n",
    "data1"
   ]
  },
  {
   "cell_type": "code",
   "execution_count": 19,
   "metadata": {
    "ExecuteTime": {
     "end_time": "2021-07-06T16:31:45.177792Z",
     "start_time": "2021-07-06T16:31:45.065487Z"
    },
    "id": "EUPJGVy_50cU",
    "outputId": "13727995-b265-4fd1-f4b4-397097a50e99"
   },
   "outputs": [
    {
     "data": {
      "text/plain": [
       "pandas.core.series.Series"
      ]
     },
     "execution_count": 19,
     "metadata": {},
     "output_type": "execute_result"
    }
   ],
   "source": [
    "type(data1)"
   ]
  },
  {
   "cell_type": "markdown",
   "metadata": {
    "id": "QovM-laK50cV"
   },
   "source": [
    "**Example 2:**\n",
    "\n",
    "Let’s see how to read the **[automobile_data.csv](https://github.com/milaan9/10_Python_Pandas_Module/blob/main/automobile_data.csv)** file into the DataFrame.\n",
    "\n",
    "<div>\n",
    "<img src=\"img/csvfile.png\" width=\"500\"/>\n",
    "</div>"
   ]
  },
  {
   "cell_type": "code",
   "execution_count": 20,
   "metadata": {
    "ExecuteTime": {
     "end_time": "2021-07-06T16:31:45.458548Z",
     "start_time": "2021-07-06T16:31:45.182674Z"
    },
    "id": "zxgf7f2650cV",
    "outputId": "7089b3d7-c0a8-4b23-a3bb-e98d2919c171",
    "scrolled": true
   },
   "outputs": [
    {
     "name": "stdout",
     "output_type": "stream",
     "text": [
      "    index      company   body-style  wheel-base  length engine-type  \\\n",
      "0       0  alfa-romero  convertible        88.6   168.8        dohc   \n",
      "1       1  alfa-romero  convertible        88.6   168.8        dohc   \n",
      "..    ...          ...          ...         ...     ...         ...   \n",
      "59     87        volvo        sedan       104.3   188.8         ohc   \n",
      "60     88        volvo        wagon       104.3   188.8         ohc   \n",
      "\n",
      "   num-of-cylinders  horsepower  average-mileage    price  \n",
      "0              four         111               21  13495.0  \n",
      "1              four         111               21  16500.0  \n",
      "..              ...         ...              ...      ...  \n",
      "59             four         114               23  12940.0  \n",
      "60             four         114               23  13415.0  \n",
      "\n",
      "[61 rows x 10 columns]\n"
     ]
    }
   ],
   "source": [
    "cars = pd.read_csv(\"automobile_data.csv\")  # just give the name of file only if the file is in the same folder.\n",
    "print(cars)"
   ]
  },
  {
   "cell_type": "markdown",
   "metadata": {
    "id": "ZgTd0hbU50cV"
   },
   "source": [
    "## DataFrame Options\n",
    "\n",
    "When DataFrame is vast, and we can not display the whole data while printing. In that case, we need to change how DataFrame gets display on the console using the **`print()`** function. For that, pandas have provided many options and functions to customize the presentation of the DataFrame."
   ]
  },
  {
   "cell_type": "markdown",
   "metadata": {
    "id": "bo7dYx9250cV"
   },
   "source": [
    "### To customize the display of DataFrame while printing\n",
    "\n",
    "When we display the DataFrame using **`print()`** function by default, it displays 10 rows (top 5 and bottom 5). Sometimes we may need to show more or lesser rows than the default view of the DataFrame.\n",
    "\n",
    "We can change the setting by using **`pd.options`** or **`pd.set_option()`** functions. Both can be used interchangeably.\n",
    "\n",
    "The below example will show a maximum of 20 and a minimum of 5 rows while printing DataFrame."
   ]
  },
  {
   "cell_type": "code",
   "execution_count": 22,
   "metadata": {
    "ExecuteTime": {
     "end_time": "2021-07-06T16:31:45.520071Z",
     "start_time": "2021-07-06T16:31:45.461482Z"
    },
    "id": "fHgSajyV50cV",
    "outputId": "f8c39727-c405-4c52-bece-2e3d33b8444a"
   },
   "outputs": [
    {
     "name": "stdout",
     "output_type": "stream",
     "text": [
      "    index      company   body-style  wheel-base  length engine-type  \\\n",
      "0       0  alfa-romero  convertible        88.6   168.8        dohc   \n",
      "1       1  alfa-romero  convertible        88.6   168.8        dohc   \n",
      "2       2  alfa-romero    hatchback        94.5   171.2        ohcv   \n",
      "3       3         audi        sedan        99.8   176.6         ohc   \n",
      "4       4         audi        sedan        99.4   176.6         ohc   \n",
      "..    ...          ...          ...         ...     ...         ...   \n",
      "56     81   volkswagen        sedan        97.3   171.7         ohc   \n",
      "57     82   volkswagen        sedan        97.3   171.7         ohc   \n",
      "58     86   volkswagen        sedan        97.3   171.7         ohc   \n",
      "59     87        volvo        sedan       104.3   188.8         ohc   \n",
      "60     88        volvo        wagon       104.3   188.8         ohc   \n",
      "\n",
      "   num-of-cylinders  horsepower  average-mileage    price  \n",
      "0              four         111               21  13495.0  \n",
      "1              four         111               21  16500.0  \n",
      "2               six         154               19  16500.0  \n",
      "3              four         102               24  13950.0  \n",
      "4              five         115               18  17450.0  \n",
      "..              ...         ...              ...      ...  \n",
      "56             four          85               27   7975.0  \n",
      "57             four          52               37   7995.0  \n",
      "58             four         100               26   9995.0  \n",
      "59             four         114               23  12940.0  \n",
      "60             four         114               23  13415.0  \n",
      "\n",
      "[61 rows x 10 columns]\n"
     ]
    }
   ],
   "source": [
    "import pandas as pd\n",
    "\n",
    "# Setting maximum rows to be shown\n",
    "pd.options.display.max_rows = 20\n",
    "\n",
    "# Setting minimum rows to be shown\n",
    "pd.set_option(\"display.min_rows\", 10)\n",
    "\n",
    "# Print DataFrame\n",
    "print(cars)"
   ]
  },
  {
   "cell_type": "markdown",
   "metadata": {
    "id": "rsJmZhl250cV"
   },
   "source": [
    "## DataFrame metadata\n",
    "\n",
    "Sometimes we need to get metadata of the DataFrame and not the content inside it. Such metadata information is useful to understand the DataFrame as it gives more details about the DataFrame that we need to process.\n",
    "\n",
    "In this section, we cover the functions which provide such information of the DataFrame.\n",
    "\n",
    "Let’s take an example of student DataFrame which contains **'Name'**, **'Age'** and **'Marks'** of students as shown below:\n",
    "\n",
    "```python\n",
    "    Name  Age  Marks\n",
    "0    Joe   20  85.10\n",
    "1    Nat   21  77.80\n",
    "2  Harry   19  91.54\n",
    "```"
   ]
  },
  {
   "cell_type": "markdown",
   "metadata": {
    "id": "yHjMTWRM50cV"
   },
   "source": [
    "### Metadata info of DataFrame\n",
    "\n",
    "**`DataFrame.info()`** is a function of DataFrame that gives metadata of DataFrame. Which includes,\n",
    "\n",
    "* Number of rows and its range of index\n",
    "* Total number of columns\n",
    "* List of columns\n",
    "* Count of the total number of non-null values in the column\n",
    "* Data type of column\n",
    "* Count of columns in each data type\n",
    "* Memory usage by the DataFrame"
   ]
  },
  {
   "cell_type": "code",
   "execution_count": 23,
   "metadata": {
    "ExecuteTime": {
     "end_time": "2021-07-06T16:31:45.781304Z",
     "start_time": "2021-07-06T16:31:45.523493Z"
    },
    "id": "yNUIRIIc50cV",
    "outputId": "d8e39fc0-0f23-4639-e834-3dde3507fbb5"
   },
   "outputs": [
    {
     "name": "stdout",
     "output_type": "stream",
     "text": [
      "<class 'pandas.core.frame.DataFrame'>\n",
      "RangeIndex: 3 entries, 0 to 2\n",
      "Data columns (total 3 columns):\n",
      " #   Column  Non-Null Count  Dtype  \n",
      "---  ------  --------------  -----  \n",
      " 0   Name    3 non-null      object \n",
      " 1   Age     3 non-null      int64  \n",
      " 2   Marks   3 non-null      float64\n",
      "dtypes: float64(1), int64(1), object(1)\n",
      "memory usage: 204.0+ bytes\n"
     ]
    }
   ],
   "source": [
    "# Example: In the below example, we got metadata information of student DataFrame.\n",
    "\n",
    "# get dataframe info\n",
    "student_df.info()"
   ]
  },
  {
   "cell_type": "markdown",
   "metadata": {
    "id": "Hs4NDWbz50cW"
   },
   "source": [
    "### Get the statistics of DataFrame\n",
    "\n",
    "**`DataFrame.describe()`** is a function that gives mathematical statistics of the data in DataFrame. But, it applies to the columns that contain numeric values.\n",
    "\n",
    "In our example of student DataFrame, it gives descriptive statistics of **'Age'** and **'Marks'** columns only, that includes:\n",
    "\n",
    "1. **count**: Total number of non-null values in the column\n",
    "2. **mean**: an average of numbers\n",
    "3. **std**: a standard deviation value\n",
    "4. **min**: minimum value\n",
    "5. **25%**: 25th percentile\n",
    "6. **50%**: 50th percentile\n",
    "7. **75%**: 75th percentile\n",
    "8. **max**: maximum value\n",
    "\n",
    ">**Note:** Output of **`DataFrame.describe()`** function varies depending on the input DataFrame."
   ]
  },
  {
   "cell_type": "code",
   "execution_count": 24,
   "metadata": {
    "ExecuteTime": {
     "end_time": "2021-07-06T16:31:46.045947Z",
     "start_time": "2021-07-06T16:31:45.786186Z"
    },
    "id": "1WEErHOG50cW",
    "outputId": "3d9d23ce-d278-4541-f4c3-29090464975b"
   },
   "outputs": [
    {
     "data": {
      "text/html": [
       "<div>\n",
       "<style scoped>\n",
       "    .dataframe tbody tr th:only-of-type {\n",
       "        vertical-align: middle;\n",
       "    }\n",
       "\n",
       "    .dataframe tbody tr th {\n",
       "        vertical-align: top;\n",
       "    }\n",
       "\n",
       "    .dataframe thead th {\n",
       "        text-align: right;\n",
       "    }\n",
       "</style>\n",
       "<table border=\"1\" class=\"dataframe\">\n",
       "  <thead>\n",
       "    <tr style=\"text-align: right;\">\n",
       "      <th></th>\n",
       "      <th>Age</th>\n",
       "      <th>Marks</th>\n",
       "    </tr>\n",
       "  </thead>\n",
       "  <tbody>\n",
       "    <tr>\n",
       "      <th>count</th>\n",
       "      <td>3.0</td>\n",
       "      <td>3.000000</td>\n",
       "    </tr>\n",
       "    <tr>\n",
       "      <th>mean</th>\n",
       "      <td>20.0</td>\n",
       "      <td>84.813333</td>\n",
       "    </tr>\n",
       "    <tr>\n",
       "      <th>std</th>\n",
       "      <td>1.0</td>\n",
       "      <td>6.874484</td>\n",
       "    </tr>\n",
       "    <tr>\n",
       "      <th>min</th>\n",
       "      <td>19.0</td>\n",
       "      <td>77.800000</td>\n",
       "    </tr>\n",
       "    <tr>\n",
       "      <th>25%</th>\n",
       "      <td>19.5</td>\n",
       "      <td>81.450000</td>\n",
       "    </tr>\n",
       "    <tr>\n",
       "      <th>50%</th>\n",
       "      <td>20.0</td>\n",
       "      <td>85.100000</td>\n",
       "    </tr>\n",
       "    <tr>\n",
       "      <th>75%</th>\n",
       "      <td>20.5</td>\n",
       "      <td>88.320000</td>\n",
       "    </tr>\n",
       "    <tr>\n",
       "      <th>max</th>\n",
       "      <td>21.0</td>\n",
       "      <td>91.540000</td>\n",
       "    </tr>\n",
       "  </tbody>\n",
       "</table>\n",
       "</div>"
      ],
      "text/plain": [
       "        Age      Marks\n",
       "count   3.0   3.000000\n",
       "mean   20.0  84.813333\n",
       "std     1.0   6.874484\n",
       "min    19.0  77.800000\n",
       "25%    19.5  81.450000\n",
       "50%    20.0  85.100000\n",
       "75%    20.5  88.320000\n",
       "max    21.0  91.540000"
      ]
     },
     "execution_count": 24,
     "metadata": {},
     "output_type": "execute_result"
    }
   ],
   "source": [
    "# Example\n",
    "\n",
    "# get dataframe description\n",
    "student_df.describe()"
   ]
  },
  {
   "cell_type": "markdown",
   "metadata": {
    "id": "qEFQlW4O50cW"
   },
   "source": [
    "## DataFrame Attributes\n",
    "\n",
    "DataFrame has provided many built-in attributes. Attributes do not modify the underlying data, unlike functions, but it is used to get more details about the DataFrame."
   ]
  },
  {
   "cell_type": "markdown",
   "metadata": {
    "id": "xx-JGkBC50cW"
   },
   "source": [
    "Following are majorly used attributes of the DataFrame:\n",
    "\n",
    "| Attribute | Description |\n",
    "|:---- |:---- |\n",
    "| **`DataFrame.index`**   | **It gives the Range of the row index** |\n",
    "| **`DataFrame.columns`** | **It gives a list of column labels** |\n",
    "| **`DataFrame.dtypes`**  | **It gives column names and their data type** |\n",
    "| **`DataFrame.values`**  | **It gives all the rows in DataFrame** |\n",
    "| **`DataFrame.empty`**   | **It is used to check if the DataFrame is empty** |\n",
    "| **`DataFrame.size`**    | **It gives a total number of values in DataFrame** |\n",
    "| **`DataFrame.shape`**   | **It a number of rows and columns in DataFrame** |"
   ]
  },
  {
   "cell_type": "code",
   "execution_count": 25,
   "metadata": {
    "ExecuteTime": {
     "end_time": "2021-07-06T16:31:46.124074Z",
     "start_time": "2021-07-06T16:31:46.050834Z"
    },
    "id": "Y9g_cNgv50cW",
    "outputId": "52a85c27-492d-442a-ceb7-876180655ba3"
   },
   "outputs": [
    {
     "name": "stdout",
     "output_type": "stream",
     "text": [
      "DataFrame :      Name  Age  Marks\n",
      "0    Joe   20  85.10\n",
      "1    Nat   21  77.80\n",
      "2  Harry   19  91.54\n",
      "DataFrame Index :  RangeIndex(start=0, stop=3, step=1)\n",
      "DataFrame Columns :  Index(['Name', 'Age', 'Marks'], dtype='object')\n",
      "DataFrame Column types :  Name      object\n",
      "Age        int64\n",
      "Marks    float64\n",
      "dtype: object\n",
      "DataFrame is empty? :  False\n",
      "DataFrame Shape :  (3, 3)\n",
      "DataFrame Size :  9\n",
      "DataFrame Values :  [['Joe' 20 85.1]\n",
      " ['Nat' 21 77.8]\n",
      " ['Harry' 19 91.54]]\n"
     ]
    }
   ],
   "source": [
    "# Example:\n",
    "\n",
    "import pandas as pd\n",
    "\n",
    "# Create DataFrame from dict\n",
    "student_dict = {'Name': ['Joe', 'Nat', 'Harry'], 'Age': [20, 21, 19], 'Marks': [85.10, 77.80, 91.54]}\n",
    "\n",
    "student_df = pd.DataFrame(student_dict)\n",
    "\n",
    "print(\"DataFrame : \", student_df)\n",
    "\n",
    "print(\"DataFrame Index : \", student_df.index)\n",
    "print(\"DataFrame Columns : \", student_df.columns)\n",
    "\n",
    "print(\"DataFrame Column types : \", student_df.dtypes)\n",
    "\n",
    "print(\"DataFrame is empty? : \", student_df.empty)\n",
    "\n",
    "print(\"DataFrame Shape : \", student_df.shape)\n",
    "print(\"DataFrame Size : \", student_df.size)\n",
    "\n",
    "print(\"DataFrame Values : \", student_df.values)"
   ]
  },
  {
   "cell_type": "markdown",
   "metadata": {
    "id": "PP08zx2M50cW"
   },
   "source": [
    "## DataFrame selection\n",
    "\n",
    "While dealing with the vast data in DataFrame, a data analyst always needs to select a particular row or column for the analysis. In such cases, functions that can choose a set of rows or columns like top rows, bottom rows, or data within an index range play a significant role."
   ]
  },
  {
   "cell_type": "markdown",
   "metadata": {
    "id": "1aBnHgQ-50cW"
   },
   "source": [
    "Following are the functions that help in selecting the subset of the DataFrame:\n",
    "\n",
    "| Attribute | Description |\n",
    "|:---- |:---- |\n",
    "| **`DataFrame.head(n)`**  | **It is used to select top ‘n’ rows in DataFrame.** |\n",
    "| **`DataFrame.tail(n)`**  | **It is used to select bottom ‘n’ rows in DataFrame.** |\n",
    "| **`DataFrame.at`**       | **It is used to get and set the particular value of DataFrame using row and column labels.** |\n",
    "| **`DataFrame.iat`**      | **It is used to get and set the particular value of DataFrame using row and column index positions.** |\n",
    "| **`DataFrame.get(key)`** | **It is used to get the value of a key in DataFrame where Key is the column name.** |\n",
    "| **`DataFrame.loc()`**    | **It is used to select a group of data based on the row and column labels. It is used for slicing and filtering of the DataFrame.** |\n",
    "| **`DataFrame.iloc()`**   | **It is used to select a group of data based on the row and column index position. Use it for slicing and filtering the DataFrame.** |"
   ]
  },
  {
   "cell_type": "code",
   "execution_count": 17,
   "metadata": {
    "ExecuteTime": {
     "end_time": "2021-07-06T16:31:46.358448Z",
     "start_time": "2021-07-06T16:31:46.134819Z"
    },
    "id": "0sd8abyx50cW",
    "outputId": "11ac9b75-44b8-42cb-8241-48572915bd7e",
    "scrolled": true
   },
   "outputs": [
    {
     "name": "stdout",
     "output_type": "stream",
     "text": [
      "DataFrame : \n",
      "     Name  Age  Marks\n",
      "0    Joe   20  85.10\n",
      "1    Nat   21  77.80\n",
      "2  Harry   19  91.54\n",
      "\n",
      "student_df.head(2) : \n",
      "\n",
      "  Name  Age  Marks\n",
      "0  Joe   20   85.1\n",
      "1  Nat   21   77.8\n",
      "\n",
      "student_df.tail(2) : \n",
      "\n",
      "    Name  Age  Marks\n",
      "1    Nat   21  77.80\n",
      "2  Harry   19  91.54\n",
      "\n",
      "student_df.at[0, 'Name'] : \n",
      "\n",
      "Joe\n",
      "\n",
      "student_df.iat[0, 0] : \n",
      "\n",
      "Joe\n",
      "\n",
      "student_df.get('Name') : \n",
      "\n",
      "0      Joe\n",
      "1      Nat\n",
      "2    Harry\n",
      "Name: Name, dtype: object\n",
      "\n",
      "student_df.loc[0:2, ['Name']] : \n",
      "\n",
      "    Name\n",
      "0    Joe\n",
      "1    Nat\n",
      "2  Harry\n",
      "\n",
      "student_df.iloc[0:2, 0:2] : \n",
      "\n",
      "  Name  Age\n",
      "0  Joe   20\n",
      "1  Nat   21\n"
     ]
    }
   ],
   "source": [
    "# Example\n",
    "\n",
    "import pandas as pd\n",
    "\n",
    "# Create DataFrame from dict\n",
    "student_dict = {'Name': ['Joe', 'Nat', 'Harry'], 'Age': [20, 21, 19], 'Marks': [85.10, 77.80, 91.54]}\n",
    "\n",
    "student_df = pd.DataFrame(student_dict)\n",
    "\n",
    "# display dataframe\n",
    "print(\"DataFrame : \\n\", student_df)\n",
    "\n",
    "# select top 2 rows\n",
    "print(\"\\nstudent_df.head(2) : \\n\")\n",
    "print(student_df.head(2))\n",
    "\n",
    "# select bottom 2 rows\n",
    "print(\"\\nstudent_df.tail(2) : \\n\")\n",
    "print(student_df.tail(2))\n",
    "\n",
    "# select value at row index 0 and column 'Name'\n",
    "print(\"\\nstudent_df.at[0, 'Name'] : \\n\")\n",
    "print(student_df.at[0, 'Name'])\n",
    "\n",
    "# select value at first row and first column\n",
    "print(\"\\nstudent_df.iat[0, 0] : \\n\")\n",
    "print(student_df.iat[0, 0])\n",
    "\n",
    "\n",
    "# select values of 'Name' column\n",
    "print(\"\\nstudent_df.get('Name') : \\n\")\n",
    "print(student_df.get('Name'))\n",
    "\n",
    "# select values from row index 0 to 2 and 'Name' column\n",
    "print(\"\\nstudent_df.loc[0:2, ['Name']] : \\n\")\n",
    "print(student_df.loc[0:2, ['Name']])\n",
    "\n",
    "# select values from row index 0 to 2(exclusive) and column position 0 to 2(exclusive)\n",
    "print(\"\\nstudent_df.iloc[0:2, 0:2] : \\n\")\n",
    "print(student_df.iloc[0:2, 0:2])"
   ]
  }
 ],
 "metadata": {
  "colab": {
   "provenance": []
  },
  "kernelspec": {
   "display_name": "Python 3 (ipykernel)",
   "language": "python",
   "name": "python3"
  },
  "language_info": {
   "codemirror_mode": {
    "name": "ipython",
    "version": 3
   },
   "file_extension": ".py",
   "mimetype": "text/x-python",
   "name": "python",
   "nbconvert_exporter": "python",
   "pygments_lexer": "ipython3",
   "version": "3.11.5"
  }
 },
 "nbformat": 4,
 "nbformat_minor": 1
}
