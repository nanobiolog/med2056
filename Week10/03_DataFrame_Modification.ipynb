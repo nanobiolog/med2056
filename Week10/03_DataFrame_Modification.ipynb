{
 "cells": [
  {
   "cell_type": "markdown",
   "metadata": {
    "id": "PzwdigyH50cW"
   },
   "source": [
    "## DataFrame modification\n",
    "\n",
    "DataFrame is similar to any excel sheet or a database table where we need to insert new data or **[drop columns]()** and rows if not required. Such data manipulation operations are very common on a DataFrame.\n",
    "\n",
    "In this section, we discuss the data manipulation functions of the DataFrame."
   ]
  },
  {
   "cell_type": "markdown",
   "metadata": {
    "id": "VxGirYYP50cW"
   },
   "source": [
    "### Insert columns\n",
    "\n",
    "Sometimes it is required to add a new column in the DataFrame. **`DataFrame.insert()`** function is used to insert a new column in DataFrame at the specified position.\n",
    "\n",
    "In the below example, we insert a new column **'Class'** as a third new column in the DataFrame with default value ‘**A**’ using the syntax:\n",
    "\n",
    "```python\n",
    "df.insert(loc = col_position, column = new_col_name, value = default_value)\n",
    "```"
   ]
  },
  {
   "cell_type": "code",
   "execution_count": 17,
   "metadata": {
    "ExecuteTime": {
     "end_time": "2021-07-06T16:31:46.451221Z",
     "start_time": "2021-07-06T16:31:46.365288Z"
    },
    "id": "Mqb1tdAt50cX",
    "outputId": "c6434982-9104-46df-b340-5c7c22ef7cf4",
    "scrolled": true
   },
   "outputs": [
    {
     "name": "stdout",
     "output_type": "stream",
     "text": [
      "    Name  Age  Marks\n",
      "0    Joe   20  85.10\n",
      "1    Nat   21  77.80\n",
      "2  Harry   19  91.54\n",
      "    Name  Age Class  Marks\n",
      "0    Joe   20     A  85.10\n",
      "1    Nat   21     B  77.80\n",
      "2  Harry   19     A  91.54\n"
     ]
    }
   ],
   "source": [
    "# Example:\n",
    "\n",
    "import pandas as pd\n",
    "\n",
    "# Create DataFrame from dict\n",
    "student_dict = {'Name': ['Joe', 'Nat', 'Harry'], 'Age': [20, 21, 19], 'Marks': [85.10, 77.80, 91.54]}\n",
    "student_df = pd.DataFrame(student_dict)\n",
    "print(student_df)\n",
    "\n",
    "# insert new column in dataframe and display\n",
    "student_df.insert(loc=2, column=\"Class\", value=['A','B','A'])\n",
    "print(student_df)"
   ]
  },
  {
   "cell_type": "markdown",
   "metadata": {
    "id": "Ty2nx1bD50cX"
   },
   "source": [
    "### Drop columns\n",
    "\n",
    "DataFrame may contain redundant data, in such cases, we may need to delete such data that is not required. **`DataFrame.drop()`** function is used to **[delete the columns from DataFrame](https://github.com/milaan9/10_Python_Pandas_Module/blob/main/001_Python_Pandas_Methods/004_Python_Pandas_DataFrame_drop_columns.ipynb)**."
   ]
  },
  {
   "cell_type": "markdown",
   "metadata": {
    "id": "6q2EsFxT50cX"
   },
   "source": [
    "In the below example, we delete the “**Age**” column from the student DataFrame using **`df.drop(columns=[col1,col2...])`**."
   ]
  },
  {
   "cell_type": "code",
   "execution_count": 18,
   "metadata": {
    "ExecuteTime": {
     "end_time": "2021-07-06T16:31:46.716357Z",
     "start_time": "2021-07-06T16:31:46.455127Z"
    },
    "id": "grGKjMOC50cX",
    "outputId": "29d8914f-c5f6-4294-e909-5af8bb08e1e1"
   },
   "outputs": [
    {
     "name": "stdout",
     "output_type": "stream",
     "text": [
      "    Name  Age  Marks\n",
      "0    Joe   20  85.10\n",
      "1    Nat   21  77.80\n",
      "2  Harry   19  91.54\n",
      "   Marks\n",
      "0  85.10\n",
      "1  77.80\n",
      "2  91.54\n"
     ]
    }
   ],
   "source": [
    "import pandas as pd\n",
    "\n",
    "# Create DataFrame from dict\n",
    "student_dict = {'Name': ['Joe', 'Nat', 'Harry'], 'Age': [20, 21, 19], 'Marks': [85.10, 77.80, 91.54]}\n",
    "\n",
    "student_df = pd.DataFrame(student_dict)\n",
    "print(student_df)\n",
    "\n",
    "# delete column from dataframe\n",
    "student_df = student_df.drop(columns=['Age','Name'])\n",
    "print(student_df)"
   ]
  },
  {
   "cell_type": "markdown",
   "metadata": {
    "id": "RhJ9rY3250cX"
   },
   "source": [
    "### Apply condition\n",
    "\n",
    "We may need to update the value in the DataFrame based on some condition. **`DataFrame.where() `**function is used to replace the value of DataFrame, where the condition is **`False`**.\n",
    "\n",
    "**Syntax:**\n",
    "```python\n",
    "where(filter, other=new_value)\n",
    "```\n",
    "\n",
    "It applies the filter condition on all the rows in the DataFrame, as follows:\n",
    "\n",
    "* If the filter condition returns **`False`**, then it updates the row with the value specified in **`other`** parameter.\n",
    "* If the filter condition returns **`True`**, then it does not update the row."
   ]
  },
  {
   "cell_type": "markdown",
   "metadata": {
    "id": "NWUUtATa50cX"
   },
   "source": [
    "In the below example, we want to replace the student marks with ‘0’ where marks are less than 80. We pass a filter condition **`df['Marks'] > 80`** to the function."
   ]
  },
  {
   "cell_type": "code",
   "execution_count": 19,
   "metadata": {
    "ExecuteTime": {
     "end_time": "2021-07-06T16:31:47.244185Z",
     "start_time": "2021-07-06T16:31:46.719287Z"
    },
    "id": "mlWU2BEP50cX",
    "outputId": "b38263ba-8b80-4d0b-a6c4-3d945ce449da",
    "scrolled": true
   },
   "outputs": [
    {
     "name": "stdout",
     "output_type": "stream",
     "text": [
      "    Name  Age  Marks\n",
      "0    Joe   20  85.10\n",
      "1    Nat   21  77.80\n",
      "2  Harry   19  91.54\n",
      "    Name  Age  Marks\n",
      "0    Joe   20  85.10\n",
      "1    Nat   21   0.00\n",
      "2  Harry   19  91.54\n"
     ]
    }
   ],
   "source": [
    "import pandas as pd\n",
    "\n",
    "# Create DataFrame from dict\n",
    "student_dict = {'Name': ['Joe', 'Nat', 'Harry'], 'Age': [20, 21, 19], 'Marks': [85.10, 77.80, 91.54]}\n",
    "\n",
    "student_df = pd.DataFrame(student_dict)\n",
    "print(student_df)\n",
    "\n",
    "# Define filter condition\n",
    "filter = student_df['Marks'] > 80\n",
    "\n",
    "student_df['Marks'].where(filter, other=0, inplace=True)\n",
    "print(student_df)"
   ]
  },
  {
   "cell_type": "markdown",
   "metadata": {
    "id": "xN_N3_rV50cX"
   },
   "source": [
    "## DataFrame filter columns\n",
    "\n",
    "Datasets contain massive data that need to be analyzed. But, sometimes, we may want to analyze relevant data and filter out all the other data. In such a case, we can use **`DataFrame.filter() `** function to fetch only required data from DataFrame.\n",
    "\n",
    "It returns the subset of the DataFrame by applying conditions on each row index or column label as specified using the below syntax.\n",
    "\n",
    "**Syntax:**\n",
    "```python\n",
    "df.filter(like = filter_cond, axis = 'columns' or 'index')\n",
    "```"
   ]
  },
  {
   "cell_type": "markdown",
   "metadata": {
    "id": "7QIbmaeV50cX"
   },
   "source": [
    "It applies the condition on each row index or column label.\n",
    "\n",
    "* If the condition passed then, it includes that row or column in the resultant DataFrame.\n",
    "* If the condition failed, then it does not have that row or column in the resulting DataFrame.\n",
    "\n",
    ">**Note:** It applies the filter on row index or column label, not on actual data."
   ]
  },
  {
   "cell_type": "markdown",
   "metadata": {
    "id": "HIOkoRuo50cY"
   },
   "source": [
    "In the below example, we only include the column with a column label that starts with ‘**N**’."
   ]
  },
  {
   "cell_type": "code",
   "execution_count": 20,
   "metadata": {
    "ExecuteTime": {
     "end_time": "2021-07-06T16:31:47.310591Z",
     "start_time": "2021-07-06T16:31:47.264696Z"
    },
    "id": "OF6yZaUA50cY",
    "outputId": "9b9ca0fd-e8fa-4434-9e2d-046f45e60df9",
    "scrolled": true
   },
   "outputs": [
    {
     "name": "stdout",
     "output_type": "stream",
     "text": [
      "    Name  Age  Marks\n",
      "0    Joe   20  85.10\n",
      "1    Nat   21  77.80\n",
      "2  Harry   19  91.54\n",
      "    Name  Marks\n",
      "0    Joe  85.10\n",
      "1    Nat  77.80\n",
      "2  Harry  91.54\n"
     ]
    }
   ],
   "source": [
    "\n",
    "import pandas as pd\n",
    "\n",
    "# Create DataFrame from dict\n",
    "student_dict = {'Name': ['Joe', 'Nat', 'Harry'], 'Age': [20, 21, 19], 'Marks': [85.10, 77.80, 91.54]}\n",
    "\n",
    "student_df = pd.DataFrame(student_dict)\n",
    "print(student_df)\n",
    "\n",
    "# apply filter on dataframe\n",
    "student_df = student_df.filter(like='a', axis='columns')\n",
    "print(student_df)"
   ]
  },
  {
   "cell_type": "markdown",
   "metadata": {
    "id": "Z3GhJgzm50cY"
   },
   "source": [
    "## DataFrame rename columns\n",
    "\n",
    "While working with DataFrame, we may need to **[rename the column](https://github.com/milaan9/10_Python_Pandas_Module/blob/main/001_Python_Pandas_Methods/007_Python_Pandas_DataFrame_rename_columns.ipynb)** or row index. We can use **`DataFrame.rename()`** function to alter the row or column labels.\n",
    "\n",
    "We need to pass a dictionary of key-value pairs as input to the function. Where key of the **`dict`** is the existing column label, and the value of **`dict`** is the new column label.\n",
    "\n",
    "```python\n",
    "df.rename(columns = {'old':'new'})\n",
    "```\n",
    "\n",
    "It can be used to rename single or multiple columns and row labels."
   ]
  },
  {
   "cell_type": "markdown",
   "metadata": {
    "id": "Gx1UXT2S50cY"
   },
   "source": [
    "In the below example, we rename column '**Marks**' to '**Percentage**' in the student DataFrame."
   ]
  },
  {
   "cell_type": "code",
   "execution_count": 21,
   "metadata": {
    "ExecuteTime": {
     "end_time": "2021-07-06T16:31:47.430221Z",
     "start_time": "2021-07-06T16:31:47.316454Z"
    },
    "id": "M3mCI2q650cY",
    "outputId": "ba9ff335-ab43-4a46-a197-62f9baca95b8"
   },
   "outputs": [
    {
     "name": "stdout",
     "output_type": "stream",
     "text": [
      "    Name  Age  Marks\n",
      "0    Joe   20  85.10\n",
      "1    Nat   21  77.80\n",
      "2  Harry   19  91.54\n",
      "    Name  Age  Percentage\n",
      "0    Joe   20       85.10\n",
      "1    Nat   21       77.80\n",
      "2  Harry   19       91.54\n"
     ]
    }
   ],
   "source": [
    "import pandas as pd\n",
    "\n",
    "# Create DataFrame from dict\n",
    "student_dict = {'Name': ['Joe', 'Nat', 'Harry'], 'Age': [20, 21, 19], 'Marks': [85.10, 77.80, 91.54]}\n",
    "\n",
    "student_df = pd.DataFrame(student_dict)\n",
    "print(student_df)\n",
    "\n",
    "# rename column\n",
    "student_df = student_df.rename(columns={'Marks': 'Percentage'})\n",
    "print(student_df)"
   ]
  },
  {
   "cell_type": "markdown",
   "metadata": {
    "id": "7Ug-Rz3k50cY"
   },
   "source": [
    "## DataFrame Join\n",
    "\n",
    "In most of the use cases of Data Analytics, data gathered from multiple sources, and we need to combine that data for further analysis. In such instances, join and merge operations are required.\n",
    "\n",
    "**`DataFrame.join()`** function is used to join one DataFrame with another DataFrame as **`df1.join(df2)`**"
   ]
  },
  {
   "cell_type": "markdown",
   "metadata": {
    "id": "WFj6rqXB50cY"
   },
   "source": [
    "In the below example, we joined two different DataFrames to create a new resultant DataFrame."
   ]
  },
  {
   "cell_type": "code",
   "execution_count": null,
   "metadata": {
    "ExecuteTime": {
     "end_time": "2021-07-06T16:31:47.608934Z",
     "start_time": "2021-07-06T16:31:47.442917Z"
    },
    "id": "ov-l2bT550cY",
    "outputId": "bcbfbd03-e216-4743-c3f8-8dbad6a02261"
   },
   "outputs": [
    {
     "name": "stdout",
     "output_type": "stream",
     "text": [
      "  Name  Age\n",
      "0  Joe   20\n",
      "1  Nat   21\n",
      "   Marks\n",
      "0   85.1\n",
      "1   77.8\n",
      "  Name  Age  Marks\n",
      "0  Joe   20   85.1\n",
      "1  Nat   21   77.8\n"
     ]
    }
   ],
   "source": [
    "import pandas as pd\n",
    "\n",
    "# create dataframe from dict\n",
    "student_dict = {'Name': ['Joe', 'Nat'], 'Age': [20, 21]}\n",
    "student_df = pd.DataFrame(student_dict)\n",
    "print(student_df)\n",
    "\n",
    "# create dataframe from dict\n",
    "marks_dict = {'Marks': [85.10, 77.80]}\n",
    "marks_df = pd.DataFrame(marks_dict)\n",
    "print(marks_df)\n",
    "\n",
    "# join dfs\n",
    "joined_df = student_df.join(marks_df)\n",
    "print(joined_df)"
   ]
  },
  {
   "cell_type": "markdown",
   "metadata": {
    "id": "phBXEftt50cY"
   },
   "source": [
    "## DataFrame GroupBy\n",
    "\n",
    "**`GroupBy`** operation means splitting the data and then combining them based on some condition. Large data can be divided into logical groups to analyze it.\n",
    "\n",
    "**`DataFrame.groupby()`** function groups the DataFrame row-wise or column-wise based on the condition."
   ]
  },
  {
   "cell_type": "markdown",
   "metadata": {
    "id": "lJ36s7Td50cY"
   },
   "source": [
    "If we want to analyze each class’s average marks, we need to combine the student data based on the ‘Class’ column and calculate its average using **`df.groupby(col_label).mean()`** as shown in the below example."
   ]
  },
  {
   "cell_type": "code",
   "execution_count": 26,
   "metadata": {
    "ExecuteTime": {
     "end_time": "2021-07-06T16:31:47.771530Z",
     "start_time": "2021-07-06T16:31:47.625535Z"
    },
    "id": "-Aak8raU50cZ",
    "outputId": "3c9f0340-16df-4be5-f6b2-7673e7fdffcf"
   },
   "outputs": [
    {
     "name": "stdout",
     "output_type": "stream",
     "text": [
      "Original DataFrame:\n",
      "    Name Class  Marks\n",
      "0    Joe     A  85.10\n",
      "1    Nat     B  77.80\n",
      "2  Harry     A  91.54\n",
      "\n",
      "DataFrame after groupby and reset index:\n",
      "  Class  Mean Marks\n",
      "0     A       88.32\n",
      "1     B       77.80\n"
     ]
    }
   ],
   "source": [
    "import pandas as pd\n",
    "\n",
    "# Create DataFrame from dict\n",
    "student_dict = {'Name': ['Joe', 'Nat', 'Harry'], 'Class': ['A', 'B', 'A'], 'Marks': [85.10, 77.80, 91.54]}\n",
    "student_df = pd.DataFrame(student_dict)\n",
    "print(\"Original DataFrame:\")\n",
    "print(student_df)\n",
    "\n",
    "# Exclude non-numeric columns before applying groupby and mean\n",
    "student_df_mean = student_df.groupby('Class')['Marks'].mean().reset_index()\n",
    "print(\"\\nDataFrame after groupby and reset index:\")\n",
    "student_df_mean=student_df_mean.rename(columns = {'Marks':'Mean Marks'})\n",
    "print(student_df_mean)"
   ]
  },
  {
   "cell_type": "markdown",
   "metadata": {
    "id": "Ijm7i30L50cZ"
   },
   "source": [
    "## DataFrame Iteration\n",
    "\n",
    "DataFrame iteration means visiting each element in the DataFrame one by one. While analyzing a DataFrame, we may need to iterate over each row of the DataFrame.\n",
    "\n",
    "There are multiple ways to iterate a DataFrame. We will see the function **`DataFrame.iterrows()`**, which can loop a DataFrame row-wise. It returns the index and row of the DataFrame in each iteration of the for a loop."
   ]
  },
  {
   "cell_type": "code",
   "execution_count": 27,
   "metadata": {
    "ExecuteTime": {
     "end_time": "2021-07-06T16:31:47.879924Z",
     "start_time": "2021-07-06T16:31:47.774458Z"
    },
    "id": "VJe6MLh_50cZ",
    "outputId": "902718f4-df4a-49b1-c642-c7eca9d22e48"
   },
   "outputs": [
    {
     "name": "stdout",
     "output_type": "stream",
     "text": [
      "\n",
      "index : \n",
      " 0\n",
      "\n",
      "row : \n",
      " Name     Joe\n",
      "Age       20\n",
      "Marks     85\n",
      "Name: 0, dtype: object\n",
      "\n",
      "index : \n",
      " 1\n",
      "\n",
      "row : \n",
      " Name     Nat\n",
      "Age       21\n",
      "Marks     77\n",
      "Name: 1, dtype: object\n"
     ]
    }
   ],
   "source": [
    "import pandas as pd\n",
    "\n",
    "# Create DataFrame from dict\n",
    "student_dict = {'Name': ['Joe', 'Nat'], 'Age': [20, 21], 'Marks': [85, 77]}\n",
    "student_df = pd.DataFrame(student_dict)\n",
    "\n",
    "# Iterate all the rows of DataFrame\n",
    "for index, row in student_df.iterrows():\n",
    "    print(\"\\nindex : \\n\",index)\n",
    "    print(\"\\nrow : \\n\",row)"
   ]
  },
  {
   "cell_type": "markdown",
   "metadata": {
    "id": "X-OPUa5D50cZ"
   },
   "source": [
    "## DataFrame Sorting\n",
    "\n",
    "Data Analyst always needs to perform different operations on the underlying data like merge, sort, concatenate, etc. The most frequently used operation is the sorting of data. Sorted data becomes easy to analyze and inferred.\n",
    "\n",
    "The **`DataFrame.sort_values()`** function is used to sort the DataFrame using one or more columns in ascending (default) or descending order."
   ]
  },
  {
   "cell_type": "markdown",
   "metadata": {
    "id": "TC8uQp9250cZ"
   },
   "source": [
    "In the below example, we sort the student data based on the '**Marks**'."
   ]
  },
  {
   "cell_type": "code",
   "execution_count": 28,
   "metadata": {
    "ExecuteTime": {
     "end_time": "2021-07-06T16:31:48.006395Z",
     "start_time": "2021-07-06T16:31:47.884810Z"
    },
    "id": "aGchkNTt50cZ",
    "outputId": "4ad5a176-d5e3-4b84-c37a-28acaf861a71"
   },
   "outputs": [
    {
     "name": "stdout",
     "output_type": "stream",
     "text": [
      "\n",
      "original df : \n",
      "\n",
      "    Name  Age  Marks\n",
      "0    Joe   20  85.10\n",
      "1    Nat   21  77.80\n",
      "2  Harry   19  91.54\n",
      "\n",
      "sorted df : \n",
      "\n",
      "    Name  Age  Marks\n",
      "2  Harry   19  91.54\n",
      "0    Joe   20  85.10\n",
      "1    Nat   21  77.80\n"
     ]
    }
   ],
   "source": [
    "import pandas as pd\n",
    "\n",
    "# Create DataFrame from dict\n",
    "student_dict = {'Name': ['Joe', 'Nat', 'Harry'], 'Age': [20, 21, 19], 'Marks': [85.10, 77.80, 91.54]}\n",
    "student_df = pd.DataFrame(student_dict)\n",
    "print(\"\\noriginal df : \\n\")\n",
    "print(student_df)\n",
    "\n",
    "# rename column\n",
    "print(\"\\nsorted df : \\n\")\n",
    "student_df = student_df.sort_values(by=['Age'])\n",
    "print(student_df)"
   ]
  },
  {
   "cell_type": "markdown",
   "metadata": {
    "id": "nCXilFQ-50cZ"
   },
   "source": [
    "## DataFrame conversion\n",
    "\n",
    "After all the processing on DataFrame, we will get the expected data in the DataFrame. But, we may require to convert the DataFrame back to its original formats like CSV file or **`dict`**, or we may need to convert it to another format for further action like storing it into the Database as SQL table format.\n",
    "\n",
    "Pandas have provided plenty of functions to convert the DataFrames into many different formats."
   ]
  },
  {
   "cell_type": "markdown",
   "metadata": {
    "id": "eX5sdFkn50cZ"
   },
   "source": [
    "For example, **`DataFrame.to_dict()`** function is used to converts the **[DataFrame into a Python dictionary](https://github.com/milaan9/10_Python_Pandas_Module/blob/main/001_Python_Pandas_Methods/008_Python_Pandas_DataFrame_to_Python_dictionary.ipynb)** object.\n",
    "\n",
    "Below is the example of a DataFrame which we need to convert into the Python **`dict`**.\n",
    "\n",
    "```python\n",
    "    Name  Class Marks\n",
    "0    Joe     A  85.10\n",
    "1    Nat     B  77.80\n",
    "2  Harry     A  91.54\n",
    "```"
   ]
  },
  {
   "cell_type": "markdown",
   "metadata": {
    "id": "OVqv7G-i50cZ"
   },
   "source": [
    "Let’s see how we can use **`DataFrame.to_dict()`** function to convert the DataFrame into the Python dictionary. By default, it creates the dictionary with keys as column labels and values as mapping of the row index and data."
   ]
  },
  {
   "cell_type": "code",
   "execution_count": 29,
   "metadata": {
    "ExecuteTime": {
     "end_time": "2021-07-06T16:31:48.131391Z",
     "start_time": "2021-07-06T16:31:48.014205Z"
    },
    "id": "g8Tip2J550cZ",
    "outputId": "8903b304-86a0-4b8e-c1b1-7ace786d7eaa"
   },
   "outputs": [
    {
     "name": "stdout",
     "output_type": "stream",
     "text": [
      "{'Name': {2: 'Harry', 0: 'Joe', 1: 'Nat'}, 'Age': {2: 19, 0: 20, 1: 21}, 'Marks': {2: 91.54, 0: 85.1, 1: 77.8}}\n"
     ]
    }
   ],
   "source": [
    "# convert dataframe to dict\n",
    "dict = student_df.to_dict()\n",
    "print(dict)"
   ]
  },
  {
   "cell_type": "code",
   "execution_count": 30,
   "metadata": {},
   "outputs": [],
   "source": [
    "student_df.to_csv(\"student_df.csv\")"
   ]
  },
  {
   "cell_type": "markdown",
   "metadata": {
    "id": "7ptAe7Uy50ca"
   },
   "source": [
    "# Summary:"
   ]
  },
  {
   "cell_type": "markdown",
   "metadata": {
    "id": "6gow4aef50ca"
   },
   "source": [
    "## Create Test Objects\n",
    "\n",
    "| Operator | Description |\n",
    "|:---- |:---- |\n",
    "| **`pd.DataFrame(np.random.rand(20,5))`** | **5 columns and 20 rows of random floats** |\n",
    "| **`pd.Series(my_list)`** | **Create a series from an iterable my_list** |\n",
    "| **`df.index = pd.date_range('1900/1/30', periods=df.shape[0])`** | **Add a date index** |"
   ]
  },
  {
   "cell_type": "markdown",
   "metadata": {
    "heading_collapsed": true,
    "id": "DerfJ0y250ca"
   },
   "source": [
    "## Viewing/Inspecting Data\n",
    "\n",
    "| Operator | Description |\n",
    "|:---- |:---- |\n",
    "| **`df.head(n)`** | **First n rows of the DataFrame** |\n",
    "| **`df.tail(n)`** | **Last n rows of the DataFrame** |\n",
    "| **`df.shape`** | **Number of rows and columns** |\n",
    "| **`df.info()`** | **Index, Datatype and Memory information** |\n",
    "| **`df.describe()`** | **Summary statistics for numerical columns** |\n",
    "| **`s.value_counts(dropna=False)`** | **View unique values and counts** |\n",
    "| **`df.apply(pd.Series.value_counts)`** | **Unique values and counts for all columns** |"
   ]
  },
  {
   "cell_type": "markdown",
   "metadata": {
    "id": "rsFmr7GQ50ca"
   },
   "source": [
    "## Selection\n",
    "\n",
    "| Operator | Description |\n",
    "|:---- |:---- |\n",
    "| **`df[col]`** | **Returns column with label col as Series** |\n",
    "| **`df[[col1, col2]]`** | **Returns columns as a new DataFrame** |\n",
    "| **`s.iloc[0]`** | **Selection by position** |\n",
    "| **`s.loc['index_one']`** | **Selection by index** |\n",
    "| **`df.iloc[0,:]`** | **First row** |\n",
    "| **`df.iloc[0,0]`** | **First element of first column** |"
   ]
  },
  {
   "cell_type": "markdown",
   "metadata": {
    "id": "73czFttM50ca"
   },
   "source": [
    "## Data Cleaning\n",
    "\n",
    "| Operator | Description |\n",
    "|:---- |:---- |\n",
    "| **`df.columns = ['a','b','c']`** | **Rename columns** |\n",
    "| **`pd.isnull()`** | **Checks for null Values, Returns Boolean Arrray** |\n",
    "| **`pd.notnull()`** | **Opposite of pd.isnull()** |\n",
    "| **`df.dropna()`** | **Drop all rows that contain null values** |\n",
    "| **`df.dropna(axis=1)`** | **Drop all columns that contain null values** |\n",
    "| **`df.dropna(axis=1,thresh=n)`** | **Drop all rows have have less than n non null values** |\n",
    "| **`df.fillna(x)`** | **Replace all null values with x** |\n",
    "| **`s.fillna(s.mean())`** | **Replace all null values with the mean** |\n",
    "| **`s.astype(float)`** | **Convert the datatype of the series to float** |\n",
    "| **`s.replace(1,'one')`** | **Replace all values equal to 1 with 'one'** |\n",
    "| **`s.replace([2,3],['two', 'three'])`** | **Replace all 2 with 'two' and 3 with 'three'** |\n",
    "| **`df.rename(columns=lambda x: x + 1)`** | **Mass renaming of columns** |\n",
    "| **`df.rename(columns={'old_name': 'new_ name'})`** | **Selective renaming** |\n",
    "| **`df.set_index('column_one')`** | **Change the index** |\n",
    "| **`df.rename(index=lambda x: x + 1)`** | **Mass renaming of index** |"
   ]
  },
  {
   "cell_type": "markdown",
   "metadata": {
    "id": "sIhRnrYU50ca"
   },
   "source": [
    "## Filter, Sort, and Groupby\n",
    "\n",
    "| Operator | Description |\n",
    "|:---- |:---- |\n",
    "| **`df[df[col] > 0.6]`** | **Rows where the column col is greater than 0.6** |\n",
    "| **`df[(df[col] > 0.6) & (df[col] < 0.8)]`** | **Rows where 0.8 > col > 0.6** |\n",
    "| **`df.sort_values(col1)`** | **Sort values by col1 in ascending order** |\n",
    "| **`df.sort_values(col2,ascending=False)`** | **Sort values by col2 in descending order.5** |\n",
    "| **`df.sort_values([col1,col2],ascending=[True,False])`** | **Sort values by col1 in ascending order then col2 in descending order** |\n",
    "| **`df.groupby(col)`** | **Returns a groupby object for values from one column** |\n",
    "| **`df.groupby([col1,col2])`** | **Returns groupby object for values from multiple columns** |\n",
    "| **`df.groupby(col1)[col2]`** | **Returns the mean of the values in col2, grouped by the values in col1** |\n",
    "| **`df.pivot_table(index=col1,values=[col2,col3],aggfunc=mean)`** | **Create a pivot table that groups by col1 and calculates the mean of col2 and col3** |\n",
    "| **`df.groupby(col1).agg(np.mean)`** | **Find the average across all columns for every unique col1 group** |\n",
    "| **`df.apply(np.mean)`** | **Apply the function np.mean() across each column** |\n",
    "| **`nf.apply(np.max,axis=1)`** | **Apply the function np.max() across each row** |"
   ]
  },
  {
   "cell_type": "markdown",
   "metadata": {
    "id": "56Z2VErL50ca"
   },
   "source": [
    "## Join/Combine\n",
    "\n",
    "| Operator | Description |\n",
    "|:---- |:---- |\n",
    "| **`df1.append(df2)`** | **Add the rows in df1 to the end of df2 (columns should be identical)** |\n",
    "| **`pd.concat([df1, df2],axis=1)`** | **Add the columns in df1 to the end of df2 (rows should be identical)** |\n",
    "| **`df1.join(df2,on=col1, how='inner')`** | **SQL-style join the columns in df1 with the columns on df2 where the rows for col have identical values. The 'how' can be 'left', 'right', 'outer' or 'inner'** |"
   ]
  },
  {
   "cell_type": "markdown",
   "metadata": {
    "id": "AAhzb5y150ca"
   },
   "source": [
    "## Statistics\n",
    "\n",
    "| Operator | Description |\n",
    "|:---- |:---- |\n",
    "| **`df.describe()`** | **Summary statistics for numerical columns** |\n",
    "| **`df.mean()`** | **Returns the mean of all columns** |\n",
    "| **`df.corr()`** | **Returns the correlation between columns in a DataFrame** |\n",
    "| **`df.count()`** | **Returns the number of non-null values in each DataFrame column** |\n",
    "| **`df.max()`** | **Returns the highest value in each column** |\n",
    "| **`df.min()`** | **Returns the lowest value in each column** |\n",
    "| **`df.median()`** | **Returns the median of each column** |\n",
    "| **`df.std()`** | **Returns the standard deviation of each column** |"
   ]
  },
  {
   "cell_type": "markdown",
   "metadata": {
    "id": "1Zmeic3N50ca"
   },
   "source": [
    "## Importing Data\n",
    "\n",
    "| Operator | Description |\n",
    "|:---- |:---- |\n",
    "| **`pd.read_csv(filename)`** | **From a CSV file** |\n",
    "| **`pd.read_table(filename)`** | **From a delimited text file (like TSV)** |\n",
    "| **`pd.read_excel(filename)`** | **From an Excel file** |\n",
    "| **`pd.read_sql(query, connection_object)`** | **Read from a SQL table/database** |\n",
    "| **`pd.read_json(json_string)`** | **Read from a JSON formatted string, URL or file.** |\n",
    "| **`pd.read_html(url)`** | **Parses an html URL, string or file and extracts tables to a list of dataframes** |\n",
    "| **`pd.read_clipboard()`** | **Takes the contents of your clipboard and passes it to read_table()** |\n",
    "| **`pd.DataFrame(dict)`** | **From a dict, keys for columns names, values for data as lists** |"
   ]
  },
  {
   "cell_type": "markdown",
   "metadata": {
    "id": "eLlW6XoE50ca"
   },
   "source": [
    "## Exporting Data\n",
    "\n",
    "| Operator | Description |\n",
    "|:---- |:---- |\n",
    "| **`df.to_csv(filename)`** | **Write to a CSV file** |\n",
    "| **`df.to_excel(filename)`** | **Write to an Excel file** |\n",
    "| **`df.to_sql(table_name, connection_object)`** | **Write to a SQL table** |\n",
    "| **`df.to_json(filename)`** | **Write to a file in JSON format** |"
   ]
  }
 ],
 "metadata": {
  "colab": {
   "provenance": []
  },
  "kernelspec": {
   "display_name": "Python 3 (ipykernel)",
   "language": "python",
   "name": "python3"
  },
  "language_info": {
   "codemirror_mode": {
    "name": "ipython",
    "version": 3
   },
   "file_extension": ".py",
   "mimetype": "text/x-python",
   "name": "python",
   "nbconvert_exporter": "python",
   "pygments_lexer": "ipython3",
   "version": "3.11.5"
  }
 },
 "nbformat": 4,
 "nbformat_minor": 1
}
