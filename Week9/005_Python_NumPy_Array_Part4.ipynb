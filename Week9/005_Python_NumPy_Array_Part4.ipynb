{
 "cells": [
  {
   "cell_type": "markdown",
   "metadata": {},
   "source": [
    "## Arrays reorganizing"
   ]
  },
  {
   "cell_type": "markdown",
   "metadata": {},
   "source": [
    "### `arange()`\n",
    "\n",
    "The **`arange()`** is an inbuilt numpy function that returns an ndarray object containing evenly spaced values within a defined interval. For instance, you want to create values from 1 to 10; you can use **`arange()`** function.\n",
    "\n",
    "**Syntax:**\n",
    "```python\n",
    "numpy.arange(start, stop,step) \n",
    "```\n",
    "* **`start`**: Start of interval\n",
    "* **`stop`**: End of interval\n",
    "* **`step`**: Spacing between values. Default step is 1"
   ]
  },
  {
   "cell_type": "code",
   "execution_count": 2,
   "metadata": {
    "ExecuteTime": {
     "end_time": "2021-07-06T15:01:01.958575Z",
     "start_time": "2021-07-06T15:01:01.772054Z"
    },
    "scrolled": true
   },
   "outputs": [
    {
     "data": {
      "text/plain": [
       "array([ 1,  2,  3,  4,  5,  6,  7,  8,  9, 10])"
      ]
     },
     "execution_count": 2,
     "metadata": {},
     "output_type": "execute_result"
    }
   ],
   "source": [
    "# Example 1:\n",
    "\n",
    "import numpy as np\n",
    "np.arange(1, 11)"
   ]
  },
  {
   "cell_type": "markdown",
   "metadata": {},
   "source": [
    "If you want to change the step, you can add a third number in the parenthesis. It will change the step."
   ]
  },
  {
   "cell_type": "code",
   "execution_count": 5,
   "metadata": {
    "ExecuteTime": {
     "end_time": "2021-07-06T15:01:02.126052Z",
     "start_time": "2021-07-06T15:01:01.965409Z"
    }
   },
   "outputs": [
    {
     "data": {
      "text/plain": [
       "array([ 1,  5,  9, 13])"
      ]
     },
     "execution_count": 5,
     "metadata": {},
     "output_type": "execute_result"
    }
   ],
   "source": [
    "# Example 2:\n",
    "\n",
    "import numpy as np\n",
    "np.arange(1, 14, 4)"
   ]
  },
  {
   "cell_type": "code",
   "execution_count": 6,
   "metadata": {
    "ExecuteTime": {
     "end_time": "2021-07-06T15:01:02.211013Z",
     "start_time": "2021-07-06T15:01:02.130937Z"
    },
    "scrolled": false
   },
   "outputs": [
    {
     "data": {
      "text/plain": [
       "array([ 0,  2,  4,  6,  8, 10])"
      ]
     },
     "execution_count": 6,
     "metadata": {},
     "output_type": "execute_result"
    }
   ],
   "source": [
    "np.arange(0,11,2)   # even no by adding a step size"
   ]
  },
  {
   "cell_type": "code",
   "execution_count": 7,
   "metadata": {
    "ExecuteTime": {
     "end_time": "2021-07-06T15:01:02.304274Z",
     "start_time": "2021-07-06T15:01:02.214922Z"
    }
   },
   "outputs": [
    {
     "data": {
      "text/plain": [
       "array([1, 3, 5, 7, 9])"
      ]
     },
     "execution_count": 7,
     "metadata": {},
     "output_type": "execute_result"
    }
   ],
   "source": [
    "np.arange(1,11,2)   # odd no"
   ]
  },
  {
   "cell_type": "markdown",
   "metadata": {},
   "source": [
    "### Reshape Data\n",
    "\n",
    "In some occasions, you need to reshape the data from wide to long. You can use the reshape function for this. \n",
    "\n",
    "**Syntax:** \n",
    "```python\n",
    "numpy.reshape(a, newShape, order='C')\n",
    "```\n",
    "* **`a: Array`** that you want to reshape\n",
    "* **`newShape`**: The new desires shape\n",
    "* **`order`**: Default is **`C`** which is an essential row style."
   ]
  },
  {
   "cell_type": "code",
   "execution_count": 1,
   "metadata": {
    "ExecuteTime": {
     "end_time": "2021-07-06T15:01:02.411696Z",
     "start_time": "2021-07-06T15:01:02.315015Z"
    },
    "scrolled": true
   },
   "outputs": [
    {
     "name": "stdout",
     "output_type": "stream",
     "text": [
      "[[1 2 3]\n",
      " [4 5 6]]\n"
     ]
    },
    {
     "data": {
      "text/plain": [
       "array([[1, 2],\n",
       "       [3, 4],\n",
       "       [5, 6]])"
      ]
     },
     "execution_count": 1,
     "metadata": {},
     "output_type": "execute_result"
    }
   ],
   "source": [
    "import numpy as np\n",
    "\n",
    "e  = np.array([(1,2,3), (4,5,6)])\n",
    "print(e)\n",
    "e.reshape(3,2)"
   ]
  },
  {
   "cell_type": "markdown",
   "metadata": {},
   "source": [
    "### Broadcasting with array reorganizing \n",
    "\n",
    "It's super cool and super useful. The one-line explanation is that when doing elementwise operations, things expand to the \"correct\" shape."
   ]
  },
  {
   "cell_type": "code",
   "execution_count": 2,
   "metadata": {
    "ExecuteTime": {
     "end_time": "2021-07-06T15:01:02.503980Z",
     "start_time": "2021-07-06T15:01:02.417556Z"
    },
    "scrolled": true
   },
   "outputs": [
    {
     "name": "stdout",
     "output_type": "stream",
     "text": [
      "x:   [0 1 2 3 4]\n",
      "x+1: [1 2 3 4 5]\n",
      "\n",
      "y:  \n",
      "[[0.32868583 0.63129471 0.00445107 0.70757464 0.10198788]\n",
      " [0.87702771 0.23507173 0.1115813  0.50613393 0.36622745]]\n",
      "y+1:\n",
      "[[1.32868583 1.63129471 1.00445107 1.70757464 1.10198788]\n",
      " [1.87702771 1.23507173 1.1115813  1.50613393 1.36622745]]\n"
     ]
    }
   ],
   "source": [
    "# add a scalar to a 1-d array\n",
    "x = np.arange(5)\n",
    "print('x:  ', x)\n",
    "print('x+1:', x + 1, end='\\n\\n')\n",
    "\n",
    "y = np.random.uniform(size=(2, 5))\n",
    "print('y:  ', y,  sep='\\n')\n",
    "print('y+1:', y + 1, sep='\\n')"
   ]
  },
  {
   "cell_type": "markdown",
   "metadata": {},
   "source": [
    "Since `x` is shaped `(5,)` and `y` is shaped `(2,5)` we can do operations between them."
   ]
  },
  {
   "cell_type": "code",
   "execution_count": 3,
   "metadata": {
    "ExecuteTime": {
     "end_time": "2021-07-06T15:01:02.628979Z",
     "start_time": "2021-07-06T15:01:02.509842Z"
    }
   },
   "outputs": [
    {
     "data": {
      "text/plain": [
       "array([[0.        , 0.63129471, 0.00890214, 2.12272392, 0.40795152],\n",
       "       [0.        , 0.23507173, 0.2231626 , 1.51840179, 1.46490979]])"
      ]
     },
     "execution_count": 3,
     "metadata": {},
     "output_type": "execute_result"
    }
   ],
   "source": [
    "x * y"
   ]
  },
  {
   "cell_type": "markdown",
   "metadata": {},
   "source": [
    "Without broadcasting we'd have to manually reshape our arrays, which quickly gets annoying."
   ]
  },
  {
   "cell_type": "code",
   "execution_count": 4,
   "metadata": {
    "ExecuteTime": {
     "end_time": "2021-07-06T15:01:02.753491Z",
     "start_time": "2021-07-06T15:01:02.634841Z"
    }
   },
   "outputs": [
    {
     "data": {
      "text/plain": [
       "array([[0.        , 0.63129471, 0.00890214, 2.12272392, 0.40795152],\n",
       "       [0.        , 0.23507173, 0.2231626 , 1.51840179, 1.46490979]])"
      ]
     },
     "execution_count": 4,
     "metadata": {},
     "output_type": "execute_result"
    }
   ],
   "source": [
    "x.reshape(1, -1).repeat(2, axis=0) * y"
   ]
  },
  {
   "cell_type": "code",
   "execution_count": 7,
   "metadata": {},
   "outputs": [
    {
     "name": "stdout",
     "output_type": "stream",
     "text": [
      "[[0 1 2 3 4]\n",
      " [0 1 2 3 4]]\n"
     ]
    }
   ],
   "source": [
    "print(x.reshape(1, -1).repeat(2, axis=0))"
   ]
  },
  {
   "cell_type": "code",
   "execution_count": 6,
   "metadata": {
    "ExecuteTime": {
     "end_time": "2021-07-06T15:01:02.862866Z",
     "start_time": "2021-07-06T15:01:02.757399Z"
    },
    "scrolled": true
   },
   "outputs": [
    {
     "name": "stdout",
     "output_type": "stream",
     "text": [
      "[[1 2 3 4]\n",
      " [5 6 7 8]]\n",
      "[[1 2 3 4]\n",
      " [5 6 7 8]]\n"
     ]
    }
   ],
   "source": [
    "before = np.array([[1,2,3,4],[5,6,7,8]])\n",
    "print(before)\n",
    "\n",
    "after = before.reshape((2,4))\n",
    "print(after)"
   ]
  },
  {
   "cell_type": "code",
   "execution_count": 7,
   "metadata": {},
   "outputs": [
    {
     "name": "stdout",
     "output_type": "stream",
     "text": [
      "[[1 2]\n",
      " [3 4]\n",
      " [5 6]\n",
      " [7 8]]\n"
     ]
    }
   ],
   "source": [
    "after = before.reshape((4,2))\n",
    "print(after)"
   ]
  },
  {
   "cell_type": "markdown",
   "metadata": {},
   "source": [
    "### Flatten Data\n",
    "\n",
    "When you deal with some neural network like convnet, you need to flatten the array. You can use **`flatten()`**.\n",
    "\n",
    "**Syntax:** \n",
    "```python\n",
    "numpy.flatten(order='C')\n",
    "```\n",
    "* **`a: Array`** that you want to reshape\n",
    "* **`newShape`**: The new desires shape\n",
    "* **`order`**: Default is **`C`** which is an essential row style."
   ]
  },
  {
   "cell_type": "code",
   "execution_count": 8,
   "metadata": {
    "ExecuteTime": {
     "end_time": "2021-07-06T15:01:02.955151Z",
     "start_time": "2021-07-06T15:01:02.867751Z"
    }
   },
   "outputs": [
    {
     "data": {
      "text/plain": [
       "array([1, 2, 3, 4, 5, 6])"
      ]
     },
     "execution_count": 8,
     "metadata": {},
     "output_type": "execute_result"
    }
   ],
   "source": [
    "e.flatten()"
   ]
  },
  {
   "cell_type": "markdown",
   "metadata": {},
   "source": [
    "### What is `hstack`?\n",
    "\n",
    "With **`hstack`** you can appened data horizontally. This is a very convinient function in Numpy. Lets study it with an example:"
   ]
  },
  {
   "cell_type": "code",
   "execution_count": 14,
   "metadata": {
    "ExecuteTime": {
     "end_time": "2021-07-06T15:01:02.970776Z",
     "start_time": "2021-07-06T15:01:02.958081Z"
    }
   },
   "outputs": [
    {
     "name": "stdout",
     "output_type": "stream",
     "text": [
      "Horizontal Append: [1 2 3 4 5 6]\n"
     ]
    }
   ],
   "source": [
    "## Horitzontal Stack\n",
    "\n",
    "import numpy as np\n",
    "f = np.array([1,2,3])\n",
    "g = np.array([4,5,6])\n",
    "\n",
    "print('Horizontal Append:', np.hstack((f, g)))"
   ]
  },
  {
   "cell_type": "code",
   "execution_count": 15,
   "metadata": {
    "ExecuteTime": {
     "end_time": "2021-07-06T15:01:03.094802Z",
     "start_time": "2021-07-06T15:01:02.973707Z"
    }
   },
   "outputs": [
    {
     "data": {
      "text/plain": [
       "array([[1., 1., 1., 1., 0., 0.],\n",
       "       [1., 1., 1., 1., 0., 0.]])"
      ]
     },
     "execution_count": 15,
     "metadata": {},
     "output_type": "execute_result"
    }
   ],
   "source": [
    "# Horizontal  stack\n",
    "\n",
    "h1 = np.ones((2,4))\n",
    "h2 = np.zeros((2,2))\n",
    "\n",
    "np.hstack((h1,h2))"
   ]
  },
  {
   "cell_type": "markdown",
   "metadata": {},
   "source": [
    "### What is `vstack`?\n",
    "\n",
    "With **`vstack`** you can appened data vertically. Lets study it with an example:"
   ]
  },
  {
   "cell_type": "code",
   "execution_count": 9,
   "metadata": {
    "ExecuteTime": {
     "end_time": "2021-07-06T15:01:03.203200Z",
     "start_time": "2021-07-06T15:01:03.097730Z"
    }
   },
   "outputs": [
    {
     "name": "stdout",
     "output_type": "stream",
     "text": [
      "Vertical Append: \n",
      " [[1 2 3]\n",
      " [4 5 6]]\n"
     ]
    }
   ],
   "source": [
    "## Vertical Stack\n",
    "\n",
    "import numpy as np\n",
    "f = np.array([1,2,3])\n",
    "g = np.array([4,5,6])\n",
    "\n",
    "print('Vertical Append: \\n', np.vstack((f, g)))"
   ]
  },
  {
   "cell_type": "code",
   "execution_count": 17,
   "metadata": {
    "ExecuteTime": {
     "end_time": "2021-07-06T15:01:03.328195Z",
     "start_time": "2021-07-06T15:01:03.206127Z"
    }
   },
   "outputs": [
    {
     "data": {
      "text/plain": [
       "array([[1, 2, 3, 4],\n",
       "       [5, 6, 7, 8],\n",
       "       [1, 2, 3, 4],\n",
       "       [5, 6, 7, 8]])"
      ]
     },
     "execution_count": 17,
     "metadata": {},
     "output_type": "execute_result"
    }
   ],
   "source": [
    "# Vertically stacking vectors\n",
    "\n",
    "v1 = np.array([1,2,3,4])\n",
    "v2 = np.array([5,6,7,8])\n",
    "\n",
    "np.vstack([v1,v2,v1,v2])"
   ]
  },
  {
   "cell_type": "markdown",
   "metadata": {},
   "source": [
    "### Generate Random Numbers\n",
    "\n",
    "To generate random numbers for Gaussian distribution use:\n",
    "\n",
    "**Syntax:**\n",
    "```python\n",
    "numpy.random.normal(loc, scale, size)\n",
    "```\n",
    "* **`loc`**: the mean. The center of distribution\n",
    "* **`scale`**: standard deviation.\n",
    "* **`size`**: number of returns"
   ]
  },
  {
   "cell_type": "code",
   "execution_count": 10,
   "metadata": {
    "ExecuteTime": {
     "end_time": "2021-07-06T15:01:03.482980Z",
     "start_time": "2021-07-06T15:01:03.334057Z"
    },
    "scrolled": true
   },
   "outputs": [
    {
     "name": "stdout",
     "output_type": "stream",
     "text": [
      "[[4.30802362 4.88087118]\n",
      " [5.39995972 4.4251042 ]\n",
      " [5.02526007 5.03731235]\n",
      " [4.89090515 4.32137995]\n",
      " [5.21493089 5.15613492]\n",
      " [5.04357467 5.20420125]\n",
      " [5.65002749 4.83717443]\n",
      " [5.30272026 5.26349679]\n",
      " [5.84715053 4.61273483]\n",
      " [5.29609019 4.97293191]]\n"
     ]
    }
   ],
   "source": [
    "## Generate random number from normal distribution\n",
    "\n",
    "normal_array = np.random.normal(5, 0.5, (10,2))\n",
    "print(normal_array)"
   ]
  },
  {
   "cell_type": "markdown",
   "metadata": {},
   "source": [
    "### Linspace\n",
    "\n",
    "Linspace gives evenly spaced samples.\n",
    "\n",
    "**Syntax:**\n",
    "```python\n",
    "numpy.linspace(start, stop, num, endpoint)\n",
    "```\n",
    "* **`start`**: Start of sequence\n",
    "* **`stop`**: End of sequence\n",
    "* **`num`**: Number of samples to generate. Default is 50\n",
    "* **`endpoint`**: If **`True`** (default), stop is the last value. If **`False`**, stop value is not included."
   ]
  },
  {
   "cell_type": "code",
   "execution_count": 12,
   "metadata": {
    "ExecuteTime": {
     "end_time": "2021-07-06T15:01:03.594308Z",
     "start_time": "2021-07-06T15:01:03.488351Z"
    }
   },
   "outputs": [
    {
     "data": {
      "text/plain": [
       "array([ 0.,  2.,  4.,  6.,  8., 10.])"
      ]
     },
     "execution_count": 12,
     "metadata": {},
     "output_type": "execute_result"
    }
   ],
   "source": [
    "# Example:\n",
    "\n",
    "import numpy as np\n",
    "np.linspace(0,10,6) "
   ]
  },
  {
   "cell_type": "code",
   "execution_count": 2,
   "metadata": {
    "ExecuteTime": {
     "end_time": "2021-07-06T15:01:03.713934Z",
     "start_time": "2021-07-06T15:01:03.605053Z"
    }
   },
   "outputs": [
    {
     "data": {
      "text/plain": [
       "array([1.        , 1.44444444, 1.88888889, 2.33333333, 2.77777778,\n",
       "       3.22222222, 3.66666667, 4.11111111, 4.55555556, 5.        ])"
      ]
     },
     "execution_count": 2,
     "metadata": {},
     "output_type": "execute_result"
    }
   ],
   "source": [
    "# Example: For instance, it can be used to create 10 values from 1 to 5 evenly spaced.\n",
    "\n",
    "import numpy as np\n",
    "np.linspace(1.0, 5.0, num=10)"
   ]
  },
  {
   "cell_type": "markdown",
   "metadata": {},
   "source": [
    "If you do not want to include the last digit in the interval, you can set endpoint to **`False`**"
   ]
  },
  {
   "cell_type": "code",
   "execution_count": 4,
   "metadata": {
    "ExecuteTime": {
     "end_time": "2021-07-06T15:01:03.821847Z",
     "start_time": "2021-07-06T15:01:03.719799Z"
    }
   },
   "outputs": [
    {
     "data": {
      "text/plain": [
       "array([1. , 1.8, 2.6, 3.4, 4.2])"
      ]
     },
     "execution_count": 4,
     "metadata": {},
     "output_type": "execute_result"
    }
   ],
   "source": [
    "np.linspace(1.0, 5.0, num=5, endpoint=False)"
   ]
  },
  {
   "cell_type": "markdown",
   "metadata": {},
   "source": [
    "### LogSpace\n",
    "\n",
    "LogSpace returns even spaced numbers on a log scale. Logspace has the same parameters as **`np.linspace`**.\n",
    "\n",
    "**Syntax:**\n",
    "```python\n",
    "numpy.logspace(start, stop, num, endpoint)\n",
    "```\n",
    "* **`start`**: Start of sequence\n",
    "* **`stop`**: End of sequence\n",
    "* **`num`**: Number of samples to generate. Default is 50\n",
    "* **`endpoint`**: If **`True`** (default), stop is the last value. If **`False`**, stop value is not included."
   ]
  },
  {
   "cell_type": "code",
   "execution_count": 22,
   "metadata": {
    "ExecuteTime": {
     "end_time": "2021-07-06T15:01:03.962961Z",
     "start_time": "2021-07-06T15:01:03.824777Z"
    }
   },
   "outputs": [
    {
     "data": {
      "text/plain": [
       "array([ 1000.        ,  2154.43469003,  4641.58883361, 10000.        ])"
      ]
     },
     "execution_count": 22,
     "metadata": {},
     "output_type": "execute_result"
    }
   ],
   "source": [
    "# Example:\n",
    "\n",
    "np.logspace(3.0, 4.0, num=4)#10**(np.linspace(3.,4.,num=4))"
   ]
  },
  {
   "cell_type": "code",
   "execution_count": 13,
   "metadata": {},
   "outputs": [
    {
     "data": {
      "text/plain": [
       "array([ 1000.        ,  2154.43469003,  4641.58883361, 10000.        ])"
      ]
     },
     "execution_count": 13,
     "metadata": {},
     "output_type": "execute_result"
    }
   ],
   "source": [
    "10**(np.linspace(3.,4.,num=4))"
   ]
  },
  {
   "cell_type": "markdown",
   "metadata": {},
   "source": [
    "Finaly, if you want to check the memory size of an element in an array, you can use **`.itemsize`**"
   ]
  },
  {
   "cell_type": "code",
   "execution_count": 14,
   "metadata": {
    "ExecuteTime": {
     "end_time": "2021-07-06T15:01:04.070380Z",
     "start_time": "2021-07-06T15:01:03.972725Z"
    }
   },
   "outputs": [
    {
     "data": {
      "text/plain": [
       "4"
      ]
     },
     "execution_count": 14,
     "metadata": {},
     "output_type": "execute_result"
    }
   ],
   "source": [
    "x = np.array([1,2,3], dtype=np.float32)\n",
    "x.itemsize"
   ]
  },
  {
   "cell_type": "markdown",
   "metadata": {},
   "source": [
    "## Statistics\n",
    "\n",
    "NumPy has quite a few useful statistical functions for finding minimum, maximum, percentile standard deviation and variance, etc from the given elements in the array. The functions are explained as follows −"
   ]
  },
  {
   "cell_type": "markdown",
   "metadata": {},
   "source": [
    "Numpy is equipped with the robust statistical function as listed below:\n",
    "\n",
    "| Function | Numpy |\n",
    "|:----: |:---- |\n",
    "| **`Min`**                | **np.min()** | \n",
    "| **`Max`**                | **np.max()** | \n",
    "| **`Mean`**               | **np.mean()** | \n",
    "| **`Median`**             | **np.median()** | \n",
    "| **`Standard deviation`** | **np.std()** | "
   ]
  },
  {
   "cell_type": "code",
   "execution_count": 15,
   "metadata": {
    "ExecuteTime": {
     "end_time": "2021-07-06T15:01:04.196356Z",
     "start_time": "2021-07-06T15:01:04.076241Z"
    }
   },
   "outputs": [
    {
     "name": "stdout",
     "output_type": "stream",
     "text": [
      "[5.051311   4.60512499 5.10237689 5.98122375 4.216026   4.80739818\n",
      " 5.00386019 5.04876161 5.33614096 4.72875345]\n"
     ]
    }
   ],
   "source": [
    "# Consider the following Array\n",
    "\n",
    "import numpy as np\n",
    "\n",
    "normal_array = np.random.normal(5, 0.5, 10)\n",
    "print(normal_array)"
   ]
  },
  {
   "cell_type": "code",
   "execution_count": 16,
   "metadata": {
    "ExecuteTime": {
     "end_time": "2021-07-06T15:01:04.366276Z",
     "start_time": "2021-07-06T15:01:04.200262Z"
    }
   },
   "outputs": [
    {
     "name": "stdout",
     "output_type": "stream",
     "text": [
      "4.216025997680019\n",
      "5.981223748202368\n",
      "4.988097700971334\n",
      "5.026310904072112\n",
      "0.44396984617595064\n"
     ]
    }
   ],
   "source": [
    "# Example:Statistical function\n",
    "\n",
    "### Min \n",
    "print(np.min(normal_array))\n",
    "\n",
    "### Max \n",
    "print(np.max(normal_array))\n",
    "\n",
    "### Mean \n",
    "print(np.mean(normal_array))\n",
    "\n",
    "### Median\n",
    "print(np.median(normal_array))\n",
    "\n",
    "### Sd\n",
    "print(np.std(normal_array))"
   ]
  },
  {
   "cell_type": "code",
   "execution_count": 26,
   "metadata": {
    "ExecuteTime": {
     "end_time": "2021-07-06T15:01:04.460025Z",
     "start_time": "2021-07-06T15:01:04.369208Z"
    }
   },
   "outputs": [
    {
     "data": {
      "text/plain": [
       "array([[1, 2, 3],\n",
       "       [4, 5, 6]])"
      ]
     },
     "execution_count": 26,
     "metadata": {},
     "output_type": "execute_result"
    }
   ],
   "source": [
    "stats = np.array([[1,2,3],[4,5,6]])\n",
    "stats"
   ]
  },
  {
   "cell_type": "code",
   "execution_count": 27,
   "metadata": {
    "ExecuteTime": {
     "end_time": "2021-07-06T15:01:04.553777Z",
     "start_time": "2021-07-06T15:01:04.462957Z"
    }
   },
   "outputs": [
    {
     "data": {
      "text/plain": [
       "1"
      ]
     },
     "execution_count": 27,
     "metadata": {},
     "output_type": "execute_result"
    }
   ],
   "source": [
    "np.min(stats)"
   ]
  },
  {
   "cell_type": "code",
   "execution_count": 28,
   "metadata": {
    "ExecuteTime": {
     "end_time": "2021-07-06T15:01:04.666079Z",
     "start_time": "2021-07-06T15:01:04.559638Z"
    }
   },
   "outputs": [
    {
     "data": {
      "text/plain": [
       "array([3, 6])"
      ]
     },
     "execution_count": 28,
     "metadata": {},
     "output_type": "execute_result"
    }
   ],
   "source": [
    "np.max(stats, axis=1)"
   ]
  },
  {
   "cell_type": "code",
   "execution_count": 29,
   "metadata": {
    "ExecuteTime": {
     "end_time": "2021-07-06T15:01:04.772523Z",
     "start_time": "2021-07-06T15:01:04.673896Z"
    }
   },
   "outputs": [
    {
     "data": {
      "text/plain": [
       "array([5, 7, 9])"
      ]
     },
     "execution_count": 29,
     "metadata": {},
     "output_type": "execute_result"
    }
   ],
   "source": [
    "np.sum(stats, axis=0)"
   ]
  },
  {
   "cell_type": "markdown",
   "metadata": {},
   "source": [
    "### Load Data from File\n",
    "\n",
    "you can download the \"data.txt\" from **[here](https://github.com/milaan9/09_Python_NumPy_Module/blob/main/data.txt)**"
   ]
  },
  {
   "cell_type": "code",
   "execution_count": 19,
   "metadata": {
    "ExecuteTime": {
     "end_time": "2021-07-06T15:01:04.975650Z",
     "start_time": "2021-07-06T15:01:04.779363Z"
    }
   },
   "outputs": [
    {
     "name": "stdout",
     "output_type": "stream",
     "text": [
      "[[  1  13  21  11 196  75   4   3  34   6   7   8   0   1   2   3   4   5]\n",
      " [  3  42  12  33 766  75   4  55   6   4   3   4   5   6   7   0  11  12]\n",
      " [  1  22  33  11 999  11   2   1  78   0   1   2   9   8   7   1  76  88]]\n"
     ]
    }
   ],
   "source": [
    "filedata = np.genfromtxt('data.txt', delimiter=',')\n",
    "filedata = filedata.astype('int32') # you can also change type to 'int64'\n",
    "print(filedata)"
   ]
  },
  {
   "cell_type": "code",
   "execution_count": null,
   "metadata": {},
   "outputs": [],
   "source": []
  }
 ],
 "metadata": {
  "hide_input": false,
  "kernelspec": {
   "display_name": "Python 3 (ipykernel)",
   "language": "python",
   "name": "python3"
  },
  "language_info": {
   "codemirror_mode": {
    "name": "ipython",
    "version": 3
   },
   "file_extension": ".py",
   "mimetype": "text/x-python",
   "name": "python",
   "nbconvert_exporter": "python",
   "pygments_lexer": "ipython3",
   "version": "3.11.5"
  },
  "toc": {
   "base_numbering": 1,
   "nav_menu": {},
   "number_sections": true,
   "sideBar": true,
   "skip_h1_title": false,
   "title_cell": "Table of Contents",
   "title_sidebar": "Contents",
   "toc_cell": false,
   "toc_position": {
    "height": "calc(100% - 180px)",
    "left": "10px",
    "top": "150px",
    "width": "208px"
   },
   "toc_section_display": true,
   "toc_window_display": false
  },
  "varInspector": {
   "cols": {
    "lenName": 16,
    "lenType": 16,
    "lenVar": 40
   },
   "kernels_config": {
    "python": {
     "delete_cmd_postfix": "",
     "delete_cmd_prefix": "del ",
     "library": "var_list.py",
     "varRefreshCmd": "print(var_dic_list())"
    },
    "r": {
     "delete_cmd_postfix": ") ",
     "delete_cmd_prefix": "rm(",
     "library": "var_list.r",
     "varRefreshCmd": "cat(var_dic_list()) "
    }
   },
   "types_to_exclude": [
    "module",
    "function",
    "builtin_function_or_method",
    "instance",
    "_Feature"
   ],
   "window_display": false
  }
 },
 "nbformat": 4,
 "nbformat_minor": 2
}
