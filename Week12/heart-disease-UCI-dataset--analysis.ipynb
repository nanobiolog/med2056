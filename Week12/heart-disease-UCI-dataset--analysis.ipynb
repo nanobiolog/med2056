{
 "cells": [
  {
   "cell_type": "markdown",
   "id": "56b42db7",
   "metadata": {},
   "source": [
    "# Heart Disease UCI Dataset\n",
    "\n",
    "## Overview\n",
    "\n",
    "The \"Heart Disease UCI\" dataset is a collection of medical data related to the presence or absence of heart disease. The dataset is commonly used for machine learning and statistical analysis to predict heart disease based on various patient attributes.\n",
    "\n",
    "## Variables\n",
    "\n",
    "1. **age:**\n",
    "   - *Description:* Age of the patient.\n",
    "   - *Data Type:* Numeric.\n",
    "\n",
    "2. **sex:**\n",
    "   - *Description:* Gender of the patient.\n",
    "   - *Data Type:* Categorical (1 = male, 0 = female).\n",
    "\n",
    "3. **cp (chest pain type):**\n",
    "   - *Description:* Type of chest pain the patient is experiencing.\n",
    "   - *Data Type:* Categorical.\n",
    "   - *Values:* \n",
    "     - 0: Typical angina\n",
    "     - 1: Atypical angina\n",
    "     - 2: Non-anginal pain\n",
    "     - 3: Asymptomatic\n",
    "\n",
    "4. **trestbps (resting blood pressure):**\n",
    "   - *Description:* Resting blood pressure of the patient (in mm Hg).\n",
    "   - *Data Type:* Numeric.\n",
    "\n",
    "5. **chol (serum cholesterol):**\n",
    "   - *Description:* Serum cholesterol level of the patient (in mg/dl).\n",
    "   - *Data Type:* Numeric.\n",
    "\n",
    "6. **fbs (fasting blood sugar):**\n",
    "   - *Description:* Fasting blood sugar level.\n",
    "   - *Data Type:* Categorical (1 = greater than 120 mg/dl, 0 = otherwise).\n",
    "\n",
    "7. **restecg (resting electrocardiographic results):**\n",
    "   - *Description:* Resting electrocardiographic results.\n",
    "   - *Data Type:* Categorical.\n",
    "   - *Values:*\n",
    "     - 0: Normal\n",
    "     - 1: Having ST-T wave abnormality\n",
    "     - 2: Showing probable or definite left ventricular hypertrophy\n",
    "\n",
    "8. **thalach (maximum heart rate achieved):**\n",
    "   - *Description:* Maximum heart rate achieved during exercise.\n",
    "   - *Data Type:* Numeric.\n",
    "\n",
    "9. **exang (exercise-induced angina):**\n",
    "   - *Description:* Whether the patient experienced exercise-induced angina.\n",
    "   - *Data Type:* Categorical (1 = yes, 0 = no).\n",
    "\n",
    "10. **oldpeak (ST depression induced by exercise relative to rest):**\n",
    "    - *Description:* ST depression induced by exercise relative to rest.\n",
    "    - *Data Type:* Numeric.\n",
    "\n",
    "11. **slope (slope of the peak exercise ST segment):**\n",
    "    - *Description:* Slope of the peak exercise ST segment.\n",
    "    - *Data Type:* Categorical.\n",
    "    - *Values:*\n",
    "      - 0: Upsloping\n",
    "      - 1: Flat\n",
    "      - 2: Downsloping\n",
    "\n",
    "12. **ca (number of major vessels colored by fluoroscopy):**\n",
    "    - *Description:* Number of major vessels colored by fluoroscopy.\n",
    "    - *Data Type:* Numeric.\n",
    "\n",
    "13. **thal:**\n",
    "    - *Description:* Thalassemia.\n",
    "    - *Data Type:* Categorical.\n",
    "    - *Values:*\n",
    "      - 0: Normal\n",
    "      - 1: Fixed defect\n",
    "      - 2: Reversible defect\n",
    "\n",
    "14. **target:**\n",
    "    - *Description:* Presence or absence of heart disease.\n",
    "    - *Data Type:* Categorical (1 = presence, 0 = absence).\n",
    "\n",
    "** Chest Pain Types (cp) in \"Heart Disease UCI\" Dataset\n",
    "\n",
    "The variable \"cp\" in this dataset represents different categories for chest pain types. Below is an explanation of each category:\n",
    "\n",
    " **0: Typical Angina**\n",
    "   - *Description:* Chest pain that is typical or characteristic. It is often described as discomfort or pressure in the chest, triggered by physical exertion or stress, and tends to improve with rest or nitroglycerin.\n",
    "\n",
    " **1: Atypical Angina**\n",
    "   - *Description:* Chest pain that deviates from the typical pattern of classic angina. It may be less pronounced, with varying characteristics. It might not be triggered by exertion or stress, and relief with rest or medication may not be as clear.\n",
    "\n",
    " **2: Non-Anginal Pain**\n",
    "   - *Description:* Chest discomfort or pain that is not related to angina. This category includes a broader range of chest pain with different potential causes, such as musculoskeletal issues, respiratory problems, or other non-cardiac sources.\n",
    "\n",
    " **3: Asymptomatic**\n",
    "   - *Description:* Absence of chest pain symptoms. A value of 3 in the \"cp\" variable indicates that the patient is not experiencing any chest pain or discomfort.\n",
    "\n",
    "Understanding the type of chest pain is crucial for assessing and diagnosing cardiovascular conditions. The \"cp\" variable provides insights into the nature of chest pain experienced by patients in the dataset.\n"
   ]
  },
  {
   "cell_type": "markdown",
   "id": "8f08edb9",
   "metadata": {
    "papermill": {
     "duration": 0.006287,
     "end_time": "2023-11-10T04:25:45.736897",
     "exception": false,
     "start_time": "2023-11-10T04:25:45.730610",
     "status": "completed"
    },
    "tags": []
   },
   "source": [
    "# ***Goal for this Analysis***\n",
    "\n",
    "1. What age group is most vulnerable or has a large number of patients with a higher risk of heart attack?\n",
    "2. Are men mostly prone to heart attacks or women?\n",
    "3. What chest pain types pose a severe risk of a heart attack?\n",
    "4. How fasting blood sugar is related to heart attack?\n",
    "5. Due to cholesterol, how many patients are at higher risk?\n",
    "6. What is the cross-relation between continuous features?"
   ]
  },
  {
   "cell_type": "code",
   "execution_count": 13,
   "id": "5fba914b",
   "metadata": {
    "_cell_guid": "b1076dfc-b9ad-4769-8c92-a6c4dae69d19",
    "_uuid": "8f2839f25d086af736a60e9eeb907d3b93b6e0e5",
    "execution": {
     "iopub.execute_input": "2023-11-10T04:25:45.751086Z",
     "iopub.status.busy": "2023-11-10T04:25:45.750003Z",
     "iopub.status.idle": "2023-11-10T04:25:47.391935Z",
     "shell.execute_reply": "2023-11-10T04:25:47.390791Z"
    },
    "papermill": {
     "duration": 1.651672,
     "end_time": "2023-11-10T04:25:47.394533",
     "exception": false,
     "start_time": "2023-11-10T04:25:45.742861",
     "status": "completed"
    },
    "tags": []
   },
   "outputs": [],
   "source": [
    "#Importing libraries for this Project\n",
    "import numpy as np # linear algebra\n",
    "import pandas as pd # data processing, CSV file I/O (e.g. pd.read_csv)\n",
    "import matplotlib.pyplot as plt\n",
    "import seaborn as sns"
   ]
  },
  {
   "cell_type": "code",
   "execution_count": 14,
   "id": "840f18d6",
   "metadata": {
    "execution": {
     "iopub.execute_input": "2023-11-10T04:25:47.408209Z",
     "iopub.status.busy": "2023-11-10T04:25:47.407695Z",
     "iopub.status.idle": "2023-11-10T04:25:47.455824Z",
     "shell.execute_reply": "2023-11-10T04:25:47.454814Z"
    },
    "papermill": {
     "duration": 0.057637,
     "end_time": "2023-11-10T04:25:47.458185",
     "exception": false,
     "start_time": "2023-11-10T04:25:47.400548",
     "status": "completed"
    },
    "tags": []
   },
   "outputs": [
    {
     "data": {
      "text/html": [
       "<div>\n",
       "<style scoped>\n",
       "    .dataframe tbody tr th:only-of-type {\n",
       "        vertical-align: middle;\n",
       "    }\n",
       "\n",
       "    .dataframe tbody tr th {\n",
       "        vertical-align: top;\n",
       "    }\n",
       "\n",
       "    .dataframe thead th {\n",
       "        text-align: right;\n",
       "    }\n",
       "</style>\n",
       "<table border=\"1\" class=\"dataframe\">\n",
       "  <thead>\n",
       "    <tr style=\"text-align: right;\">\n",
       "      <th></th>\n",
       "      <th>age</th>\n",
       "      <th>sex</th>\n",
       "      <th>cp</th>\n",
       "      <th>trestbps</th>\n",
       "      <th>chol</th>\n",
       "      <th>fbs</th>\n",
       "      <th>restecg</th>\n",
       "      <th>thalach</th>\n",
       "      <th>exang</th>\n",
       "      <th>oldpeak</th>\n",
       "      <th>slope</th>\n",
       "      <th>ca</th>\n",
       "      <th>thal</th>\n",
       "      <th>target</th>\n",
       "    </tr>\n",
       "  </thead>\n",
       "  <tbody>\n",
       "    <tr>\n",
       "      <th>1020</th>\n",
       "      <td>59</td>\n",
       "      <td>1</td>\n",
       "      <td>1</td>\n",
       "      <td>140</td>\n",
       "      <td>221</td>\n",
       "      <td>0</td>\n",
       "      <td>1</td>\n",
       "      <td>164</td>\n",
       "      <td>1</td>\n",
       "      <td>0.0</td>\n",
       "      <td>2</td>\n",
       "      <td>0</td>\n",
       "      <td>2</td>\n",
       "      <td>1</td>\n",
       "    </tr>\n",
       "    <tr>\n",
       "      <th>1021</th>\n",
       "      <td>60</td>\n",
       "      <td>1</td>\n",
       "      <td>0</td>\n",
       "      <td>125</td>\n",
       "      <td>258</td>\n",
       "      <td>0</td>\n",
       "      <td>0</td>\n",
       "      <td>141</td>\n",
       "      <td>1</td>\n",
       "      <td>2.8</td>\n",
       "      <td>1</td>\n",
       "      <td>1</td>\n",
       "      <td>3</td>\n",
       "      <td>0</td>\n",
       "    </tr>\n",
       "    <tr>\n",
       "      <th>1022</th>\n",
       "      <td>47</td>\n",
       "      <td>1</td>\n",
       "      <td>0</td>\n",
       "      <td>110</td>\n",
       "      <td>275</td>\n",
       "      <td>0</td>\n",
       "      <td>0</td>\n",
       "      <td>118</td>\n",
       "      <td>1</td>\n",
       "      <td>1.0</td>\n",
       "      <td>1</td>\n",
       "      <td>1</td>\n",
       "      <td>2</td>\n",
       "      <td>0</td>\n",
       "    </tr>\n",
       "    <tr>\n",
       "      <th>1023</th>\n",
       "      <td>50</td>\n",
       "      <td>0</td>\n",
       "      <td>0</td>\n",
       "      <td>110</td>\n",
       "      <td>254</td>\n",
       "      <td>0</td>\n",
       "      <td>0</td>\n",
       "      <td>159</td>\n",
       "      <td>0</td>\n",
       "      <td>0.0</td>\n",
       "      <td>2</td>\n",
       "      <td>0</td>\n",
       "      <td>2</td>\n",
       "      <td>1</td>\n",
       "    </tr>\n",
       "    <tr>\n",
       "      <th>1024</th>\n",
       "      <td>54</td>\n",
       "      <td>1</td>\n",
       "      <td>0</td>\n",
       "      <td>120</td>\n",
       "      <td>188</td>\n",
       "      <td>0</td>\n",
       "      <td>1</td>\n",
       "      <td>113</td>\n",
       "      <td>0</td>\n",
       "      <td>1.4</td>\n",
       "      <td>1</td>\n",
       "      <td>1</td>\n",
       "      <td>3</td>\n",
       "      <td>0</td>\n",
       "    </tr>\n",
       "  </tbody>\n",
       "</table>\n",
       "</div>"
      ],
      "text/plain": [
       "      age  sex  cp  trestbps  chol  fbs  restecg  thalach  exang  oldpeak  \\\n",
       "1020   59    1   1       140   221    0        1      164      1      0.0   \n",
       "1021   60    1   0       125   258    0        0      141      1      2.8   \n",
       "1022   47    1   0       110   275    0        0      118      1      1.0   \n",
       "1023   50    0   0       110   254    0        0      159      0      0.0   \n",
       "1024   54    1   0       120   188    0        1      113      0      1.4   \n",
       "\n",
       "      slope  ca  thal  target  \n",
       "1020      2   0     2       1  \n",
       "1021      1   1     3       0  \n",
       "1022      1   1     2       0  \n",
       "1023      2   0     2       1  \n",
       "1024      1   1     3       0  "
      ]
     },
     "execution_count": 14,
     "metadata": {},
     "output_type": "execute_result"
    }
   ],
   "source": [
    "#Reading the Dataset\n",
    "df = pd.read_csv('heart.csv')\n",
    "df.tail()"
   ]
  },
  {
   "cell_type": "code",
   "execution_count": 15,
   "id": "f78b5c68",
   "metadata": {
    "execution": {
     "iopub.execute_input": "2023-11-10T04:25:47.472903Z",
     "iopub.status.busy": "2023-11-10T04:25:47.472067Z",
     "iopub.status.idle": "2023-11-10T04:25:47.521367Z",
     "shell.execute_reply": "2023-11-10T04:25:47.520209Z"
    },
    "papermill": {
     "duration": 0.059605,
     "end_time": "2023-11-10T04:25:47.524256",
     "exception": false,
     "start_time": "2023-11-10T04:25:47.464651",
     "status": "completed"
    },
    "tags": []
   },
   "outputs": [
    {
     "data": {
      "text/html": [
       "<div>\n",
       "<style scoped>\n",
       "    .dataframe tbody tr th:only-of-type {\n",
       "        vertical-align: middle;\n",
       "    }\n",
       "\n",
       "    .dataframe tbody tr th {\n",
       "        vertical-align: top;\n",
       "    }\n",
       "\n",
       "    .dataframe thead th {\n",
       "        text-align: right;\n",
       "    }\n",
       "</style>\n",
       "<table border=\"1\" class=\"dataframe\">\n",
       "  <thead>\n",
       "    <tr style=\"text-align: right;\">\n",
       "      <th></th>\n",
       "      <th>age</th>\n",
       "      <th>sex</th>\n",
       "      <th>cp</th>\n",
       "      <th>trestbps</th>\n",
       "      <th>chol</th>\n",
       "      <th>fbs</th>\n",
       "      <th>restecg</th>\n",
       "      <th>thalach</th>\n",
       "      <th>exang</th>\n",
       "      <th>oldpeak</th>\n",
       "      <th>slope</th>\n",
       "      <th>ca</th>\n",
       "      <th>thal</th>\n",
       "      <th>target</th>\n",
       "    </tr>\n",
       "  </thead>\n",
       "  <tbody>\n",
       "    <tr>\n",
       "      <th>count</th>\n",
       "      <td>1025.000000</td>\n",
       "      <td>1025.000000</td>\n",
       "      <td>1025.000000</td>\n",
       "      <td>1025.000000</td>\n",
       "      <td>1025.00000</td>\n",
       "      <td>1025.000000</td>\n",
       "      <td>1025.000000</td>\n",
       "      <td>1025.000000</td>\n",
       "      <td>1025.000000</td>\n",
       "      <td>1025.000000</td>\n",
       "      <td>1025.000000</td>\n",
       "      <td>1025.000000</td>\n",
       "      <td>1025.000000</td>\n",
       "      <td>1025.000000</td>\n",
       "    </tr>\n",
       "    <tr>\n",
       "      <th>mean</th>\n",
       "      <td>54.434146</td>\n",
       "      <td>0.695610</td>\n",
       "      <td>0.942439</td>\n",
       "      <td>131.611707</td>\n",
       "      <td>246.00000</td>\n",
       "      <td>0.149268</td>\n",
       "      <td>0.529756</td>\n",
       "      <td>149.114146</td>\n",
       "      <td>0.336585</td>\n",
       "      <td>1.071512</td>\n",
       "      <td>1.385366</td>\n",
       "      <td>0.754146</td>\n",
       "      <td>2.323902</td>\n",
       "      <td>0.513171</td>\n",
       "    </tr>\n",
       "    <tr>\n",
       "      <th>std</th>\n",
       "      <td>9.072290</td>\n",
       "      <td>0.460373</td>\n",
       "      <td>1.029641</td>\n",
       "      <td>17.516718</td>\n",
       "      <td>51.59251</td>\n",
       "      <td>0.356527</td>\n",
       "      <td>0.527878</td>\n",
       "      <td>23.005724</td>\n",
       "      <td>0.472772</td>\n",
       "      <td>1.175053</td>\n",
       "      <td>0.617755</td>\n",
       "      <td>1.030798</td>\n",
       "      <td>0.620660</td>\n",
       "      <td>0.500070</td>\n",
       "    </tr>\n",
       "    <tr>\n",
       "      <th>min</th>\n",
       "      <td>29.000000</td>\n",
       "      <td>0.000000</td>\n",
       "      <td>0.000000</td>\n",
       "      <td>94.000000</td>\n",
       "      <td>126.00000</td>\n",
       "      <td>0.000000</td>\n",
       "      <td>0.000000</td>\n",
       "      <td>71.000000</td>\n",
       "      <td>0.000000</td>\n",
       "      <td>0.000000</td>\n",
       "      <td>0.000000</td>\n",
       "      <td>0.000000</td>\n",
       "      <td>0.000000</td>\n",
       "      <td>0.000000</td>\n",
       "    </tr>\n",
       "    <tr>\n",
       "      <th>25%</th>\n",
       "      <td>48.000000</td>\n",
       "      <td>0.000000</td>\n",
       "      <td>0.000000</td>\n",
       "      <td>120.000000</td>\n",
       "      <td>211.00000</td>\n",
       "      <td>0.000000</td>\n",
       "      <td>0.000000</td>\n",
       "      <td>132.000000</td>\n",
       "      <td>0.000000</td>\n",
       "      <td>0.000000</td>\n",
       "      <td>1.000000</td>\n",
       "      <td>0.000000</td>\n",
       "      <td>2.000000</td>\n",
       "      <td>0.000000</td>\n",
       "    </tr>\n",
       "    <tr>\n",
       "      <th>50%</th>\n",
       "      <td>56.000000</td>\n",
       "      <td>1.000000</td>\n",
       "      <td>1.000000</td>\n",
       "      <td>130.000000</td>\n",
       "      <td>240.00000</td>\n",
       "      <td>0.000000</td>\n",
       "      <td>1.000000</td>\n",
       "      <td>152.000000</td>\n",
       "      <td>0.000000</td>\n",
       "      <td>0.800000</td>\n",
       "      <td>1.000000</td>\n",
       "      <td>0.000000</td>\n",
       "      <td>2.000000</td>\n",
       "      <td>1.000000</td>\n",
       "    </tr>\n",
       "    <tr>\n",
       "      <th>75%</th>\n",
       "      <td>61.000000</td>\n",
       "      <td>1.000000</td>\n",
       "      <td>2.000000</td>\n",
       "      <td>140.000000</td>\n",
       "      <td>275.00000</td>\n",
       "      <td>0.000000</td>\n",
       "      <td>1.000000</td>\n",
       "      <td>166.000000</td>\n",
       "      <td>1.000000</td>\n",
       "      <td>1.800000</td>\n",
       "      <td>2.000000</td>\n",
       "      <td>1.000000</td>\n",
       "      <td>3.000000</td>\n",
       "      <td>1.000000</td>\n",
       "    </tr>\n",
       "    <tr>\n",
       "      <th>max</th>\n",
       "      <td>77.000000</td>\n",
       "      <td>1.000000</td>\n",
       "      <td>3.000000</td>\n",
       "      <td>200.000000</td>\n",
       "      <td>564.00000</td>\n",
       "      <td>1.000000</td>\n",
       "      <td>2.000000</td>\n",
       "      <td>202.000000</td>\n",
       "      <td>1.000000</td>\n",
       "      <td>6.200000</td>\n",
       "      <td>2.000000</td>\n",
       "      <td>4.000000</td>\n",
       "      <td>3.000000</td>\n",
       "      <td>1.000000</td>\n",
       "    </tr>\n",
       "  </tbody>\n",
       "</table>\n",
       "</div>"
      ],
      "text/plain": [
       "               age          sex           cp     trestbps        chol  \\\n",
       "count  1025.000000  1025.000000  1025.000000  1025.000000  1025.00000   \n",
       "mean     54.434146     0.695610     0.942439   131.611707   246.00000   \n",
       "std       9.072290     0.460373     1.029641    17.516718    51.59251   \n",
       "min      29.000000     0.000000     0.000000    94.000000   126.00000   \n",
       "25%      48.000000     0.000000     0.000000   120.000000   211.00000   \n",
       "50%      56.000000     1.000000     1.000000   130.000000   240.00000   \n",
       "75%      61.000000     1.000000     2.000000   140.000000   275.00000   \n",
       "max      77.000000     1.000000     3.000000   200.000000   564.00000   \n",
       "\n",
       "               fbs      restecg      thalach        exang      oldpeak  \\\n",
       "count  1025.000000  1025.000000  1025.000000  1025.000000  1025.000000   \n",
       "mean      0.149268     0.529756   149.114146     0.336585     1.071512   \n",
       "std       0.356527     0.527878    23.005724     0.472772     1.175053   \n",
       "min       0.000000     0.000000    71.000000     0.000000     0.000000   \n",
       "25%       0.000000     0.000000   132.000000     0.000000     0.000000   \n",
       "50%       0.000000     1.000000   152.000000     0.000000     0.800000   \n",
       "75%       0.000000     1.000000   166.000000     1.000000     1.800000   \n",
       "max       1.000000     2.000000   202.000000     1.000000     6.200000   \n",
       "\n",
       "             slope           ca         thal       target  \n",
       "count  1025.000000  1025.000000  1025.000000  1025.000000  \n",
       "mean      1.385366     0.754146     2.323902     0.513171  \n",
       "std       0.617755     1.030798     0.620660     0.500070  \n",
       "min       0.000000     0.000000     0.000000     0.000000  \n",
       "25%       1.000000     0.000000     2.000000     0.000000  \n",
       "50%       1.000000     0.000000     2.000000     1.000000  \n",
       "75%       2.000000     1.000000     3.000000     1.000000  \n",
       "max       2.000000     4.000000     3.000000     1.000000  "
      ]
     },
     "execution_count": 15,
     "metadata": {},
     "output_type": "execute_result"
    }
   ],
   "source": [
    "#Displaying all the values of the dataset\n",
    "df.describe()"
   ]
  },
  {
   "cell_type": "code",
   "execution_count": 16,
   "id": "8fcdab72",
   "metadata": {
    "execution": {
     "iopub.execute_input": "2023-11-10T04:25:47.539430Z",
     "iopub.status.busy": "2023-11-10T04:25:47.538503Z",
     "iopub.status.idle": "2023-11-10T04:25:47.564789Z",
     "shell.execute_reply": "2023-11-10T04:25:47.563734Z"
    },
    "papermill": {
     "duration": 0.03742,
     "end_time": "2023-11-10T04:25:47.568119",
     "exception": false,
     "start_time": "2023-11-10T04:25:47.530699",
     "status": "completed"
    },
    "tags": []
   },
   "outputs": [
    {
     "name": "stdout",
     "output_type": "stream",
     "text": [
      "<class 'pandas.core.frame.DataFrame'>\n",
      "RangeIndex: 1025 entries, 0 to 1024\n",
      "Data columns (total 14 columns):\n",
      " #   Column    Non-Null Count  Dtype  \n",
      "---  ------    --------------  -----  \n",
      " 0   age       1025 non-null   int64  \n",
      " 1   sex       1025 non-null   int64  \n",
      " 2   cp        1025 non-null   int64  \n",
      " 3   trestbps  1025 non-null   int64  \n",
      " 4   chol      1025 non-null   int64  \n",
      " 5   fbs       1025 non-null   int64  \n",
      " 6   restecg   1025 non-null   int64  \n",
      " 7   thalach   1025 non-null   int64  \n",
      " 8   exang     1025 non-null   int64  \n",
      " 9   oldpeak   1025 non-null   float64\n",
      " 10  slope     1025 non-null   int64  \n",
      " 11  ca        1025 non-null   int64  \n",
      " 12  thal      1025 non-null   int64  \n",
      " 13  target    1025 non-null   int64  \n",
      "dtypes: float64(1), int64(13)\n",
      "memory usage: 112.2 KB\n"
     ]
    }
   ],
   "source": [
    "#Showing all the values and datatype\n",
    "df.info()"
   ]
  },
  {
   "cell_type": "markdown",
   "id": "22238a7a",
   "metadata": {
    "papermill": {
     "duration": 0.006398,
     "end_time": "2023-11-10T04:25:47.581022",
     "exception": false,
     "start_time": "2023-11-10T04:25:47.574624",
     "status": "completed"
    },
    "tags": []
   },
   "source": [
    "# ***Data Cleaning and Preparing***"
   ]
  },
  {
   "cell_type": "markdown",
   "id": "687f3594",
   "metadata": {
    "papermill": {
     "duration": 0.006351,
     "end_time": "2023-11-10T04:25:47.594315",
     "exception": false,
     "start_time": "2023-11-10T04:25:47.587964",
     "status": "completed"
    },
    "tags": []
   },
   "source": [
    "### ***Remove all the unwanted columns***"
   ]
  },
  {
   "cell_type": "code",
   "execution_count": 17,
   "id": "a6bbe6a6",
   "metadata": {
    "execution": {
     "iopub.execute_input": "2023-11-10T04:25:47.609056Z",
     "iopub.status.busy": "2023-11-10T04:25:47.608664Z",
     "iopub.status.idle": "2023-11-10T04:25:47.614908Z",
     "shell.execute_reply": "2023-11-10T04:25:47.614164Z"
    },
    "papermill": {
     "duration": 0.016045,
     "end_time": "2023-11-10T04:25:47.616833",
     "exception": false,
     "start_time": "2023-11-10T04:25:47.600788",
     "status": "completed"
    },
    "tags": []
   },
   "outputs": [
    {
     "data": {
      "text/plain": [
       "Index(['age', 'sex', 'cp', 'trestbps', 'chol', 'fbs', 'restecg', 'thalach',\n",
       "       'exang', 'oldpeak', 'slope', 'ca', 'thal', 'target'],\n",
       "      dtype='object')"
      ]
     },
     "execution_count": 17,
     "metadata": {},
     "output_type": "execute_result"
    }
   ],
   "source": [
    "#Showing all the columns available\n",
    "df.columns"
   ]
  },
  {
   "cell_type": "code",
   "execution_count": 18,
   "id": "35f133e0",
   "metadata": {
    "execution": {
     "iopub.execute_input": "2023-11-10T04:25:47.632474Z",
     "iopub.status.busy": "2023-11-10T04:25:47.631732Z",
     "iopub.status.idle": "2023-11-10T04:25:47.645899Z",
     "shell.execute_reply": "2023-11-10T04:25:47.645084Z"
    },
    "papermill": {
     "duration": 0.024297,
     "end_time": "2023-11-10T04:25:47.647964",
     "exception": false,
     "start_time": "2023-11-10T04:25:47.623667",
     "status": "completed"
    },
    "tags": []
   },
   "outputs": [
    {
     "data": {
      "text/html": [
       "<div>\n",
       "<style scoped>\n",
       "    .dataframe tbody tr th:only-of-type {\n",
       "        vertical-align: middle;\n",
       "    }\n",
       "\n",
       "    .dataframe tbody tr th {\n",
       "        vertical-align: top;\n",
       "    }\n",
       "\n",
       "    .dataframe thead th {\n",
       "        text-align: right;\n",
       "    }\n",
       "</style>\n",
       "<table border=\"1\" class=\"dataframe\">\n",
       "  <thead>\n",
       "    <tr style=\"text-align: right;\">\n",
       "      <th></th>\n",
       "      <th>age</th>\n",
       "      <th>sex</th>\n",
       "      <th>cp</th>\n",
       "      <th>chol</th>\n",
       "      <th>fbs</th>\n",
       "      <th>thal</th>\n",
       "      <th>target</th>\n",
       "    </tr>\n",
       "  </thead>\n",
       "  <tbody>\n",
       "    <tr>\n",
       "      <th>0</th>\n",
       "      <td>52</td>\n",
       "      <td>1</td>\n",
       "      <td>0</td>\n",
       "      <td>212</td>\n",
       "      <td>0</td>\n",
       "      <td>3</td>\n",
       "      <td>0</td>\n",
       "    </tr>\n",
       "    <tr>\n",
       "      <th>1</th>\n",
       "      <td>53</td>\n",
       "      <td>1</td>\n",
       "      <td>0</td>\n",
       "      <td>203</td>\n",
       "      <td>1</td>\n",
       "      <td>3</td>\n",
       "      <td>0</td>\n",
       "    </tr>\n",
       "    <tr>\n",
       "      <th>2</th>\n",
       "      <td>70</td>\n",
       "      <td>1</td>\n",
       "      <td>0</td>\n",
       "      <td>174</td>\n",
       "      <td>0</td>\n",
       "      <td>3</td>\n",
       "      <td>0</td>\n",
       "    </tr>\n",
       "    <tr>\n",
       "      <th>3</th>\n",
       "      <td>61</td>\n",
       "      <td>1</td>\n",
       "      <td>0</td>\n",
       "      <td>203</td>\n",
       "      <td>0</td>\n",
       "      <td>3</td>\n",
       "      <td>0</td>\n",
       "    </tr>\n",
       "    <tr>\n",
       "      <th>4</th>\n",
       "      <td>62</td>\n",
       "      <td>0</td>\n",
       "      <td>0</td>\n",
       "      <td>294</td>\n",
       "      <td>1</td>\n",
       "      <td>2</td>\n",
       "      <td>0</td>\n",
       "    </tr>\n",
       "  </tbody>\n",
       "</table>\n",
       "</div>"
      ],
      "text/plain": [
       "   age  sex  cp  chol  fbs  thal  target\n",
       "0   52    1   0   212    0     3       0\n",
       "1   53    1   0   203    1     3       0\n",
       "2   70    1   0   174    0     3       0\n",
       "3   61    1   0   203    0     3       0\n",
       "4   62    0   0   294    1     2       0"
      ]
     },
     "execution_count": 18,
     "metadata": {},
     "output_type": "execute_result"
    }
   ],
   "source": [
    "#Removing unwanted columns\n",
    "df = df.drop(['trestbps', 'restecg', 'thalach', 'exang', 'oldpeak', 'slope', 'ca'], axis = 1)\n",
    "df.head()"
   ]
  },
  {
   "cell_type": "markdown",
   "id": "5d905179",
   "metadata": {
    "papermill": {
     "duration": 0.008825,
     "end_time": "2023-11-10T04:25:47.663783",
     "exception": false,
     "start_time": "2023-11-10T04:25:47.654958",
     "status": "completed"
    },
    "tags": []
   },
   "source": [
    "### ***Checking for NULL value and duplicate value and cleaning it***"
   ]
  },
  {
   "cell_type": "code",
   "execution_count": 19,
   "id": "51aa1193",
   "metadata": {
    "execution": {
     "iopub.execute_input": "2023-11-10T04:25:47.679698Z",
     "iopub.status.busy": "2023-11-10T04:25:47.678947Z",
     "iopub.status.idle": "2023-11-10T04:25:47.685976Z",
     "shell.execute_reply": "2023-11-10T04:25:47.685214Z"
    },
    "papermill": {
     "duration": 0.01717,
     "end_time": "2023-11-10T04:25:47.687878",
     "exception": false,
     "start_time": "2023-11-10T04:25:47.670708",
     "status": "completed"
    },
    "tags": []
   },
   "outputs": [
    {
     "data": {
      "text/plain": [
       "age       0\n",
       "sex       0\n",
       "cp        0\n",
       "chol      0\n",
       "fbs       0\n",
       "thal      0\n",
       "target    0\n",
       "dtype: int64"
      ]
     },
     "execution_count": 19,
     "metadata": {},
     "output_type": "execute_result"
    }
   ],
   "source": [
    "df.isnull().sum()"
   ]
  },
  {
   "cell_type": "markdown",
   "id": "16bd8b8d",
   "metadata": {
    "papermill": {
     "duration": 0.0071,
     "end_time": "2023-11-10T04:25:47.778567",
     "exception": false,
     "start_time": "2023-11-10T04:25:47.771467",
     "status": "completed"
    },
    "tags": []
   },
   "source": [
    "# ***1. What age group is most vulnerable or has a large number of patients with a higher risk of heart attack?***"
   ]
  },
  {
   "cell_type": "code",
   "execution_count": 20,
   "id": "bf56d399",
   "metadata": {
    "execution": {
     "iopub.execute_input": "2023-11-10T04:25:47.794826Z",
     "iopub.status.busy": "2023-11-10T04:25:47.794223Z",
     "iopub.status.idle": "2023-11-10T04:25:47.801629Z",
     "shell.execute_reply": "2023-11-10T04:25:47.800840Z"
    },
    "papermill": {
     "duration": 0.017886,
     "end_time": "2023-11-10T04:25:47.803602",
     "exception": false,
     "start_time": "2023-11-10T04:25:47.785716",
     "status": "completed"
    },
    "tags": []
   },
   "outputs": [
    {
     "data": {
      "text/plain": [
       "target\n",
       "1    0.513171\n",
       "0    0.486829\n",
       "Name: proportion, dtype: float64"
      ]
     },
     "execution_count": 20,
     "metadata": {},
     "output_type": "execute_result"
    }
   ],
   "source": [
    "df['target'].value_counts(normalize=True)"
   ]
  },
  {
   "cell_type": "code",
   "execution_count": 21,
   "id": "03c84865",
   "metadata": {
    "execution": {
     "iopub.execute_input": "2023-11-10T04:25:47.820468Z",
     "iopub.status.busy": "2023-11-10T04:25:47.819846Z",
     "iopub.status.idle": "2023-11-10T04:25:48.185386Z",
     "shell.execute_reply": "2023-11-10T04:25:48.184383Z"
    },
    "papermill": {
     "duration": 0.376578,
     "end_time": "2023-11-10T04:25:48.187588",
     "exception": false,
     "start_time": "2023-11-10T04:25:47.811010",
     "status": "completed"
    },
    "tags": []
   },
   "outputs": [
    {
     "data": {
      "text/plain": [
       "<Figure size 1500x600 with 0 Axes>"
      ]
     },
     "execution_count": 21,
     "metadata": {},
     "output_type": "execute_result"
    },
    {
     "data": {
      "image/png": "[encoded data removed]",
      "text/plain": [
       "<Figure size 640x480 with 1 Axes>"
      ]
     },
     "metadata": {},
     "output_type": "display_data"
    },
    {
     "data": {
      "text/plain": [
       "<Figure size 1500x600 with 0 Axes>"
      ]
     },
     "metadata": {},
     "output_type": "display_data"
    }
   ],
   "source": [
    "sns.countplot(x='target',data=df)\n",
    "plt.xticks([0,1],['less chance','more chance'])\n",
    "plt.title('Chances of heart disease')\n",
    "plt.figure(figsize=(15,6))"
   ]
  },
  {
   "cell_type": "code",
   "execution_count": 22,
   "id": "00e5ec1c",
   "metadata": {
    "execution": {
     "iopub.execute_input": "2023-11-10T04:25:48.205632Z",
     "iopub.status.busy": "2023-11-10T04:25:48.204995Z",
     "iopub.status.idle": "2023-11-10T04:25:48.448809Z",
     "shell.execute_reply": "2023-11-10T04:25:48.447735Z"
    },
    "papermill": {
     "duration": 0.255427,
     "end_time": "2023-11-10T04:25:48.451009",
     "exception": false,
     "start_time": "2023-11-10T04:25:48.195582",
     "status": "completed"
    },
    "tags": []
   },
   "outputs": [
    {
     "data": {
      "image/png": "[encoded data removed]",
      "text/plain": [
       "<Figure size 640x480 with 1 Axes>"
      ]
     },
     "metadata": {},
     "output_type": "display_data"
    }
   ],
   "source": [
    "df['age'].hist(bins=20)\n",
    "plt.xlabel('Age')\n",
    "plt.ylabel('No. of Person')\n",
    "plt.show()"
   ]
  },
  {
   "cell_type": "code",
   "execution_count": 23,
   "id": "f975a8a5",
   "metadata": {},
   "outputs": [
    {
     "name": "stderr",
     "output_type": "stream",
     "text": [
      "D:\\Anaconda3\\Lib\\site-packages\\seaborn\\axisgrid.py:118: UserWarning: The figure layout has changed to tight\n",
      "  self._figure.tight_layout(*args, **kwargs)\n"
     ]
    },
    {
     "data": {
      "image/png": "[encoded data removed]",
      "text/plain": [
       "<Figure size 500x500 with 1 Axes>"
      ]
     },
     "metadata": {},
     "output_type": "display_data"
    }
   ],
   "source": [
    "sns.catplot(x=\"target\", y=\"age\",kind=\"bar\",data=df);"
   ]
  },
  {
   "cell_type": "markdown",
   "id": "859480e3",
   "metadata": {
    "papermill": {
     "duration": 0.008046,
     "end_time": "2023-11-10T04:25:48.467459",
     "exception": false,
     "start_time": "2023-11-10T04:25:48.459413",
     "status": "completed"
    },
    "tags": []
   },
   "source": [
    "# ***2. Are men mostly prone to heart attacks or women?***"
   ]
  },
  {
   "cell_type": "code",
   "execution_count": 24,
   "id": "7de23b53",
   "metadata": {
    "execution": {
     "iopub.execute_input": "2023-11-10T04:25:48.485438Z",
     "iopub.status.busy": "2023-11-10T04:25:48.485028Z",
     "iopub.status.idle": "2023-11-10T04:25:48.709770Z",
     "shell.execute_reply": "2023-11-10T04:25:48.708610Z"
    },
    "papermill": {
     "duration": 0.236571,
     "end_time": "2023-11-10T04:25:48.712283",
     "exception": false,
     "start_time": "2023-11-10T04:25:48.475712",
     "status": "completed"
    },
    "tags": []
   },
   "outputs": [
    {
     "data": {
      "image/png": "[encoded data removed]",
      "text/plain": [
       "<Figure size 640x480 with 1 Axes>"
      ]
     },
     "metadata": {},
     "output_type": "display_data"
    }
   ],
   "source": [
    "sns.countplot(x='sex',data=df  )\n",
    "plt.title('Number of males and females')\n",
    "plt.xticks([0,1] , ['females','males'])\n",
    "plt.show()"
   ]
  },
  {
   "cell_type": "code",
   "execution_count": 25,
   "id": "f3b15ef8",
   "metadata": {
    "execution": {
     "iopub.execute_input": "2023-11-10T04:25:48.731109Z",
     "iopub.status.busy": "2023-11-10T04:25:48.730735Z",
     "iopub.status.idle": "2023-11-10T04:25:48.966764Z",
     "shell.execute_reply": "2023-11-10T04:25:48.965733Z"
    },
    "papermill": {
     "duration": 0.248365,
     "end_time": "2023-11-10T04:25:48.969229",
     "exception": false,
     "start_time": "2023-11-10T04:25:48.720864",
     "status": "completed"
    },
    "tags": []
   },
   "outputs": [
    {
     "data": {
      "text/plain": [
       "<matplotlib.legend.Legend at 0x22513a8c1d0>"
      ]
     },
     "execution_count": 25,
     "metadata": {},
     "output_type": "execute_result"
    },
    {
     "data": {
      "image/png": "[encoded data removed]",
      "text/plain": [
       "<Figure size 640x480 with 1 Axes>"
      ]
     },
     "metadata": {},
     "output_type": "display_data"
    }
   ],
   "source": [
    "sns.countplot(x='sex',data=df, hue ='target'  )\n",
    "plt.title('chances of heart disease  by gender')\n",
    "plt.xticks([0,1] ,['females','males'])\n",
    "plt.legend(labels=['less chance','high chance'])"
   ]
  },
  {
   "cell_type": "markdown",
   "id": "70bc4b29",
   "metadata": {
    "papermill": {
     "duration": 0.008666,
     "end_time": "2023-11-10T04:25:48.987079",
     "exception": false,
     "start_time": "2023-11-10T04:25:48.978413",
     "status": "completed"
    },
    "tags": []
   },
   "source": [
    "# ***3. What chest pain types pose a severe risk of a heart attack?***"
   ]
  },
  {
   "cell_type": "code",
   "execution_count": 35,
   "id": "72f4101d",
   "metadata": {
    "execution": {
     "iopub.execute_input": "2023-11-10T04:25:49.006805Z",
     "iopub.status.busy": "2023-11-10T04:25:49.006429Z",
     "iopub.status.idle": "2023-11-10T04:25:49.249014Z",
     "shell.execute_reply": "2023-11-10T04:25:49.247892Z"
    },
    "papermill": {
     "duration": 0.255637,
     "end_time": "2023-11-10T04:25:49.251735",
     "exception": false,
     "start_time": "2023-11-10T04:25:48.996098",
     "status": "completed"
    },
    "tags": []
   },
   "outputs": [
    {
     "data": {
      "text/plain": [
       "Text(0, 0.5, 'No. of Person')"
      ]
     },
     "execution_count": 35,
     "metadata": {},
     "output_type": "execute_result"
    },
    {
     "data": {
      "image/png": "[encoded data removed]",
      "text/plain": [
       "<Figure size 640x480 with 1 Axes>"
      ]
     },
     "metadata": {},
     "output_type": "display_data"
    }
   ],
   "source": [
    "df['cp'].value_counts().plot(kind='bar')\n",
    "plt.xticks([0,1,2,3],[\"typical angina\",\"atypical angina\",\"non-anginal pain\",\"asymptomatic\"],rotation=0)\n",
    "plt.xlabel('Chest Pain Type')\n",
    "plt.ylabel('No. of Person')"
   ]
  },
  {
   "cell_type": "code",
   "execution_count": 36,
   "id": "8aedff35",
   "metadata": {
    "execution": {
     "iopub.execute_input": "2023-11-10T04:25:49.273118Z",
     "iopub.status.busy": "2023-11-10T04:25:49.272730Z",
     "iopub.status.idle": "2023-11-10T04:25:49.601262Z",
     "shell.execute_reply": "2023-11-10T04:25:49.600235Z"
    },
    "papermill": {
     "duration": 0.342273,
     "end_time": "2023-11-10T04:25:49.603685",
     "exception": false,
     "start_time": "2023-11-10T04:25:49.261412",
     "status": "completed"
    },
    "tags": []
   },
   "outputs": [
    {
     "data": {
      "text/plain": [
       "<matplotlib.legend.Legend at 0x22518c7abd0>"
      ]
     },
     "execution_count": 36,
     "metadata": {},
     "output_type": "execute_result"
    },
    {
     "data": {
      "image/png": "[encoded data removed]",
      "text/plain": [
       "<Figure size 640x480 with 1 Axes>"
      ]
     },
     "metadata": {},
     "output_type": "display_data"
    }
   ],
   "source": [
    "sns.countplot(x='cp',hue='target',data=df)\n",
    "\n",
    "# formatting the plot\n",
    "\n",
    "plt.title('Relation between types of chest pain and number of people having high or low chances of heart attack')\n",
    "plt.xticks([0,1,2,3],[\"typical angina\",\"atypical angina\",\"non-anginal pain\",\"asymptomatic\"])\n",
    "plt.legend(labels=['low chance','high chance'])"
   ]
  },
  {
   "cell_type": "code",
   "execution_count": 41,
   "id": "93fce476",
   "metadata": {},
   "outputs": [
    {
     "name": "stdout",
     "output_type": "stream",
     "text": [
      "                 RelativeRisk\n",
      "typical angina       0.325333\n",
      "atypical angina      4.060606\n",
      "non-anginal pain     3.369231\n",
      "asymptomatic         1.961538\n"
     ]
    }
   ],
   "source": [
    "import pandas as pd\n",
    "import seaborn as sns\n",
    "cp_types=[\"typical angina\",\"atypical angina\",\"non-anginal pain\",\"asymptomatic\"]\n",
    "\n",
    "# Custom function to calculate relative risk\n",
    "def calculate_relative_risk(count_1, count_0):\n",
    "    return count_1 / count_0\n",
    "\n",
    "# Calculate the relative risk and store the results in a table\n",
    "table = pd.crosstab(df['cp'], df['target'])\n",
    "relative_risk_table = pd.DataFrame(index=cp_types, columns=['RelativeRisk'])\n",
    "\n",
    "for cp_type in table.index:\n",
    "    rr = calculate_relative_risk(table.loc[cp_type, 1], table.loc[cp_type, 0])\n",
    "    relative_risk_table.loc[cp_types[cp_type], 'RelativeRisk'] = rr\n",
    "\n",
    "# Print the relative risk table\n",
    "print(relative_risk_table)\n"
   ]
  },
  {
   "cell_type": "code",
   "execution_count": 40,
   "id": "1dd613d1",
   "metadata": {},
   "outputs": [
    {
     "data": {
      "text/html": [
       "<div>\n",
       "<style scoped>\n",
       "    .dataframe tbody tr th:only-of-type {\n",
       "        vertical-align: middle;\n",
       "    }\n",
       "\n",
       "    .dataframe tbody tr th {\n",
       "        vertical-align: top;\n",
       "    }\n",
       "\n",
       "    .dataframe thead th {\n",
       "        text-align: right;\n",
       "    }\n",
       "</style>\n",
       "<table border=\"1\" class=\"dataframe\">\n",
       "  <thead>\n",
       "    <tr style=\"text-align: right;\">\n",
       "      <th>target</th>\n",
       "      <th>0</th>\n",
       "      <th>1</th>\n",
       "    </tr>\n",
       "    <tr>\n",
       "      <th>cp</th>\n",
       "      <th></th>\n",
       "      <th></th>\n",
       "    </tr>\n",
       "  </thead>\n",
       "  <tbody>\n",
       "    <tr>\n",
       "      <th>0</th>\n",
       "      <td>375</td>\n",
       "      <td>122</td>\n",
       "    </tr>\n",
       "    <tr>\n",
       "      <th>1</th>\n",
       "      <td>33</td>\n",
       "      <td>134</td>\n",
       "    </tr>\n",
       "    <tr>\n",
       "      <th>2</th>\n",
       "      <td>65</td>\n",
       "      <td>219</td>\n",
       "    </tr>\n",
       "    <tr>\n",
       "      <th>3</th>\n",
       "      <td>26</td>\n",
       "      <td>51</td>\n",
       "    </tr>\n",
       "  </tbody>\n",
       "</table>\n",
       "</div>"
      ],
      "text/plain": [
       "target    0    1\n",
       "cp              \n",
       "0       375  122\n",
       "1        33  134\n",
       "2        65  219\n",
       "3        26   51"
      ]
     },
     "execution_count": 40,
     "metadata": {},
     "output_type": "execute_result"
    }
   ],
   "source": [
    "table"
   ]
  },
  {
   "cell_type": "code",
   "execution_count": 30,
   "id": "576fafcc",
   "metadata": {},
   "outputs": [
    {
     "name": "stdout",
     "output_type": "stream",
     "text": [
      "target    0    1\n",
      "cp              \n",
      "0       375  122\n",
      "1        33  134\n",
      "2        65  219\n",
      "3        26   51\n"
     ]
    }
   ],
   "source": [
    "print(table)"
   ]
  },
  {
   "cell_type": "markdown",
   "id": "762a9483",
   "metadata": {
    "papermill": {
     "duration": 0.009811,
     "end_time": "2023-11-10T04:25:49.624037",
     "exception": false,
     "start_time": "2023-11-10T04:25:49.614226",
     "status": "completed"
    },
    "tags": []
   },
   "source": [
    "# ***4. How fasting blood sugar is related to heart attack?***"
   ]
  },
  {
   "cell_type": "markdown",
   "id": "e9928673",
   "metadata": {
    "papermill": {
     "duration": 0.009817,
     "end_time": "2023-11-10T04:25:49.644106",
     "exception": false,
     "start_time": "2023-11-10T04:25:49.634289",
     "status": "completed"
    },
    "tags": []
   },
   "source": [
    "### ***Fasting blood sugar is the lowest amount of glucose present in the blood , when we have not eaten or drunk anything. Blood sugar level greater than 120 mg/dl is considered diabetic.***"
   ]
  },
  {
   "cell_type": "code",
   "execution_count": 42,
   "id": "d044fecd",
   "metadata": {
    "execution": {
     "iopub.execute_input": "2023-11-10T04:25:49.666577Z",
     "iopub.status.busy": "2023-11-10T04:25:49.665703Z",
     "iopub.status.idle": "2023-11-10T04:25:49.909641Z",
     "shell.execute_reply": "2023-11-10T04:25:49.908553Z"
    },
    "papermill": {
     "duration": 0.257602,
     "end_time": "2023-11-10T04:25:49.911812",
     "exception": false,
     "start_time": "2023-11-10T04:25:49.654210",
     "status": "completed"
    },
    "tags": []
   },
   "outputs": [
    {
     "data": {
      "text/plain": [
       "<matplotlib.legend.Legend at 0x22518d4d390>"
      ]
     },
     "execution_count": 42,
     "metadata": {},
     "output_type": "execute_result"
    },
    {
     "data": {
      "image/png": "[encoded data removed]",
      "text/plain": [
       "<Figure size 640x480 with 1 Axes>"
      ]
     },
     "metadata": {},
     "output_type": "display_data"
    }
   ],
   "source": [
    "sns.countplot(x='fbs' , hue='target',data=df)\n",
    "plt.legend(labels=['low chance','high chance'])"
   ]
  },
  {
   "cell_type": "markdown",
   "id": "2b80a8d2",
   "metadata": {
    "papermill": {
     "duration": 0.010307,
     "end_time": "2023-11-10T04:25:49.932684",
     "exception": false,
     "start_time": "2023-11-10T04:25:49.922377",
     "status": "completed"
    },
    "tags": []
   },
   "source": [
    "# ***5. Due to cholesterol, how many patients are at higher risk?***"
   ]
  },
  {
   "cell_type": "code",
   "execution_count": 32,
   "id": "1aa33860",
   "metadata": {
    "execution": {
     "iopub.execute_input": "2023-11-10T04:25:49.955378Z",
     "iopub.status.busy": "2023-11-10T04:25:49.954979Z",
     "iopub.status.idle": "2023-11-10T04:25:50.167610Z",
     "shell.execute_reply": "2023-11-10T04:25:50.166517Z"
    },
    "papermill": {
     "duration": 0.226943,
     "end_time": "2023-11-10T04:25:50.170030",
     "exception": false,
     "start_time": "2023-11-10T04:25:49.943087",
     "status": "completed"
    },
    "scrolled": true,
    "tags": []
   },
   "outputs": [
    {
     "data": {
      "image/png": "[encoded data removed]",
      "text/plain": [
       "<Figure size 640x480 with 1 Axes>"
      ]
     },
     "metadata": {},
     "output_type": "display_data"
    }
   ],
   "source": [
    "df['chol'].hist()\n",
    "plt.xlabel('Serum cholestoral (mg/dl)')\n",
    "plt.ylabel('No. of Person')\n",
    "plt.show()"
   ]
  },
  {
   "cell_type": "code",
   "execution_count": 33,
   "id": "3c9a6207",
   "metadata": {
    "scrolled": true
   },
   "outputs": [
    {
     "data": {
      "image/png": "[encoded data removed]",
      "text/plain": [
       "<Figure size 1000x600 with 1 Axes>"
      ]
     },
     "metadata": {},
     "output_type": "display_data"
    }
   ],
   "source": [
    "# Set the style of seaborn\n",
    "sns.set(style=\"whitegrid\")\n",
    "\n",
    "# Create a box plot to compare cholesterol levels for patients with and without heart disease\n",
    "plt.figure(figsize=(10, 6))\n",
    "sns.boxplot(x='target', y='chol', data=df, palette='viridis')\n",
    "plt.title('Cholesterol Levels and Heart Disease Risk')\n",
    "plt.xlabel('Presence of Heart Disease (0: No, 1: Yes)')\n",
    "plt.ylabel('Serum Cholesterol (mg/dl)')\n",
    "plt.show()"
   ]
  }
 ],
 "metadata": {
  "kernelspec": {
   "display_name": "Python 3 (ipykernel)",
   "language": "python",
   "name": "python3"
  },
  "language_info": {
   "codemirror_mode": {
    "name": "ipython",
    "version": 3
   },
   "file_extension": ".py",
   "mimetype": "text/x-python",
   "name": "python",
   "nbconvert_exporter": "python",
   "pygments_lexer": "ipython3",
   "version": "3.11.5"
  },
  "papermill": {
   "default_parameters": {},
   "duration": 7.898078,
   "end_time": "2023-11-10T04:25:50.701242",
   "environment_variables": {},
   "exception": null,
   "input_path": "__notebook__.ipynb",
   "output_path": "__notebook__.ipynb",
   "parameters": {},
   "start_time": "2023-11-10T04:25:42.803164",
   "version": "2.4.0"
  }
 },
 "nbformat": 4,
 "nbformat_minor": 5
}
